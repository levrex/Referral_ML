{
 "cells": [
  {
   "cell_type": "markdown",
   "id": "f251a7a5",
   "metadata": {},
   "source": [
    "# 1. Import referral letters\n",
    "\n",
    "ToDo: remove HTML tags?"
   ]
  },
  {
   "cell_type": "code",
   "execution_count": 1,
   "id": "afa86ce3",
   "metadata": {},
   "outputs": [],
   "source": [
    "import pandas as pd\n",
    "\n",
    "df_referral = pd.read_csv('../data/ZWN_verwijsbrieven.csv', sep=';')"
   ]
  },
  {
   "cell_type": "markdown",
   "id": "fcbef92d",
   "metadata": {},
   "source": [
    "### 1.1 Add RA label\n",
    "\n",
    "- ToDo: Consider removing ambiguous RA patietns? (otherwise might negatively impact performance)"
   ]
  },
  {
   "cell_type": "code",
   "execution_count": null,
   "id": "26c6191c",
   "metadata": {},
   "outputs": [],
   "source": [
    "# Get RA patients\n",
    "df_RA = pd.read_csv('../dict/list_ra_patients_icd.csv', sep=';')\n",
    "\n",
    "# OR get RA patients from stringent label\n",
    "#df_RA = pd.read_csv('../dict/Demographics_RA_stringent.csv', sep=';')\n",
    "l_patient = list(df_RA['Identifier'])\n",
    "\n",
    "print('Nr of RA patients:', len(l_patient))\n",
    "\n",
    "# Add RA diagnosis\n",
    "df_referral['RA'] = df_referral['Identifier'].apply(lambda x : int(x in l_patient))\n",
    "\n",
    "# Add time till diagnosis for RA patients \n",
    "df_extra_info = pd.read_csv('../dict/Demographics_RA_stringent.csv', sep=';')\n",
    "d_diag = dict(zip(df_extra_info['Identifier'], df_extra_info['FirstDiagnosis']))\n",
    "\n",
    "# Add time of first visit\n",
    "df_agenda =pd.read_csv('../data/ZWN_afspraak.csv', sep=',')\n",
    "df_first = df_agenda[df_agenda['Eerste_Afspraak']=='Ja']\n",
    "\n",
    "d_first = dict(zip(df_first['Identifier'], df_first['Datum']))\n",
    "\n",
    "df_referral['FirstDiagnosis'] = df_referral['Identifier'].apply(lambda x : d_diag[x] if x in d_diag.keys() else pd.NaT)\n",
    "df_referral['FirstVisit'] = df_referral['Identifier'].apply(lambda x : d_first[x] if x in d_first.keys() else pd.NaT)\n",
    "df_referral"
   ]
  },
  {
   "cell_type": "code",
   "execution_count": null,
   "id": "49b52eb3",
   "metadata": {},
   "outputs": [],
   "source": [
    "len(df_referral['Identifier'].unique())"
   ]
  },
  {
   "cell_type": "markdown",
   "id": "d64d920d",
   "metadata": {},
   "source": [
    "### Add fibromyalgia (FMS) label"
   ]
  },
  {
   "cell_type": "code",
   "execution_count": 25,
   "id": "b640376d",
   "metadata": {},
   "outputs": [],
   "source": [
    "import pandas as pd\n",
    "# get fibromyalgia patients\n",
    "df_FMS = pd.read_csv('../dict/list_fms_patients_icd.csv', sep=';')\n",
    "l_patient_fms = list(df_FMS['Identifier'])\n",
    "\n",
    "# Add FMS label\n",
    "df_referral['FMS'] = df_referral['Identifier'].apply(lambda x : int(x in l_patient_fms))"
   ]
  },
  {
   "cell_type": "markdown",
   "id": "b5f05381",
   "metadata": {},
   "source": [
    "### Add chronic patients"
   ]
  },
  {
   "cell_type": "code",
   "execution_count": 26,
   "id": "ce94b8c2",
   "metadata": {},
   "outputs": [],
   "source": [
    "# Get Chronic patients\n",
    "df_chronic = pd.read_csv('../dict/list_chronic_pat.csv', sep=';')\n",
    "l_patient_chronic = list(df_chronic['Identifier'])\n",
    "\n",
    "# Add Chronic label\n",
    "df_referral['Chronic'] = df_referral['Identifier'].apply(lambda x : int(x in l_patient_chronic))"
   ]
  },
  {
   "cell_type": "markdown",
   "id": "b88be3b8",
   "metadata": {},
   "source": [
    "### Add OA patients"
   ]
  },
  {
   "cell_type": "code",
   "execution_count": 27,
   "id": "418ab4e2",
   "metadata": {},
   "outputs": [],
   "source": [
    "# Get Chronic patients\n",
    "df_oa = pd.read_csv('../dict/list_oa_patients_icd.csv', sep=';')\n",
    "l_patient_oa = list(df_oa['Identifier'])\n",
    "\n",
    "# Add Chronic label\n",
    "df_referral['OA'] = df_referral['Identifier'].apply(lambda x : int(x in l_patient_oa))"
   ]
  },
  {
   "cell_type": "markdown",
   "id": "a8aa1322",
   "metadata": {},
   "source": [
    "### Add Arthralgia patients"
   ]
  },
  {
   "cell_type": "code",
   "execution_count": 28,
   "id": "df64c7a3",
   "metadata": {},
   "outputs": [],
   "source": [
    "# Get Chronic patients\n",
    "df_arthralgia = pd.read_csv('../dict/list_arthralgia_patients_icd.csv', sep=';')\n",
    "l_patient_arthralgia = list(df_arthralgia['Identifier'])\n",
    "\n",
    "# Add Chronic label\n",
    "df_referral['Arthralgia'] = df_referral['Identifier'].apply(lambda x : int(x in l_patient_arthralgia))"
   ]
  },
  {
   "cell_type": "markdown",
   "id": "6ad11bf2",
   "metadata": {},
   "source": [
    "# 2. Preprocessing"
   ]
  },
  {
   "cell_type": "code",
   "execution_count": 29,
   "id": "38df4796",
   "metadata": {},
   "outputs": [],
   "source": [
    "import re \n",
    "\n",
    "# header footer  List  Closing  Salutation  Note Heading  Strong Emphasis  E-mail HTML Top of Form HTML Bottom of Form  No List Outline  Subtle Reference  TOC Heading Plain  Plain\n",
    "\n",
    "\n",
    "def remove_html_artefacts(line):\n",
    "    new_line =  line.replace('\\x00', '') # remove null bytes\n",
    "    new_line = re.sub(r'\\\\[^ ]+', r'', new_line)\n",
    "    new_line = new_line.replace('}', '').replace('{', '').replace('Calibri (Vietnamese)', '').replace('envelope address;', '').replace('envelope return;', '')\n",
    "    \n",
    "    new_line = re.sub(r'(Kop 1|Kop 2|Kop 3|Subtle Reference|Bottom of Form|Top of Form|No List|No Spacing)', r'', new_line)\n",
    "    \n",
    "    # remove font names\n",
    "    new_line = re.sub(r'(Default Paragraph Font|Times New Roman|Calibri|Arial|Helvetica|Cambria) [^ ]+;', r'', new_line)\n",
    "    new_line = re.sub(r'(Default Paragraph Font|Times New Roman|Calibri|Arial|Helvetica|Cambria);', r'', new_line)\n",
    "    new_line = re.sub(r'Cambria [^ ]+ [^ ]+;', r'', new_line)\n",
    "    \n",
    "    # Remove special elements\n",
    "    new_line = re.sub(r'(Medium|Light|Intense|Quote|Colorful|Dark|Table|Balloon|Ballontekst|List|footnote|Normal|Grid|Closing|Body|table) .+;', r'', new_line)\n",
    "    new_line = re.sub(r'(macro|toa|toc|index|footnote|line|page|endnote|annotation|heading|Heading|Block|Plain|Document|Outline|HTML) [^ ]+;', r'', new_line)\n",
    "    new_line = re.sub(r'(Signature|Hyperlink|Date|caption|Normal|bottom|heading|Heading|Outline|Subtle|Form|Bottom|Emphasis|Strong|footer|header|Closing|List|Kop|Char|iText|1T3XT|Note|Salutation|Form|Top|TOC|bottom|HTML|Followed|Spacing|Plain)', r'', new_line)#new_text = re.sub(r'\\\\[^ ]+', r'', text)\n",
    "    ## Remove caps (in case it is from html or rich text, inferring caps lock) unless it is in another word (e.g. capsule)\n",
    "    new_line = re.sub(r'\\b(caps)\\b', r'', new_line)\n",
    "    \n",
    "    # Remove HEX numbers\n",
    "    new_line = re.sub(r\"(?<!'|-)\\b[0-9a-fA-F]{4,}\\b\", r'', new_line)\n",
    "    new_line = re.sub(' +', ' ',new_line)\n",
    "    # remove all \"'\"\n",
    "    new_line = re.sub(\"(?<!N)'\", ' ',new_line)\n",
    "    new_line = re.sub(\"(?<!\\));\", '', new_line)\n",
    "    new_line = re.sub(\"(N'([0-9a-fA-F\\-]){4,})\", \"\\g<1>'\", new_line) # add quote\n",
    "    new_line = new_line.replace(\" , NULL)\", \", NULL)\\n'\").replace('Calibri', '').replace('( )', '').replace('http://schemas.microsoft.com/office/word//wordml', '')\n",
    "    new_line = new_line.replace('E-mail', \"\")\n",
    "    return new_line "
   ]
  },
  {
   "cell_type": "code",
   "execution_count": null,
   "id": "7b2cc859",
   "metadata": {},
   "outputs": [],
   "source": [
    "### Initialize functions\n",
    "import Functions as func\n",
    "import time\n",
    "\n",
    "from sklearn.feature_extraction.text import TfidfVectorizer\n",
    "t = time.time()\n",
    "\n",
    "# replace nan with empty string for preprocessing\n",
    "df_referral['RTFscripted'] = df_referral['RTFscripted'].fillna('')\n",
    "# remove accent\n",
    "df_referral['proc_RTFscripted'] = df_referral['RTFscripted'].apply(lambda x : func.removeAccent(x))\n",
    "\n",
    "# remove accent\n",
    "df_referral['proc_RTFscripted'] = df_referral['proc_RTFscripted'].apply(lambda x : remove_html_artefacts(x))\n",
    "\n",
    "# Maybe delete non prevalent words as well? -> with TFIDF?\n",
    "print('Time to tokenize everything: {} mins'.format(round((time.time() - t) / 60, 2)))\n",
    "df_referral.head()"
   ]
  },
  {
   "cell_type": "markdown",
   "id": "19c1f342",
   "metadata": {},
   "source": [
    "### 2.1 Add Wordmatching algorithm label (to compare to dummy classifier)"
   ]
  },
  {
   "cell_type": "code",
   "execution_count": null,
   "id": "4007e0ca",
   "metadata": {},
   "outputs": [],
   "source": [
    "import pandas as pd\n",
    "import re\n",
    "\n",
    "def wordmatching_oa(text): \n",
    "    # No reuma -> (for fair comparison) since that might induce the number of false positives\n",
    "    pattern = r'\\b(' + r\"|\".join(['OA', 'oa', 'artrose', 'polyartrose', 'polyarthrose']) + r')\\b'\n",
    "    \n",
    "    match = re.search(pattern, text)\n",
    "    return match\n",
    "\n",
    "def wordmatching_ra(text): \n",
    "    # No reuma -> (for fair comparison) since that might induce the number of false positives\n",
    "    pattern = r'\\b(' + r\"|\".join(['RA', 'ra', 'rheumatoid arthritis', 'reumatoide artritis', 'Ra']) + r')\\b'\n",
    "    \n",
    "    match = re.search(pattern, text)\n",
    "    return match\n",
    "\n",
    "def wordmatching_fms(text): \n",
    "    pattern = r'\\b(' + r\"|\".join(['fibromyalgie']) + r')\\b'\n",
    "    \n",
    "    match = re.search(pattern, text)\n",
    "    return match\n",
    "\n",
    "def wordmatching_artralgie(text): \n",
    "    pattern = r'\\b(' + r\"|\".join(['artralgie']) + r')\\b'    \n",
    "    match = re.search(pattern, text)\n",
    "    return match\n",
    "\n",
    "# Add Word matching result\n",
    "df_referral['WM'] = df_referral['proc_RTFscripted'].apply(lambda x : wordmatching_ra(x))\n",
    "df_referral['WM_FMS'] = df_referral['proc_RTFscripted'].apply(lambda x : wordmatching_fms(x))\n",
    "df_referral['WM_OA'] = df_referral['proc_RTFscripted'].apply(lambda x : wordmatching_oa(x))\n",
    "df_referral['WM_Artralgie'] = df_referral['proc_RTFscripted'].apply(lambda x : wordmatching_artralgie(x))\n",
    "df_referral[['WM', 'WM_FMS', 'WM_OA', 'proc_RTFscripted']] "
   ]
  },
  {
   "cell_type": "markdown",
   "id": "679782c9",
   "metadata": {},
   "source": [
    "### 2.2 Recognize dates?\n",
    "\n",
    "ToDo:\n",
    "- add a step that recognizes & removes names (this might also involve some bias) "
   ]
  },
  {
   "cell_type": "code",
   "execution_count": 32,
   "id": "07fc4734",
   "metadata": {},
   "outputs": [],
   "source": [
    "import numpy as np\n",
    "import pandas as pd\n",
    "import re \n",
    "\n",
    "def get_date_referral(date_text):\n",
    "    \"\"\"\n",
    "    Sadly the dates of referral letters are not encoded -> in that case you can use this function!\n",
    "    \n",
    "    As a solution: we take the largest date from the text\n",
    "    \"\"\"\n",
    "    pattern = re.compile(r'\\d{2}-\\d{2}-\\d{4}') \n",
    "    dates = re.findall(pattern, date_text)\n",
    "    if dates != []: # get date of referral\n",
    "        return np.array(dates)[np.argmax([int(i.split('-')[2]) for i in dates])] #dates\n",
    "    else :\n",
    "        return pd.NaT\n",
    "    \n",
    "df_rl_date = pd.read_csv('../data/20240129_Verwijsbrief_datum.csv', sep=';')[['ID','ItemDateTime','LabelTekst']]\n",
    "df_rl_date= df_rl_date.rename(columns={'ID': 'Identifier', 'ItemDateTime' : 'referral_date'})\n",
    "\n",
    "# Apply referral letter -> acquire date\n",
    "df_rl_date['Identifier'] = df_rl_date['Identifier'].apply(lambda x : x.replace('{', '').replace('}', '').lower())\n",
    "\n",
    "df_referral = pd.merge(df_referral, df_rl_date[['Identifier', 'referral_date', 'LabelTekst']], left_on='Identifier', right_on='Identifier', how='left')\n",
    "df_referral['referral_date'] = pd.to_datetime(df_referral['referral_date'], format='%d-%m-%Y', errors='coerce')\n",
    "df_referral['referral_date'] = df_referral['referral_date'].fillna(df_referral['proc_RTFscripted'].apply(lambda x : pd.to_datetime(get_date_referral(x), format='%d-%m-%Y')))\n",
    "\n",
    "df_referral['FirstVisit'] = pd.to_datetime(df_referral['FirstVisit'], format='%Y-%m-%d')"
   ]
  },
  {
   "cell_type": "code",
   "execution_count": 33,
   "id": "7c4c408b",
   "metadata": {},
   "outputs": [],
   "source": [
    "import re \n",
    "\n",
    "def get_max_date(date_text):\n",
    "    pattern = re.compile(r'\\d{2}-\\d{2}-\\d{4}') \n",
    "    return re.findall(pattern, date_text)\n",
    "\n",
    "def replace_dates(date_text):\n",
    "    pattern = re.compile(r'\\d{2}-\\d{2}-\\d{4}') \n",
    "    return re.sub(pattern, '[DATE]', date_text)\n",
    "df_referral['proc_RTFscripted'] = df_referral['proc_RTFscripted'].apply(lambda x : replace_dates(x))\n",
    "#df_referral['proc_RTFscripted'] = df_referral['proc_RTFscripted'].str.lower()"
   ]
  },
  {
   "cell_type": "markdown",
   "id": "1f924ffd",
   "metadata": {},
   "source": [
    "### 2.3 Register whether referral letters was sent before first visit / diagnosis"
   ]
  },
  {
   "cell_type": "code",
   "execution_count": 34,
   "id": "567ee4bb",
   "metadata": {},
   "outputs": [
    {
     "name": "stdout",
     "output_type": "stream",
     "text": [
      "797 RA patients with referrals\n",
      "590 RA patients with referrals before diagnosis\n",
      "230 Patients where referral date is unclear\n",
      "8890 Patients in total\n",
      "797 RA patients in total \n",
      "1936 OA patients in total \n",
      "468 FMS patients in total \n",
      "1973 Arthralgia patients in total \n",
      "4061 Chronic patients in total \n"
     ]
    }
   ],
   "source": [
    "def is_before_diagnosis(x):\n",
    "    if x == x: \n",
    "        if x > 0:\n",
    "            return True\n",
    "        elif x <= 0: \n",
    "            return False\n",
    "    return False\n",
    "\n",
    "print('%s RA patients with referrals' % len(df_referral[df_referral['RA']==1]['Identifier'].unique()))\n",
    "print('%s RA patients with referrals before diagnosis' % len(df_referral[df_referral['referral_date']<=df_referral['FirstDiagnosis']]['Identifier'].unique()))\n",
    "\n",
    "df_referral['delta_referral_diagnosis'] = df_referral['FirstDiagnosis']- df_referral['referral_date']\n",
    "df_referral['delta_referral_diagnosis'] = df_referral['delta_referral_diagnosis'].dt.days\n",
    "\n",
    "df_referral['delta_referral_visit'] = df_referral['FirstVisit']- df_referral['referral_date']\n",
    "df_referral['delta_referral_visit'] = df_referral['delta_referral_visit'].dt.days\n",
    "\n",
    "# Also format as binary\n",
    "df_referral['before_diagnosis'] = df_referral['delta_referral_diagnosis'].apply(lambda x : is_before_diagnosis(x))\n",
    "df_referral['before_firstVisit'] = df_referral['delta_referral_visit'].apply(lambda x : is_before_diagnosis(x))\n",
    "\n",
    "# Remove entries where referral date could not be identified\n",
    "print('%s Patients where referral date is unclear' % len(df_referral[(df_referral['referral_date'].isna())]))\n",
    "\n",
    "print('%s Patients in total' % len(df_referral['Identifier'].unique()))\n",
    "print('%s RA patients in total ' % len(df_referral[df_referral['RA']==1]['Identifier'].unique()))\n",
    "print('%s OA patients in total ' % len(df_referral[df_referral['OA']==1]['Identifier'].unique()))\n",
    "print('%s FMS patients in total ' % len(df_referral[df_referral['FMS']==1]['Identifier'].unique()))\n",
    "print('%s Arthralgia patients in total ' % len(df_referral[df_referral['Arthralgia']==1]['Identifier'].unique()))\n",
    "print('%s Chronic patients in total ' % len(df_referral[df_referral['Chronic']==1]['Identifier'].unique()))\n",
    "\n",
    "# Save patients with referral letter\n",
    "pd.DataFrame(df_referral[df_referral['RA']==1]['Identifier'].unique()).to_csv('../dict/list_ra_patients_referral.csv', sep=';', index=None)\n",
    "\n",
    "# Save patients with referral letter\n",
    "pd.DataFrame(df_referral[df_referral['Chronic']==1]['Identifier'].unique()).to_csv('../dict/list_chronic_patients_referral.csv', sep=';', index=None)\n",
    "\n",
    "# Save patients with referral letter\n",
    "pd.DataFrame(df_referral[df_referral['OA']==1]['Identifier'].unique()).to_csv('../dict/list_oa_patients_referral.csv', sep=';', index=None)\n",
    "\n",
    "# Save patients with referral letter\n",
    "pd.DataFrame(df_referral[df_referral['Arthralgia']==1]['Identifier'].unique()).to_csv('../dict/list_arthralgia_patients_referral.csv', sep=';', index=None)\n",
    "\n",
    "# Save dates of referral letters \n",
    "df_referral = df_referral.sort_values(by='referral_date')\n",
    "# df_referral[df_referral['before_firstVisit']]\n",
    "df_referral.drop_duplicates(subset=['Identifier', 'delta_referral_visit'])[['Identifier','referral_date', 'delta_referral_visit']].to_csv('../dict/df_referral_dates_new.csv', sep=';', index=None)"
   ]
  },
  {
   "cell_type": "code",
   "execution_count": 18,
   "id": "a8171666",
   "metadata": {},
   "outputs": [
    {
     "data": {
      "text/plain": [
       "(8083, 8083)"
      ]
     },
     "execution_count": 18,
     "metadata": {},
     "output_type": "execute_result"
    }
   ],
   "source": [
    "len(df_referral['Identifier'].unique()), len(df_referral[df_referral['before_firstVisit']]['Identifier'].unique())"
   ]
  },
  {
   "cell_type": "code",
   "execution_count": 66,
   "id": "ae7e9ee5",
   "metadata": {},
   "outputs": [],
   "source": [
    "df_referral.drop_duplicates(subset=['Identifier', 'delta_referral_visit'])[['Identifier','referral_date', 'delta_referral_visit']].to_csv('../dict/df_referral_dates_new.csv', sep=';', index=None)"
   ]
  },
  {
   "cell_type": "markdown",
   "id": "5fc75f08",
   "metadata": {},
   "source": [
    "### 2.3.2 Barplot : show number of patients with referral letter before diagnosis"
   ]
  },
  {
   "cell_type": "code",
   "execution_count": 41,
   "id": "d9964767",
   "metadata": {},
   "outputs": [
    {
     "data": {
      "image/png": "[encoded data removed]",
      "text/plain": [
       "<Figure size 576x432 with 1 Axes>"
      ]
     },
     "metadata": {
      "needs_background": "light"
     },
     "output_type": "display_data"
    }
   ],
   "source": [
    "import matplotlib.pyplot as plt\n",
    "\n",
    "# Count the frequency of each category\n",
    "category_counts = df_referral[df_referral['RA']==1]['before_diagnosis'].value_counts()\n",
    "category_counts = category_counts.sort_index()\n",
    "\n",
    "# Create a bar plot\n",
    "plt.figure(figsize=(8, 6))\n",
    "category_counts.plot( kind='bar')\n",
    "plt.title('Referral letter before diagnosis (first ever ICD-code)')\n",
    "plt.xlabel('Referral letter before diagnosis')\n",
    "plt.ylabel('Frequency')\n",
    "plt.xticks(rotation=0)  # Remove this line if you want rotated x-axis labels\n",
    "plt.show()"
   ]
  },
  {
   "cell_type": "code",
   "execution_count": 42,
   "id": "ebe05940",
   "metadata": {},
   "outputs": [
    {
     "name": "stdout",
     "output_type": "stream",
     "text": [
      "Referral letters where date is unclear: 0\n"
     ]
    }
   ],
   "source": [
    "print('Referral letters where date is unclear:', len(df_referral[((df_referral['RA']==1) & (df_referral['before_diagnosis']==False) & (df_referral['referral_date'].isna()))]))"
   ]
  },
  {
   "cell_type": "markdown",
   "id": "d8f5bd15",
   "metadata": {},
   "source": [
    "### 2.4.1 Add Location information \n",
    "\n",
    "#### Where are the most letters coming from? \n",
    "We hold-out centers with less than 1000 letters as replication"
   ]
  },
  {
   "cell_type": "code",
   "execution_count": null,
   "id": "e123c05c",
   "metadata": {},
   "outputs": [],
   "source": [
    "import pandas as pd\n",
    "import numpy as np\n",
    "\n",
    "thresh_loc = 1000\n",
    "\n",
    "df_center_location = pd.read_csv('../data/20240129_Afspraak_locatie.csv', sep=';')\n",
    "df_center_location['Identifier'] = df_center_location['ID'].apply(lambda x : x.replace('{', '').replace('}', '').lower())\n",
    "df_center_location['GUID_Afspraak'] = df_center_location['GUID_Afspraak'].apply(lambda x : x.replace('{', '').replace('}', '').lower())\n",
    "df_center_location['Datum'] = pd.to_datetime(df_center_location['Datum'], format='%Y-%m-%d')\n",
    "\n",
    "# Add location to referral letter\n",
    "d_location = dict(zip(df_center_location['Identifier'], df_center_location['Locatie']))\n",
    "df_referral['Locatie'] = df_referral['Identifier'].apply(lambda x : d_location[x] if x in d_location.keys() else np.nan)\n",
    "df_referral = df_referral.reset_index(drop=True)\n",
    "\n",
    "# Use locations with less than 500 letters for replication \n",
    "category_counts = df_referral['Locatie'].value_counts()\n",
    "category_counts = category_counts.sort_index()\n",
    "l_validation_loc = list(category_counts[category_counts < thresh_loc].keys())\n",
    "df_referral['Replication_set'] =  df_referral['Locatie'].apply(lambda x : True if x in l_validation_loc else False)\n",
    "\n",
    "print('Centers with less than 1000 referral letters',  l_validation_loc)\n",
    "print('%s out of %s referral letters have a known location' % (len(df_referral[~df_referral['Locatie'].isna()]), len(df_referral)))\n",
    "print('%s out of %s referral letters have a location that frequently shares letters (min=%s)' % (len(df_referral[((~df_referral['Locatie'].isna()) & (df_referral['Replication_set']==0))]), len(df_referral[~df_referral['Locatie'].isna()]), thresh_loc))\n",
    "\n",
    "# Export dataframe\n",
    "df_referral.to_csv('../proc/ZWN_referral_proc.csv', index=False, sep='|')\n",
    "df_referral.head()"
   ]
  },
  {
   "cell_type": "code",
   "execution_count": 21,
   "id": "ffa27877",
   "metadata": {},
   "outputs": [
    {
     "data": {
      "image/png": "[encoded data removed]",
      "text/plain": [
       "<Figure size 576x432 with 1 Axes>"
      ]
     },
     "metadata": {
      "needs_background": "light"
     },
     "output_type": "display_data"
    }
   ],
   "source": [
    "import matplotlib.pyplot as plt\n",
    "\n",
    "# Count the frequency of each category\n",
    "category_counts = df_referral['Locatie'].value_counts()\n",
    "category_counts = category_counts.sort_index()\n",
    "\n",
    "# Create a bar plot\n",
    "plt.figure(figsize=(8, 6))\n",
    "category_counts.plot( kind='bar') # , color=['#4F6CCF', '#2db9cc', '#fcba03', '#FA4D4D']\n",
    "plt.title('Referral letter frequency per center')\n",
    "plt.xlabel('Location')\n",
    "plt.ylabel('Frequency')\n",
    "plt.xticks(rotation=90)  # Remove this line if you want rotated x-axis labels\n",
    "plt.show()"
   ]
  },
  {
   "cell_type": "markdown",
   "id": "8b3a3015",
   "metadata": {},
   "source": [
    "### 2.5 Employ NER (Named Entity Recognition)\n",
    "\n",
    "Fit a MMAE Neural Network by running:\n",
    "1. sbatch gitlab/referral_ml/src/EmployNER.sh\n",
    "OR run as job by running referral_ml/src/2_latent_space/MMAE_job_shark.sh\n",
    "\n",
    "#### 2.5.1 redact entities (based on confidence of 0.80)\n",
    "- See notebook on NER  referral_ml/src/extra/2.5_Named_entity_recognition.ipynb for more information regarding the chosen cut-off"
   ]
  },
  {
   "cell_type": "code",
   "execution_count": 4,
   "id": "0b5c854e",
   "metadata": {},
   "outputs": [],
   "source": [
    "import re\n",
    "import pandas as pd\n",
    "\n",
    "df_forbidden = pd.read_csv('../proc/extra/found_entities_NER_thresh80_RK.csv', sep=';')#.values[0]\n",
    "df_forbidden.columns = ['NER', 'Relevant']\n",
    "\n",
    "l_forbidden = list(df_forbidden[df_forbidden['Relevant']!=1]['NER'])\n",
    "\n",
    "df_referral = pd.read_csv('../proc/ZWN_referral_proc.csv', sep='|')\n",
    "# Create a regex pattern to match any of the forbidden words\n",
    "pattern = re.compile(r'\\b(' + '|'.join(map(re.escape, l_forbidden)) + r')\\b', re.IGNORECASE)\n",
    "\n",
    "# Function to redact forbidden words\n",
    "def redact_text(text):\n",
    "    return pattern.sub('[REDACTED]', text)\n",
    "\n",
    "# Apply the redaction function to the DataFrame column\n",
    "df_referral['fixedLine'] = df_referral['proc_RTFscripted'].apply(redact_text)\n",
    "df_referral.to_csv('../proc/ZWN_referral_blinded_NER_thresh80.csv', sep='|', index=None)"
   ]
  },
  {
   "cell_type": "markdown",
   "id": "bb2b7c44",
   "metadata": {},
   "source": [
    "# 3. Create datasets to train model\n",
    "\n",
    "#### We exclude both referral letters without known Location & those after first visit from the data"
   ]
  },
  {
   "cell_type": "code",
   "execution_count": null,
   "id": "906ddcb2",
   "metadata": {},
   "outputs": [],
   "source": [
    "import pandas as pd\n",
    "df_referral = pd.read_csv('../proc/ZWN_referral_blinded_NER_thresh80.csv', sep='|')\n",
    "\n",
    "print('Patients where date of referral was before first visit:', len(df_referral[df_referral['delta_referral_visit']>0]['Identifier'].unique()))\n",
    "\n",
    "# Only select patients with known location\n",
    "df_referral = df_referral[~df_referral['Locatie'].isna()]\n",
    "\n",
    "print('Patients where Location is not missing:', len(df_referral[df_referral['before_firstVisit']==True]['Identifier'].unique()))\n",
    "\n",
    "# Keep other centers seperate for replication\n",
    "df_replication = df_referral[((df_referral['Replication_set']) & (df_referral['before_firstVisit']==True))].reset_index(drop=True).copy()\n",
    "\n",
    "# Save replication set\n",
    "df_replication.to_csv('../proc/extra/df_replication.csv', index=None)\n",
    "\n",
    "df_referral = df_referral.reset_index(drop=True)\n",
    "df_referral.head()"
   ]
  },
  {
   "cell_type": "markdown",
   "id": "1f604da7",
   "metadata": {},
   "source": [
    "### 3.1 split on training & test set"
   ]
  },
  {
   "cell_type": "code",
   "execution_count": 2,
   "id": "ec84b450",
   "metadata": {},
   "outputs": [
    {
     "name": "stdout",
     "output_type": "stream",
     "text": [
      "Nr of entries in trainings set:\t 5039 4097\n",
      "Nr of entries in test set : \t 1225 1016\n"
     ]
    }
   ],
   "source": [
    "from sklearn.model_selection import train_test_split\n",
    "target = 'RA' # 'RA', 'FMS', 'Chronic'\n",
    "\n",
    "# We make sure to stratify on target & ensure that there are no overlapping patients between validation & train\n",
    "l_train, l_test = train_test_split(df_referral[df_referral['Replication_set']==False].drop_duplicates(subset=['Identifier'])[['Identifier', target]], test_size=0.2, stratify=df_referral[df_referral['Replication_set']==False].drop_duplicates(subset=['Identifier'])[['Identifier', target]][target], random_state=28072022)\n",
    "\n",
    "\n",
    "# Generate train & test (whilst removing those with a first visit before )\n",
    "df_train = df_referral[((df_referral['Identifier'].isin(l_train['Identifier'])) & (df_referral['before_firstVisit']==True)) ]\n",
    "df_test = df_referral[((df_referral['Identifier'].isin(l_test['Identifier'])) & (df_referral['before_firstVisit']==True)) ]\n",
    "\n",
    "# Save data splits\n",
    "df_train.to_csv('../proc/extra/df_train.csv', index=None)\n",
    "df_test.to_csv('../proc/extra/df_test.csv', index=None)\n",
    "\n",
    "print('Nr of entries in trainings set:\\t', len(df_train), len(df_train['Identifier'].unique()))\n",
    "print('Nr of entries in test set : \\t', len(df_test), len(df_test['Identifier'].unique()))\n",
    "\n",
    "target = 'RA'"
   ]
  },
  {
   "cell_type": "code",
   "execution_count": 6,
   "id": "da88683d",
   "metadata": {},
   "outputs": [
    {
     "name": "stdout",
     "output_type": "stream",
     "text": [
      "Nr of entries in trainings set:\t 5017 4090\n",
      "Nr of entries in test set : \t 1247 1023\n"
     ]
    }
   ],
   "source": [
    "from sklearn.model_selection import train_test_split\n",
    "target = 'RA' # 'RA', 'FMS', 'Chronic'\n",
    "\n",
    "# We make sure to stratify on target & ensure that there are no overlapping patients between validation & train\n",
    "l_train, l_test = train_test_split(df_referral[df_referral['Replication_set']==False].drop_duplicates(subset=['Identifier'])[['Identifier', target]], test_size=0.2, stratify=df_referral[df_referral['Replication_set']==False].drop_duplicates(subset=['Identifier'])[['Identifier', target]][target], random_state=28072022)\n",
    "\n",
    "\n",
    "# Generate train & test (whilst removing those with a first visit before )\n",
    "df_train = df_referral[((df_referral['Identifier'].isin(l_train['Identifier'])) & (df_referral['before_firstVisit']==True)) ]\n",
    "df_test = df_referral[((df_referral['Identifier'].isin(l_test['Identifier'])) & (df_referral['before_firstVisit']==True)) ]\n",
    "\n",
    "# Save data splits\n",
    "df_train.to_csv('../proc/extra/df_train.csv', index=None)\n",
    "df_test.to_csv('../proc/extra/df_test.csv', index=None)\n",
    "\n",
    "print('Nr of entries in trainings set:\\t', len(df_train), len(df_train['Identifier'].unique()))\n",
    "print('Nr of entries in test set : \\t', len(df_test), len(df_test['Identifier'].unique()))\n",
    "\n",
    "target = 'RA'"
   ]
  },
  {
   "cell_type": "markdown",
   "id": "17c0cbe3",
   "metadata": {},
   "source": [
    "### 3.2 Perform batch correction on train data"
   ]
  },
  {
   "cell_type": "code",
   "execution_count": null,
   "id": "720e0d14",
   "metadata": {
    "scrolled": true
   },
   "outputs": [],
   "source": [
    "from combat.pycombat import pycombat\n",
    "from scipy.sparse import csr_matrix\n",
    "\n",
    "df_train_tfidf = pd.DataFrame(X_feat.toarray(), columns=tfidf_feature_names).T\n",
    "df_train_tfidf\n",
    "\n",
    "l_batch_train = list(df_train['Locatie'])\n",
    "data_corrected = df_train_tfidf.copy()\n",
    "X_feat = np.array(data_corrected.T)\n",
    "\n",
    "# Convert to CSR sparse matrix\n",
    "X_feat = csr_matrix(X_feat)"
   ]
  },
  {
   "cell_type": "markdown",
   "id": "6823959a",
   "metadata": {},
   "source": [
    "### 3.3 Show prevalence of RA patients"
   ]
  },
  {
   "cell_type": "code",
   "execution_count": null,
   "id": "0c4cea96",
   "metadata": {},
   "outputs": [],
   "source": [
    "import matplotlib.pyplot as plt\n",
    "\n",
    "# Count the frequency of each category\n",
    "category_counts = df_train['RA'].value_counts()\n",
    "category_counts = category_counts.sort_index()\n",
    "\n",
    "# Create a bar plot\n",
    "plt.figure(figsize=(6, 5))\n",
    "category_counts.plot( kind='bar')\n",
    "plt.title('Prevalence of RA patients ')\n",
    "plt.xlabel('RA patients')\n",
    "plt.ylabel('Frequency')\n",
    "plt.xticks(rotation=0)  # Remove this line if you want rotated x-axis labels\n",
    "plt.show()"
   ]
  },
  {
   "cell_type": "code",
   "execution_count": 25,
   "id": "f83ef849",
   "metadata": {},
   "outputs": [
    {
     "data": {
      "image/png": "[encoded data removed]",
      "text/plain": [
       "<Figure size 432x360 with 1 Axes>"
      ]
     },
     "metadata": {
      "needs_background": "light"
     },
     "output_type": "display_data"
    }
   ],
   "source": [
    "import matplotlib.pyplot as plt\n",
    "\n",
    "# Count the frequency of each category\n",
    "category_counts = df_train['FMS'].value_counts()\n",
    "category_counts = category_counts.sort_index()\n",
    "\n",
    "# Create a bar plot\n",
    "plt.figure(figsize=(6, 5))\n",
    "category_counts.plot( kind='bar')\n",
    "plt.title('Prevalence of FMS patients ')\n",
    "plt.xlabel('Fibromyalgia patients')\n",
    "plt.ylabel('Frequency')\n",
    "plt.xticks(rotation=0)  # Remove this line if you want rotated x-axis labels\n",
    "plt.show()"
   ]
  }
 ],
 "metadata": {
  "kernelspec": {
   "display_name": "Python (keras_env)",
   "language": "python",
   "name": "keras_env"
  },
  "language_info": {
   "codemirror_mode": {
    "name": "ipython",
    "version": 3
   },
   "file_extension": ".py",
   "mimetype": "text/x-python",
   "name": "python",
   "nbconvert_exporter": "python",
   "pygments_lexer": "ipython3",
   "version": "3.6.13"
  }
 },
 "nbformat": 4,
 "nbformat_minor": 5
}
