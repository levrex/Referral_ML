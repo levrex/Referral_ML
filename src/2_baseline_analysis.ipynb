{
 "cells": [
  {
   "cell_type": "code",
   "execution_count": 1,
   "id": "7a56a7d5",
   "metadata": {},
   "outputs": [],
   "source": [
    "### Initialize functions\n",
    "import importlib as imp\n",
    "import Functions as func\n",
    "imp.reload(func)\n",
    "import re"
   ]
  },
  {
   "cell_type": "markdown",
   "id": "f3c342d6",
   "metadata": {},
   "source": [
    "### 1. Patient selection"
   ]
  },
  {
   "cell_type": "markdown",
   "id": "c1c11191",
   "metadata": {},
   "source": [
    "#### Select patients according to ICD codes"
   ]
  },
  {
   "cell_type": "code",
   "execution_count": null,
   "id": "6e7a7f61",
   "metadata": {},
   "outputs": [],
   "source": [
    "import pandas as pd\n",
    "import numpy as np\n",
    "\n",
    "# ICD10 Codes to select RA population \n",
    "l_RA = ['Rheumatoid arthritis with rheumatoid factor, unspecified', 'Rheumatoid arthritis, unspecified', 'Rheumatoid arthritis without rheumatoid factor', 'Rheumatoid vasculitis with rheumatoid arthritis',  'Rheumatoid lung disease with rheumatoid arthritis']\n",
    "l_RA_codes = ['M06.99', 'M06.09', 'M05.99', 'M06.90', 'M05.29', 'M05.19+']\n",
    "\n",
    "# Also get ICD codes to select OA population\n",
    "df_oa = pd.read_csv('../suppl/OA_codes.csv', sep= '|')\n",
    "l_OA_codes = list(df_oa['ICD10code'])\n",
    "l_OA = list(df_oa['desc'])\n",
    "\n",
    "# Create dictionary to map ICD to diagnosis\n",
    "df_code_desc = pd.read_csv('../suppl/mapped_icd_desc.csv', sep='|')\n",
    "d_map_icd = dict(zip(df_code_desc.ICD10code, df_code_desc.desc))\n",
    "\n",
    "# Import table with ICD codes\n",
    "df_icd= pd.read_csv('../data/ZWN_DiagnoseICD.csv', sep='|')\n",
    "df_add =pd.read_csv('../data/20240312_addendum/ZWN_diagnoseICD.csv', sep=',')\n",
    "df_add= df_add.dropna(subset=['StartDatum']).reset_index(drop=True)\n",
    "df_icd= pd.concat([df_icd, df_add])\n",
    "df_icd = df_icd.drop_duplicates()\n",
    "\n",
    "# Drop rows with missing icd\n",
    "df_icd['ICD10code'] = df_icd['ICD10code'].replace('     ', np.nan) # DiagnoseCode 306 doesnt have an ICD10 equivalent\n",
    "df_icd = df_icd.dropna(subset=['ICD10code'])\n",
    "df_icd['ICD10desc'] = df_icd['ICD10code'].apply(lambda x : d_map_icd[x])\n",
    "df_icd"
   ]
  },
  {
   "cell_type": "code",
   "execution_count": null,
   "id": "e3061bd7",
   "metadata": {},
   "outputs": [],
   "source": [
    "df_OA_final = df_icd[df_icd['Identifier'].isin(l_pat_OA)].sort_values(by='EindDatum').drop_duplicates(subset='Identifier', keep='last')#['ICD10code']#.plot()\n",
    "df_OA_final[df_OA_final['ICD10code']=='M19.99']"
   ]
  },
  {
   "cell_type": "code",
   "execution_count": null,
   "id": "7cd25a3c",
   "metadata": {},
   "outputs": [],
   "source": [
    "df_FMS_final = df_icd[df_icd['Identifier'].isin(l_pat_FMS)].sort_values(by='EindDatum').drop_duplicates(subset='Identifier', keep='last')#['ICD10code']#.plot()\n",
    "df_FMS_final#[df_FMS_final['ICD10code']=='M19.99']"
   ]
  },
  {
   "cell_type": "code",
   "execution_count": null,
   "id": "91758244",
   "metadata": {},
   "outputs": [],
   "source": [
    "df_RA_final = df_icd[df_icd['Identifier'].isin( df_RA['Identifier'])].sort_values(by='EindDatum').drop_duplicates(subset='Identifier', keep='last')\n",
    "\n",
    "df_RA_final[df_RA_final['ICD10code']=='M15.9']"
   ]
  },
  {
   "cell_type": "code",
   "execution_count": 120,
   "id": "513f130e",
   "metadata": {},
   "outputs": [
    {
     "data": {
      "image/png": "[encoded data removed]",
      "text/plain": [
       "<Figure size 576x432 with 1 Axes>"
      ]
     },
     "metadata": {
      "needs_background": "light"
     },
     "output_type": "display_data"
    }
   ],
   "source": [
    "# Count the occurrences of each category\n",
    "category_counts =  df_icd[df_icd['Identifier'].isin(l_pat_FMS)].sort_values(by='EindDatum').drop_duplicates(subset='Identifier', keep='last')['ICD10code'].value_counts()\n",
    "\n",
    "# Plot the bar chart with additional customizations\n",
    "plt.figure(figsize=(8, 6))\n",
    "category_counts.plot(kind='bar', color='skyblue', edgecolor='black')\n",
    "\n",
    "# Adding titles and labels\n",
    "plt.title('Final ICD code for our putative selection of FMS patients', fontsize=16)\n",
    "plt.xlabel('Category', fontsize=14)\n",
    "plt.ylabel('Count', fontsize=14)\n",
    "\n",
    "# Adding grid lines\n",
    "plt.grid(axis='y', linestyle='--', alpha=0.7)\n",
    "\n",
    "# Display the plot\n",
    "plt.show()"
   ]
  },
  {
   "cell_type": "code",
   "execution_count": null,
   "id": "62af4f77",
   "metadata": {},
   "outputs": [],
   "source": [
    "df_RA_final =  df_icd[df_icd['Identifier'].isin(df_RA['Identifier'])].sort_values(by='EindDatum').drop_duplicates(subset='Identifier', keep='last')\n",
    "df_RA_final[df_RA_final['ICD10code']=='M19.94']"
   ]
  },
  {
   "cell_type": "markdown",
   "id": "d5e527e2",
   "metadata": {},
   "source": [
    "### 1.1 Select RA patients"
   ]
  },
  {
   "cell_type": "code",
   "execution_count": null,
   "id": "555385ad",
   "metadata": {},
   "outputs": [],
   "source": [
    "df_subicd = df_icd[df_icd['ICD10desc'].isin(l_RA)].sort_values(by='StartDatum').drop_duplicates(subset=['Identifier']).copy()\n",
    "d_RA_first = dict(zip(df_subicd['Identifier'], df_subicd['StartDatum']))\n",
    "d_RA_first"
   ]
  },
  {
   "cell_type": "code",
   "execution_count": 20,
   "id": "69afe512",
   "metadata": {},
   "outputs": [
    {
     "name": "stdout",
     "output_type": "stream",
     "text": [
      "Nr of RA patients (ICD10): 1543\n"
     ]
    }
   ],
   "source": [
    "l_pat_RA = list(df_icd[df_icd['ICD10desc'].isin(l_RA)]['Identifier'].unique())\n",
    "print('Nr of RA patients (ICD10):', len(l_pat_RA))\n",
    "\n",
    "# Export to csv\n",
    "df_RA = pd.DataFrame(l_pat_RA, columns=['Identifier'])\n",
    "df_RA['Date_first'] = df_RA['Identifier'].apply(lambda x : d_RA_first[x])\n",
    "df_RA.to_csv('../dict/list_ra_patients_icd.csv', sep=';', index=None)"
   ]
  },
  {
   "cell_type": "code",
   "execution_count": 21,
   "id": "e8a3fd6a",
   "metadata": {},
   "outputs": [
    {
     "name": "stdout",
     "output_type": "stream",
     "text": [
      "On average we have 5.17 codes per patient\n",
      "In RA we have 11.90 codes per patient\n"
     ]
    }
   ],
   "source": [
    "print('On average we have %.2f codes per patient' % (len(df_icd)/len(df_icd['Identifier'].unique())))\n",
    "print('In RA we have %.2f codes per patient' % (len(df_icd[df_icd['Identifier'].isin(l_pat_RA)])/len(df_icd[df_icd['Identifier'].isin(l_pat_RA)]['Identifier'].unique())))"
   ]
  },
  {
   "cell_type": "markdown",
   "id": "15598569",
   "metadata": {},
   "source": [
    "#### [Extra] Select fibromyalgia patients"
   ]
  },
  {
   "cell_type": "code",
   "execution_count": 115,
   "id": "39fc59ba",
   "metadata": {},
   "outputs": [
    {
     "name": "stdout",
     "output_type": "stream",
     "text": [
      "Nr of Fibromyalgia patients (ICD10): 681\n"
     ]
    }
   ],
   "source": [
    "l_pat_FMS = list(df_icd[df_icd['ICD10code'].isin(['M79.79'])]['Identifier'].unique())\n",
    "print('Nr of Fibromyalgia patients (ICD10):', len(l_pat_FMS))\n",
    "\n",
    "# Export to csv\n",
    "pd.DataFrame(l_pat_FMS, columns=['Identifier']).to_csv('../dict/list_fms_patients_icd.csv', sep=';', index=None)"
   ]
  },
  {
   "cell_type": "markdown",
   "id": "5252b897",
   "metadata": {},
   "source": [
    "#### [Extra] Select OA patients"
   ]
  },
  {
   "cell_type": "code",
   "execution_count": 103,
   "id": "63cf7f4b",
   "metadata": {},
   "outputs": [],
   "source": [
    "l_pat_OA = list(df_icd[df_icd['ICD10code'].isin(l_OA_codes)]['Identifier'].unique())"
   ]
  },
  {
   "cell_type": "code",
   "execution_count": 23,
   "id": "0ea4e930",
   "metadata": {},
   "outputs": [
    {
     "name": "stdout",
     "output_type": "stream",
     "text": [
      "Nr of Osteoarthritis patients (ICD10): 2918\n"
     ]
    }
   ],
   "source": [
    "l_pat_OA = list(df_icd[df_icd['ICD10code'].isin(l_OA_codes)]['Identifier'].unique())\n",
    "print('Nr of Osteoarthritis patients (ICD10):', len(l_pat_OA))\n",
    "\n",
    "# Export to csv\n",
    "pd.DataFrame(l_pat_OA, columns=['Identifier']).to_csv('../dict/list_oa_patients_icd.csv', sep=';', index=None)"
   ]
  },
  {
   "cell_type": "markdown",
   "id": "527748b9",
   "metadata": {},
   "source": [
    "#### [Extra] Select Arthralgia patients"
   ]
  },
  {
   "cell_type": "code",
   "execution_count": 24,
   "id": "8a7afcbd",
   "metadata": {},
   "outputs": [
    {
     "name": "stdout",
     "output_type": "stream",
     "text": [
      "Nr of Arthralgia patients (ICD10): 2449\n"
     ]
    }
   ],
   "source": [
    "l_pat_Arthralgia = list(df_icd[df_icd['ICD10code'].isin(['M25.59'])]['Identifier'].unique())\n",
    "print('Nr of Arthralgia patients (ICD10):', len(l_pat_Arthralgia))\n",
    "\n",
    "# Export to csv\n",
    "pd.DataFrame(l_pat_Arthralgia, columns=['Identifier']).to_csv('../dict/list_arthralgia_patients_icd.csv', sep=';', index=None)"
   ]
  },
  {
   "cell_type": "markdown",
   "id": "dd8d12ca",
   "metadata": {},
   "source": [
    "### 1.2 Identify first date of diagnosis"
   ]
  },
  {
   "cell_type": "code",
   "execution_count": 25,
   "id": "52d05fcb",
   "metadata": {},
   "outputs": [],
   "source": [
    "df_RA =  df_icd[df_icd['ICD10desc'].isin(l_RA)].sort_values(by='StartDatum')\n",
    "df_RA = df_RA.drop_duplicates(subset=['Identifier'], keep='first')\n",
    "d_firstDiagnosis = dict(zip(df_RA['Identifier'], df_RA['StartDatum']))"
   ]
  },
  {
   "cell_type": "markdown",
   "id": "f60ad385",
   "metadata": {},
   "source": [
    "## 2 Create Baseline table\n",
    "\n",
    "### 2.1 get date of first & last consult"
   ]
  },
  {
   "cell_type": "code",
   "execution_count": 26,
   "id": "bee74791",
   "metadata": {},
   "outputs": [],
   "source": [
    "import pandas as pd\n",
    "df_app = pd.read_csv('../data/ZWN_afspraak.csv', sep=',')\n",
    "df_firstConsult = df_app[((df_app['Eerste_Afspraak']=='Ja'))]\n",
    "df_lastConsult = df_app[((df_app['Laatste_Afspraak']=='Ja'))]\n",
    "\n",
    "# Collect all first Consult dates\n",
    "d_firstConsult = dict(zip(df_firstConsult['Identifier'], df_firstConsult['Datum']))\n",
    "#d_firstDiagnosis = dict(zip(df_firstConsult['Identifier'], df_firstConsult['StartDatum']))\n",
    "#d_firstDiagnosis = dict(zip(df_firstConsult['Identifier'], df_firstConsult['Datum']))\n",
    "\n",
    "# Collect all final Consult dates\n",
    "d_lastConsult = dict(zip(df_lastConsult['Identifier'], df_lastConsult['Datum']))\n",
    "\n",
    "# Collect number of visits\n",
    "df_visits = pd.DataFrame(df_app['Identifier'].value_counts()).reset_index()\n",
    "d_visits = dict(zip(df_visits['index'], df_visits['Identifier']))"
   ]
  },
  {
   "cell_type": "markdown",
   "id": "2448a4da",
   "metadata": {},
   "source": [
    "#### Render histogram to display first year of inclusion"
   ]
  },
  {
   "cell_type": "code",
   "execution_count": 27,
   "id": "d99e7558",
   "metadata": {},
   "outputs": [
    {
     "name": "stderr",
     "output_type": "stream",
     "text": [
      "/exports/reum/tdmaarseveen/custom_environment/lib/python3.6/site-packages/ipykernel_launcher.py:1: SettingWithCopyWarning: \n",
      "A value is trying to be set on a copy of a slice from a DataFrame.\n",
      "Try using .loc[row_indexer,col_indexer] = value instead\n",
      "\n",
      "See the caveats in the documentation: https://pandas.pydata.org/pandas-docs/stable/user_guide/indexing.html#returning-a-view-versus-a-copy\n",
      "  \"\"\"Entry point for launching an IPython kernel.\n"
     ]
    },
    {
     "data": {
      "text/plain": [
       "<AxesSubplot:>"
      ]
     },
     "execution_count": 27,
     "metadata": {},
     "output_type": "execute_result"
    },
    {
     "data": {
      "image/png": "[encoded data removed]",
      "text/plain": [
       "<Figure size 432x288 with 1 Axes>"
      ]
     },
     "metadata": {
      "needs_background": "light"
     },
     "output_type": "display_data"
    }
   ],
   "source": [
    "df_firstConsult['Datum'] = pd.to_datetime(df_firstConsult['Datum'],format='%Y-%m-%d')#.hist()\n",
    "df_firstConsult['Datum'].hist()"
   ]
  },
  {
   "cell_type": "markdown",
   "id": "03f2cdd7",
   "metadata": {},
   "source": [
    "### 2.2 create baseline table\n",
    "We use the demographics table as a starting point. We add the first and last consult to this data."
   ]
  },
  {
   "cell_type": "code",
   "execution_count": 28,
   "id": "1d501f54",
   "metadata": {},
   "outputs": [],
   "source": [
    "df_demograph =pd.read_csv('../data/20240312_addendum/ZWN_leeftijd_en_geslacht.csv', sep=',')\n",
    "df_demograph['Identifier'] = df_demograph['Identifier'].apply(lambda x: x.lower().replace('{', '').replace('}', ''))\n",
    "#df_demograph =pd.read_csv('../data/ZWN_leeftijd_en_geslacht.csv', sep=',')\n",
    "\n",
    "# ToDo: Fix once we get 2023 extraction of Afspraken!\n",
    "# Add first and last consult information\n",
    "df_demograph['FirstConsult'] = df_demograph['Identifier'].apply(lambda x : d_firstConsult[x] if x in d_firstConsult.keys() else np.nan)\n",
    "df_demograph['LastConsult'] = df_demograph['Identifier'].apply(lambda x : d_lastConsult[x]  if x in d_firstConsult.keys() else np.nan)\n",
    "\n",
    "# Calculate follow up \n",
    "df_demograph['FirstConsult'] = pd.to_datetime(df_demograph['FirstConsult'], format='%Y-%m-%d')\n",
    "df_demograph['LastConsult'] = pd.to_datetime(df_demograph['LastConsult'], format='%Y-%m-%d')\n",
    "df_demograph['FollowUp'] = df_demograph['LastConsult'] - df_demograph['FirstConsult'] \n",
    "df_demograph['FollowUp'] = df_demograph['FollowUp'].dt.days\n",
    "\n",
    "# Save follow up as dictionary\n",
    "d_followUp = dict(zip(df_demograph['Identifier'], df_demograph['FollowUp']))\n",
    "\n",
    "# ToDo: Fix once we get 2023 extraction of Afspraken!\n",
    "# Get number of visits\n",
    "df_demograph['Visits'] = df_demograph['Identifier'].apply(lambda x : d_visits[x] if x in d_visits.keys() else np.nan)\n",
    "\n",
    "# Add date of diagnosis (according to codes)\n",
    "df_demograph['FirstDiagnosis'] = df_demograph['Identifier'].apply(lambda x : d_firstDiagnosis[x] if x in d_firstDiagnosis.keys() else np.nan)\n"
   ]
  },
  {
   "cell_type": "code",
   "execution_count": 29,
   "id": "66212788",
   "metadata": {},
   "outputs": [
    {
     "data": {
      "text/plain": [
       "['Rheumatoid arthritis with rheumatoid factor, unspecified',\n",
       " 'Rheumatoid arthritis, unspecified',\n",
       " 'Rheumatoid arthritis without rheumatoid factor',\n",
       " 'Rheumatoid vasculitis with rheumatoid arthritis',\n",
       " 'Rheumatoid lung disease with rheumatoid arthritis']"
      ]
     },
     "execution_count": 29,
     "metadata": {},
     "output_type": "execute_result"
    }
   ],
   "source": [
    "l_RA"
   ]
  },
  {
   "cell_type": "code",
   "execution_count": 30,
   "id": "7ff2de8d",
   "metadata": {},
   "outputs": [
    {
     "data": {
      "image/png": "[encoded data removed]",
      "text/plain": [
       "<Figure size 576x432 with 1 Axes>"
      ]
     },
     "metadata": {
      "needs_background": "light"
     },
     "output_type": "display_data"
    }
   ],
   "source": [
    "import matplotlib.pyplot as plt\n",
    "df_demograph[df_demograph['Identifier'].isin(l_pat_RA)][['FirstConsult', 'FirstDiagnosis']]\n",
    "\n",
    "# Convert date columns to datetime format\n",
    "df_demograph['FirstConsult'] = pd.to_datetime(df_demograph['FirstConsult'])\n",
    "df_demograph['FirstDiagnosis'] = pd.to_datetime(df_demograph['FirstDiagnosis'])\n",
    "\n",
    "# Calculate difference in days\n",
    "df_demograph['DateDifference'] = (df_demograph[df_demograph['Identifier'].isin(l_pat_RA)]['FirstDiagnosis'] - df_demograph[df_demograph['Identifier'].isin(l_pat_RA)]['FirstConsult']).dt.days\n",
    "\n",
    "# Plotting the histogram\n",
    "plt.figure(figsize=(8, 6))\n",
    "plt.hist(df_demograph[df_demograph['DateDifference']>-1]['DateDifference'], bins=500, edgecolor='black')\n",
    "plt.xlim([0, 500])\n",
    "plt.xlabel('Difference in Days')\n",
    "plt.ylabel('Frequency')\n",
    "plt.title('Histogram of Difference between first consult and first diagnosis')\n",
    "plt.grid(True)\n",
    "plt.show()"
   ]
  },
  {
   "cell_type": "markdown",
   "id": "4417e38d",
   "metadata": {},
   "source": [
    "#### Show prevalence of ICD codes over time  (3 mo, 6mo, 9 mo)"
   ]
  },
  {
   "cell_type": "code",
   "execution_count": 31,
   "id": "e386179f",
   "metadata": {
    "scrolled": true
   },
   "outputs": [
    {
     "data": {
      "text/plain": [
       "13426"
      ]
     },
     "execution_count": 31,
     "metadata": {},
     "output_type": "execute_result"
    }
   ],
   "source": [
    "len(df_icd['Identifier'].unique())"
   ]
  },
  {
   "cell_type": "code",
   "execution_count": null,
   "id": "f25561a1",
   "metadata": {},
   "outputs": [],
   "source": [
    "# Define number of visits based on ICD codes\n",
    "#d_no_visits = dict(df_icd.groupby('Identifier')['StartDatum'].nunique())\n",
    "\n",
    "df_last =  df_icd.sort_values(by='StartDatum').copy() # [df_icd['Identifier'].isin(l_pat_RA)]\n",
    "#df_last = df_last.drop_duplicates(subset=['Identifier'], keep='last')\n",
    "df_last['FollowUp'] = df_last['Identifier'].apply(lambda x : d_followUp[x])\n",
    "df_last['noVisits'] = df_last['Identifier'].apply(lambda x : d_visits[x])\n",
    "df_last = df_last[df_last['FollowUp']>=365].copy()\n",
    "d_lastICD = dict(zip(df_last['Identifier'], df_last['StartDatum']))\n",
    "\n",
    "print(len(df_last['Identifier'].unique()))\n",
    "df_last"
   ]
  },
  {
   "cell_type": "code",
   "execution_count": 23,
   "id": "014fb5b9",
   "metadata": {},
   "outputs": [
    {
     "data": {
      "image/png": "[encoded data removed]",
      "text/plain": [
       "<Figure size 288x720 with 1 Axes>"
      ]
     },
     "metadata": {
      "needs_background": "light"
     },
     "output_type": "display_data"
    }
   ],
   "source": [
    "import seaborn as sns\n",
    "import pandas as pd\n",
    "import matplotlib.pyplot as plt\n",
    "\n",
    "\n",
    "df_code_desc = pd.read_csv('../suppl/mapped_icd_desc.csv', sep='|')\n",
    "d_map = dict(zip(df_code_desc['ICD10code'], df_code_desc['desc']))\n",
    "df_last['Diagnosis'] = df_last['ICD10code'].apply(lambda x : d_map[x] if x in d_map.keys() else np.nan)\n",
    "df_last['xlabel'] = df_last['ICD10code'] + ' (' + df_last['Diagnosis'] + ')'\n",
    "\n",
    "\n",
    "# Determine the top 30 categories\n",
    "top_categories = df_last['xlabel'].value_counts().nlargest(30).index\n",
    "\n",
    "\n",
    "\n",
    "\n",
    "# Create a subset of the data with only the top 30 categories\n",
    "subset_data = df_last[df_last['xlabel'].isin(top_categories)]#.sort_values(by)\n",
    "# Determine the order based on counts\n",
    "order = subset_data['xlabel'].value_counts().index\n",
    "\n",
    "# Visualize ICD codes\n",
    "plt.figure(figsize=(4,10))\n",
    "#plt.subplots_adjust( right=1.6)\n",
    "\n",
    "ax = sns.countplot(data= subset_data, y='xlabel', order=order)\n",
    "#ax = sns.barplot(data=pd.DataFrame(df_last['xlabel'].value_counts()[:30]).reset_index(), x='xlabel', y='index', orient='h')\n",
    "ax.tick_params(axis='x', rotation=90) # Diagnosis\n",
    "\n",
    "total = max(df_last['xlabel'].value_counts())\n",
    "plt.xlim(0,total+total/5)\n",
    "\n",
    "\n",
    "# Add percentage labels on top of the bars\n",
    "total = len(df_last[\"Identifier\"])\n",
    "for p in ax.patches:\n",
    "    percentage = '{:.1f}%'.format(100 * p.get_width() / total)\n",
    "    if (100 * p.get_width() / total) > 1: \n",
    "\n",
    "        x = p.get_x() + p.get_width() + total/60\n",
    "        y = p.get_y() \n",
    "\n",
    "        ax.text(x, y+0.5, percentage, ha='center')\n"
   ]
  },
  {
   "cell_type": "markdown",
   "id": "523211e1",
   "metadata": {},
   "source": [
    "#### Get first DMARD date"
   ]
  },
  {
   "cell_type": "code",
   "execution_count": 53,
   "id": "907f6037",
   "metadata": {},
   "outputs": [
    {
     "data": {
      "text/plain": [
       "'2024-02-23 16:00:00'"
      ]
     },
     "execution_count": 53,
     "metadata": {},
     "output_type": "execute_result"
    }
   ],
   "source": [
    "df_prescriptions = pd.read_csv('../data/20240312_addendum/ZWN_dmard_voorschriften.csv')\n",
    "df_prescriptions['Startdatum'].max()"
   ]
  },
  {
   "cell_type": "code",
   "execution_count": 24,
   "id": "d678bd17",
   "metadata": {},
   "outputs": [
    {
     "name": "stdout",
     "output_type": "stream",
     "text": [
      "7657 patients have medication (total: 14043)\n"
     ]
    }
   ],
   "source": [
    "import numpy as np\n",
    "\n",
    "l_rx = ['TOCILIZUMAB', 'METHOTREXAAT', 'HYDROXYCHLOROQUINE',\n",
    "       'AZATHIOPRINE', 'INFLIXIMAB', 'ABATACEPT',\n",
    "       'SULFASALAZINE', 'ANAKINRA', 'ETANERCEPT', 'CICLOSPORINE',\n",
    "       'LEFLUNOMIDE', 'CERTOLIZUMAB PEGOL', 'ADALIMUMAB', 'BARICITINIB',\n",
    "        'GOLIMUMAB','AUROTHIOBARNSTEENZUUR', 'CYCLOFOSFAMIDE',\n",
    "       'CHLOROQUINE', 'TOFACITINIB', 'PREDNISOLON', 'METHYLPREDNISOLON', 'PREDNISON']\n",
    "\n",
    "l_conv_dmard = ['SULFASALAZINE', 'METHOTREXAAT', 'HYDROXYCHLOROQUINE','LEFLUNOMIDE']\n",
    "l_dmard = ['TOCILIZUMAB', 'METHOTREXAAT', 'HYDROXYCHLOROQUINE',\n",
    "       'AZATHIOPRINE', 'INFLIXIMAB', 'ABATACEPT',\n",
    "       'SULFASALAZINE', 'ANAKINRA', 'ETANERCEPT', 'CICLOSPORINE',\n",
    "       'LEFLUNOMIDE', 'CERTOLIZUMAB PEGOL', 'ADALIMUMAB', 'BARICITINIB',\n",
    "        'GOLIMUMAB','AUROTHIOBARNSTEENZUUR', 'CYCLOFOSFAMIDE',\n",
    "       'CHLOROQUINE', 'TOFACITINIB']\n",
    "\n",
    "l_pred = ['PREDNISOLON', 'METHYLPREDNISOLON', 'PREDNISON']\n",
    "\n",
    "# Import drug information\n",
    "df_prescriptions = pd.read_csv('../data/20240312_addendum/ZWN_dmard_voorschriften.csv')\n",
    "print('%s patients have medication (total: %s)' % (len(df_prescriptions['Identifier'].unique()), len(df_demograph['Identifier'].unique())))\n",
    "\n",
    "# Extract Medication from text if missing\n",
    "df_prescriptions['MedicatieNaam'] = df_prescriptions['MedicatieNaam'].str.lower()\n",
    "d_trans = {'methotrexaat' : 'METHOTREXAAT', 'prednisolon' : 'PREDNISOLON'}\n",
    "\n",
    "for i in l_rx:\n",
    "    df_prescriptions['WerkzameStof'] = df_prescriptions['WerkzameStof'].fillna(df_prescriptions['MedicatieNaam'].apply(lambda x: i.upper() if i.lower() in x else np.nan))\n",
    "\n",
    "# Select patients of interest\n",
    "#df_prescriptions = df_prescriptions[df_prescriptions['Identifier'].isin(l_pat_RA)].reset_index(drop=True)\n",
    "\n",
    "# Fix accidental artefact in data\n",
    "df_prescriptions['WerkzameStof'] = df_prescriptions['WerkzameStof'].str.replace(';', 'GO') \n",
    "\n",
    "# Read as pandas data\n",
    "df_prescriptions['Startdatum'] = pd.to_datetime(df_prescriptions['Startdatum'], format='%Y-%m-%d')\n",
    "\n",
    "# Get date of first prescription\n",
    "df_first_rx = df_prescriptions.loc[df_prescriptions.groupby('Identifier')['Startdatum'].idxmin()]\n",
    "d_first_rx = dict(zip(df_first_rx['Identifier'], df_first_rx['Startdatum']))\n",
    "d_first_rx_name = dict(zip(df_first_rx['Identifier'], df_first_rx['WerkzameStof']))\n",
    "\n",
    "# Get date of first conventional dmard \n",
    "df_dmard_conv = df_prescriptions[df_prescriptions['WerkzameStof'].isin(l_conv_dmard)].copy()\n",
    "df_dmard_conv = df_dmard_conv.loc[df_dmard_conv.groupby('Identifier')['Startdatum'].idxmin()]\n",
    "d_first_csdmard = dict(zip(df_dmard_conv['Identifier'], df_dmard_conv['Startdatum']))\n",
    "d_first_csdmard_name = dict(zip(df_dmard_conv['Identifier'], df_dmard_conv['WerkzameStof']))\n",
    "\n",
    "# Get date of first dmard\n",
    "df_dmard = df_prescriptions[df_prescriptions['WerkzameStof'].isin(l_dmard)].copy() #[df_prescriptions['WerkzameStof'].isin(l_dmard)].copy()\n",
    "df_first_dmard = df_dmard.loc[df_dmard.groupby('Identifier')['Startdatum'].idxmin()]\n",
    "d_first_dmard = dict(zip(df_first_dmard['Identifier'], df_first_dmard['Startdatum']))\n",
    "d_first_dmard_name = dict(zip(df_first_dmard['Identifier'], df_first_dmard['WerkzameStof']))\n",
    "\n",
    "# Get date of first prednisolon\n",
    "df_pred = df_prescriptions[df_prescriptions['WerkzameStof'].isin(l_pred)].copy()\n",
    "df_first_pred = df_pred.loc[df_pred.groupby('Identifier')['Startdatum'].idxmin()]\n",
    "d_first_pred = dict(zip(df_first_pred['Identifier'], df_first_pred['Startdatum']))\n",
    "\n",
    "# Add date of first DMARD & first prednisolon to baseline table\n",
    "df_demograph['FirstDMARD_date'] = df_demograph['Identifier'].apply(lambda x : d_first_dmard[x] if x in d_first_dmard.keys() else np.nan)\n",
    "df_demograph['FirstDMARD_name'] = df_demograph['Identifier'].apply(lambda x : d_first_dmard_name[x] if x in d_first_dmard_name.keys() else np.nan)\n",
    "df_demograph['FirstPrednisolon_date'] = df_demograph['Identifier'].apply(lambda x : d_first_pred[x] if x in d_first_pred.keys() else np.nan)\n",
    "\n",
    "\n",
    "df_demograph['FirstCsDMARD_date'] = df_demograph['Identifier'].apply(lambda x : d_first_csdmard[x] if x in d_first_csdmard.keys() else np.nan)\n",
    "df_demograph['FirstCsDMARD_name'] = df_demograph['Identifier'].apply(lambda x : d_first_csdmard_name[x] if x in d_first_csdmard_name.keys() else np.nan)\n",
    "\n",
    "df_demograph['FirstCsDMARD_date'] = df_demograph['FirstCsDMARD_date'].dt.date\n",
    "df_demograph['FirstDMARD_date'] =df_demograph['FirstDMARD_date'].dt.date\n",
    "df_demograph['FirstPrednisolon_date'] = df_demograph['FirstPrednisolon_date'].dt.date\n",
    "\n",
    "# Also infer DMARD for all other patients\n",
    "df_demograph['FirstDMARD_date'] = df_demograph['Identifier'].apply(lambda x : d_first_dmard[x] if x in d_first_dmard.keys() else np.nan)\n",
    "\n",
    "# Save all chronic patient (e.g. more than 3 months of follow up & referral letter)\n",
    "df_referral = pd.read_csv('../dict/df_referral_dates.csv', sep=';')    \n",
    "l_chronic = list(df_demograph[((df_demograph['FollowUp']>93) & (df_demograph['Identifier'].isin(df_referral['Identifier'])))]['Identifier'].unique())#.to_csv('')\n",
    "pd.DataFrame(l_chronic, columns=['Identifier']).to_csv('../dict/list_chronic_pat.csv', sep=';', index=None)\n",
    "\n",
    "# Add date of first prescription to baseline table\n",
    "#df_baseline['FirstRx_date'] = df_baseline['Identifier'].apply(lambda x : d_first_rx[x] if x in d_first_rx.keys() else np.nan)\n",
    "#df_baseline['FirstRx_name'] = df_baseline['Identifier'].apply(lambda x : d_first_rx_name[x] if x in d_first_rx_name.keys() else np.nan)\n"
   ]
  },
  {
   "cell_type": "code",
   "execution_count": 25,
   "id": "f6fa1231",
   "metadata": {},
   "outputs": [
    {
     "name": "stdout",
     "output_type": "stream",
     "text": [
      "4431 patients with referral letters have medication \n"
     ]
    }
   ],
   "source": [
    "print('%s patients with referral letters have medication ' % len(df_demograph[((df_demograph['Identifier'].isin(df_prescriptions['Identifier'])) & (df_demograph['Identifier'].isin(list(pd.read_csv('../dict/df_referral_dates.csv', sep=';')['Identifier'].values))))]['Identifier'].unique()))"
   ]
  },
  {
   "cell_type": "code",
   "execution_count": 55,
   "id": "e63f8348",
   "metadata": {},
   "outputs": [
    {
     "name": "stdout",
     "output_type": "stream",
     "text": [
      "4909 patients with referral letters have medication \n"
     ]
    }
   ],
   "source": [
    "print('%s patients with referral letters have medication ' % len(df_demograph[((df_demograph['Identifier'].isin(df_prescriptions['Identifier'])) & (df_demograph['Identifier'].isin(list(pd.read_csv('../dict/df_referral_dates.csv', sep=';')['Identifier'].values))))]['Identifier'].unique()))"
   ]
  },
  {
   "cell_type": "code",
   "execution_count": 56,
   "id": "e95b5e45",
   "metadata": {},
   "outputs": [
    {
     "name": "stdout",
     "output_type": "stream",
     "text": [
      "1463 patients with referral letters have DMARD \n"
     ]
    }
   ],
   "source": [
    "print('%s patients with referral letters have DMARD ' % len(df_demograph[((~df_demograph['FirstDMARD_date'].isna()) & (df_demograph['Identifier'].isin(list(pd.read_csv('../dict/df_referral_dates.csv', sep=';')['Identifier'].values))))]['Identifier'].unique()))"
   ]
  },
  {
   "cell_type": "code",
   "execution_count": 57,
   "id": "533a9984",
   "metadata": {},
   "outputs": [
    {
     "data": {
      "text/plain": [
       "(2367, 5607)"
      ]
     },
     "execution_count": 57,
     "metadata": {},
     "output_type": "execute_result"
    }
   ],
   "source": [
    "len(df_demograph[((~df_demograph['FirstDMARD_date'].isna()) & (df_demograph['FollowUp']>365))]['Identifier'].unique()), len(df_demograph[((df_demograph['FollowUp']>365))]['Identifier'].unique())"
   ]
  },
  {
   "cell_type": "markdown",
   "id": "b69cf2d6",
   "metadata": {},
   "source": [
    "#### Select BMI "
   ]
  },
  {
   "cell_type": "code",
   "execution_count": 58,
   "id": "3a5a03b6",
   "metadata": {},
   "outputs": [
    {
     "name": "stdout",
     "output_type": "stream",
     "text": [
      "patients with BMI around baseline: 9039 (out of 9523 with BMI)\n"
     ]
    }
   ],
   "source": [
    "from pandas.tseries.offsets import Day\n",
    "df_BMI = pd.read_csv('../data/20240312_addendum/ZWN_bmi.csv', sep=',')\n",
    "#df_BMI = pd.read_csv('../data/ZWN_bmi.csv', sep=',')\n",
    "# Select first BMI\n",
    "df_BMI['Invoerdatum'] = pd.to_datetime(df_BMI['Invoerdatum'], format='%Y-%m-%d')\n",
    "df_BMI = df_BMI.sort_values(by='Invoerdatum')\n",
    "df_BMI = df_BMI.loc[df_BMI.groupby('Identifier')['Invoerdatum'].idxmin()]\n",
    "\n",
    "# CHeck if the first BMI is within time window (before first drug is prescribed)\n",
    "df_BMI['BMI_in_frame'] = df_BMI.apply(lambda x : pd.to_datetime(d_firstConsult[x['Identifier']], format='%Y-%m-%d') <= x['Invoerdatum'] + Day(62) if x['Identifier'] in d_firstConsult.keys() else False, axis=1)\n",
    "print('patients with BMI around baseline: %s (out of %s with BMI)' % (len(df_BMI[df_BMI['BMI_in_frame']]['Waarde']), len(df_BMI['Identifier'].unique())))\n",
    "\n",
    "# Add BMI to baseline if it is within predefined window\n",
    "d_bmi = dict(zip(df_BMI[df_BMI['BMI_in_frame']]['Identifier'], df_BMI[df_BMI['BMI_in_frame']]['Waarde']))\n",
    "d_bmi_date = dict(zip(df_BMI[df_BMI['BMI_in_frame']]['Identifier'], df_BMI[df_BMI['BMI_in_frame']]['Invoerdatum']))\n",
    "\n",
    "# Add BMI \n",
    "df_demograph['BMI_raw'] = df_demograph['Identifier'].apply(lambda x : d_bmi[x] if x in d_bmi.keys() else '')\n",
    "df_demograph['BMI_date'] = df_demograph['Identifier'].apply(lambda x : d_bmi_date[x] if x in d_bmi_date.keys() else '')\n",
    "\n",
    "# remove other characters\n",
    "df_demograph['BMI_raw'] = df_demograph['BMI_raw'].replace('', np.nan)\n",
    "# Typecast to float\n",
    "df_demograph['BMI_raw'] = df_demograph['BMI_raw'].astype(float)"
   ]
  },
  {
   "cell_type": "markdown",
   "id": "29ec337a",
   "metadata": {},
   "source": [
    "#### select Smoking"
   ]
  },
  {
   "cell_type": "code",
   "execution_count": 59,
   "id": "75bab9fe",
   "metadata": {},
   "outputs": [
    {
     "data": {
      "image/png": "[encoded data removed]",
      "text/plain": [
       "<Figure size 576x432 with 1 Axes>"
      ]
     },
     "metadata": {
      "needs_background": "light"
     },
     "output_type": "display_data"
    }
   ],
   "source": [
    "#df_smoking = pd.read_csv('../data/ZWN_roken.csv', sep=',')\n",
    "df_smoking = pd.read_csv('../data/20240312_addendum/ZWN_roken.csv', sep=',')\n",
    "\n",
    "\n",
    "import matplotlib.pyplot as plt\n",
    "\n",
    "# Count the frequency of each category\n",
    "category_counts = df_smoking['Nette_titel'].value_counts()\n",
    "category_counts = category_counts.sort_index()\n",
    "\n",
    "# Create a bar plot\n",
    "plt.figure(figsize=(8, 6))\n",
    "category_counts.plot( kind='bar', color=['#4F6CCF', '#2db9cc', '#fcba03', '#FA4D4D'])\n",
    "plt.title('Cluster Frequency')\n",
    "plt.xlabel('Cluster')\n",
    "plt.ylabel('Frequency')\n",
    "plt.xticks(rotation=90)  # Remove this line if you want rotated x-axis labels\n",
    "plt.show()"
   ]
  },
  {
   "cell_type": "code",
   "execution_count": 60,
   "id": "866b2d69",
   "metadata": {},
   "outputs": [
    {
     "name": "stdout",
     "output_type": "stream",
     "text": [
      "patients with Smoking around baseline: 5934 (out of 5886 with Smoking info)\n"
     ]
    }
   ],
   "source": [
    "from pandas.tseries.offsets import Day\n",
    "df_smoking = pd.read_csv('../data/20240312_addendum/ZWN_roken.csv', sep=',')\n",
    "\n",
    "# Select first Smoking\n",
    "df_smoking['Invoerdatum'] = pd.to_datetime(df_smoking['Invoerdatum'], format='%Y-%m-%d')\n",
    "df_smoking = df_smoking.sort_values(by='Invoerdatum')\n",
    "df_smoking = df_smoking[df_smoking['Nette_titel']=='Roken'].reset_index(drop=True).copy()\n",
    "#d#f_smoking = df_smoking.loc[df_smoking.groupby('Identifier')['Invoerdatum'].idxmin()]\n",
    "\n",
    "# CHeck if the first Smoking is within time window (before first drug is prescribed)\n",
    "df_smoking['Smoking_in_frame'] = df_smoking.apply(lambda x : pd.to_datetime(d_firstConsult[x['Identifier']], format='%Y-%m-%d') <= x['Invoerdatum'] + Day(365) if x['Identifier'] in d_firstConsult.keys() else True, axis=1)\n",
    "print('patients with Smoking around baseline: %s (out of %s with Smoking info)' % (len(df_smoking[df_smoking['Smoking_in_frame']]['Waarde']), len(df_smoking['Identifier'].unique())))\n",
    "\n",
    "# Add Smoking to baseline if it is within predefined window\n",
    "d_smoking = dict(zip(df_smoking['Identifier'], df_smoking['Waarde']))\n",
    "d_smoking_date = dict(zip(df_smoking['Identifier'], df_smoking['Invoerdatum']))\n",
    "\n",
    "# add smoking info\n",
    "df_demograph['Smoking_raw'] = df_demograph['Identifier'].apply(lambda x : d_smoking[x] if x in d_smoking.keys() else '')\n",
    "df_demograph['Smoking_date'] = df_demograph['Identifier'].apply(lambda x : d_smoking_date[x] if x in d_smoking_date.keys() else '')\n",
    "df_demograph['Smoking_raw'] = df_demograph['Smoking_raw'].replace('', np.nan)\n"
   ]
  },
  {
   "cell_type": "markdown",
   "id": "6cc4277f",
   "metadata": {},
   "source": [
    "#### select Alcohol"
   ]
  },
  {
   "cell_type": "code",
   "execution_count": 61,
   "id": "93281034",
   "metadata": {},
   "outputs": [
    {
     "data": {
      "image/png": "[encoded data removed]",
      "text/plain": [
       "<Figure size 576x432 with 1 Axes>"
      ]
     },
     "metadata": {
      "needs_background": "light"
     },
     "output_type": "display_data"
    }
   ],
   "source": [
    "import matplotlib.pyplot as plt\n",
    "\n",
    "#df_alcohol = pd.read_csv('../data/ZWN_alcohol.csv', sep=',')\n",
    "df_alcohol = pd.read_csv('../data/20240312_addendum/ZWN_alcohol.csv', sep=',')\n",
    "\n",
    "# Count the frequency of each category\n",
    "category_counts = df_alcohol['Nette_titel'].value_counts()\n",
    "category_counts = category_counts.sort_index()\n",
    "\n",
    "# Create a bar plot\n",
    "plt.figure(figsize=(8, 6))\n",
    "category_counts.plot( kind='bar', color=['#4F6CCF', '#2db9cc', '#fcba03', '#FA4D4D'])\n",
    "plt.title('Cluster Frequency')\n",
    "plt.xlabel('Cluster')\n",
    "plt.ylabel('Frequency')\n",
    "plt.xticks(rotation=90)  # Remove this line if you want rotated x-axis labels\n",
    "plt.show()"
   ]
  },
  {
   "cell_type": "code",
   "execution_count": 62,
   "id": "91949d8f",
   "metadata": {},
   "outputs": [
    {
     "name": "stdout",
     "output_type": "stream",
     "text": [
      "patients with Alcohol info around baseline: 5322 (out of 5344 with Smoking info)\n"
     ]
    }
   ],
   "source": [
    "from pandas.tseries.offsets import Day\n",
    "df_alcohol = pd.read_csv('../data/20240312_addendum/ZWN_alcohol.csv', sep=',')\n",
    "\n",
    "# Select first Smoking\n",
    "df_alcohol['Invoerdatum'] = pd.to_datetime(df_alcohol['Invoerdatum'], format='%Y-%m-%d')\n",
    "df_alcohol = df_alcohol.sort_values(by='Invoerdatum')\n",
    "df_alcohol = df_alcohol[df_alcohol['Nette_titel']=='Drinkt alcohol'].reset_index(drop=True).copy()\n",
    "\n",
    "# CHeck if the first Smoking is within time window (before first drug is prescribed)\n",
    "df_alcohol['Drinking_in_frame'] = df_alcohol.apply(lambda x : pd.to_datetime(d_firstConsult[x['Identifier']], format='%Y-%m-%d') <= x['Invoerdatum'] + Day(365) if x['Identifier'] in d_firstConsult.keys() else False, axis=1)\n",
    "print('patients with Alcohol info around baseline: %s (out of %s with Smoking info)' % (len(df_alcohol[df_alcohol['Drinking_in_frame']]['Waarde']), len(df_alcohol['Identifier'].unique())))\n",
    "\n",
    "# Add Smoking to baseline if it is within predefined window\n",
    "d_alcohol = dict(zip(df_alcohol['Identifier'], df_alcohol['Waarde']))\n",
    "d_alcohol_date = dict(zip(df_alcohol['Identifier'], df_alcohol['Invoerdatum']))\n",
    "\n",
    "# add alcohol info\n",
    "df_demograph['Alcohol_raw'] = df_demograph['Identifier'].apply(lambda x : d_smoking[x] if x in d_smoking.keys() else '')\n",
    "df_demograph['Alcohol_date'] = df_demograph['Identifier'].apply(lambda x : d_smoking_date[x] if x in d_smoking_date.keys() else '')\n",
    "df_demograph['Alcohol_raw'] = df_demograph['Alcohol_raw'].replace('', np.nan)\n"
   ]
  },
  {
   "cell_type": "markdown",
   "id": "4fbab868",
   "metadata": {},
   "source": [
    "### 2.3 How many Follow up days "
   ]
  },
  {
   "cell_type": "code",
   "execution_count": 64,
   "id": "6bbea129",
   "metadata": {},
   "outputs": [
    {
     "name": "stdout",
     "output_type": "stream",
     "text": [
      "Mean Followup per patient:  632.550363372093\n",
      "Median Followup per patient:  164.0\n"
     ]
    },
    {
     "data": {
      "text/plain": [
       "Text(0.5, 1.0, 'Total Follow up')"
      ]
     },
     "execution_count": 64,
     "metadata": {},
     "output_type": "execute_result"
    },
    {
     "data": {
      "image/png": "[encoded data removed]",
      "text/plain": [
       "<Figure size 432x288 with 1 Axes>"
      ]
     },
     "metadata": {
      "needs_background": "light"
     },
     "output_type": "display_data"
    }
   ],
   "source": [
    "import matplotlib.pyplot as plt\n",
    "import pandas as pd\n",
    "\n",
    "print('Mean Followup per patient: ', df_demograph['FollowUp'].mean())\n",
    "print('Median Followup per patient: ', df_demograph['FollowUp'].median())\n",
    "\n",
    "plt.hist(df_demograph['FollowUp'])\n",
    "plt.title('Total Follow up')"
   ]
  },
  {
   "cell_type": "markdown",
   "id": "fbadd804",
   "metadata": {},
   "source": [
    "#### Look within 1 year: to define threshold for chronic patients"
   ]
  },
  {
   "cell_type": "code",
   "execution_count": 65,
   "id": "fe2a9d26",
   "metadata": {},
   "outputs": [
    {
     "data": {
      "text/plain": [
       "Text(0.5, 1.0, 'Total Follow up (range= 0-365)')"
      ]
     },
     "execution_count": 65,
     "metadata": {},
     "output_type": "execute_result"
    },
    {
     "data": {
      "image/png": "[encoded data removed]",
      "text/plain": [
       "<Figure size 720x360 with 1 Axes>"
      ]
     },
     "metadata": {
      "needs_background": "light"
     },
     "output_type": "display_data"
    }
   ],
   "source": [
    "plt.figure(figsize=(10,5))\n",
    "plt.hist(df_demograph['FollowUp'], range=[0,365], bins=60)\n",
    "plt.title('Total Follow up (range= 0-365)')"
   ]
  },
  {
   "cell_type": "code",
   "execution_count": 66,
   "id": "653d12dd",
   "metadata": {},
   "outputs": [
    {
     "name": "stdout",
     "output_type": "stream",
     "text": [
      "Mean Followup per RA patient:  1438.9370988446726\n",
      "Median Followup per RA patient:  1401.5\n"
     ]
    },
    {
     "data": {
      "text/plain": [
       "Text(0.5, 1.0, 'Follow up per RA patient')"
      ]
     },
     "execution_count": 66,
     "metadata": {},
     "output_type": "execute_result"
    },
    {
     "data": {
      "image/png": "[encoded data removed]",
      "text/plain": [
       "<Figure size 432x288 with 1 Axes>"
      ]
     },
     "metadata": {
      "needs_background": "light"
     },
     "output_type": "display_data"
    }
   ],
   "source": [
    "# For RA \n",
    "print('Mean Followup per RA patient: ', df_demograph[df_demograph['Identifier'].isin(l_pat_RA)]['FollowUp'].mean())\n",
    "print('Median Followup per RA patient: ', df_demograph[df_demograph['Identifier'].isin(l_pat_RA)]['FollowUp'].median())\n",
    "\n",
    "plt.hist(pd.DataFrame(df_demograph[df_demograph['Identifier'].isin(l_pat_RA)]['FollowUp']))\n",
    "plt.title('Follow up per RA patient')"
   ]
  },
  {
   "cell_type": "markdown",
   "id": "e976b146",
   "metadata": {},
   "source": [
    "### 2.4 How many visits do we have for all patients? "
   ]
  },
  {
   "cell_type": "code",
   "execution_count": 67,
   "id": "e8c845ae",
   "metadata": {},
   "outputs": [
    {
     "name": "stdout",
     "output_type": "stream",
     "text": [
      "Mean visits per patient:  7.3656976744186045\n",
      "Median visits per patient:  3.0\n"
     ]
    },
    {
     "data": {
      "text/plain": [
       "Text(0.5, 1.0, 'Number of visits per patient')"
      ]
     },
     "execution_count": 67,
     "metadata": {},
     "output_type": "execute_result"
    },
    {
     "data": {
      "image/png": "[encoded data removed]",
      "text/plain": [
       "<Figure size 432x288 with 1 Axes>"
      ]
     },
     "metadata": {
      "needs_background": "light"
     },
     "output_type": "display_data"
    }
   ],
   "source": [
    "import matplotlib.pyplot as plt\n",
    "import pandas as pd\n",
    "\n",
    "print('Mean visits per patient: ', df_demograph['Visits'].mean())\n",
    "print('Median visits per patient: ', df_demograph['Visits'].median())\n",
    "\n",
    "plt.hist(df_demograph['Visits'])\n",
    "plt.title('Number of visits per patient')"
   ]
  },
  {
   "cell_type": "markdown",
   "id": "40f90bef",
   "metadata": {},
   "source": [
    "#### 2.4.1. visits per RA patient"
   ]
  },
  {
   "cell_type": "code",
   "execution_count": 68,
   "id": "b34ac8f0",
   "metadata": {},
   "outputs": [
    {
     "name": "stdout",
     "output_type": "stream",
     "text": [
      "Mean visits per RA patient:  17.157252888318357\n",
      "Median visits per RA patient:  16.0\n"
     ]
    },
    {
     "data": {
      "text/plain": [
       "Text(0.5, 1.0, 'Number of visits per RA patient')"
      ]
     },
     "execution_count": 68,
     "metadata": {},
     "output_type": "execute_result"
    },
    {
     "data": {
      "image/png": "[encoded data removed]",
      "text/plain": [
       "<Figure size 432x288 with 1 Axes>"
      ]
     },
     "metadata": {
      "needs_background": "light"
     },
     "output_type": "display_data"
    }
   ],
   "source": [
    "# For RA \n",
    "print('Mean visits per RA patient: ', df_demograph[df_demograph['Identifier'].isin(l_pat_RA)]['Visits'].mean())\n",
    "print('Median visits per RA patient: ', df_demograph[df_demograph['Identifier'].isin(l_pat_RA)]['Visits'].median())\n",
    "\n",
    "plt.hist(df_demograph[df_demograph['Identifier'].isin(l_pat_RA)]['Visits'])\n",
    "plt.title('Number of visits per RA patient')"
   ]
  },
  {
   "cell_type": "markdown",
   "id": "4a7fe89d",
   "metadata": {},
   "source": [
    "### 2.5 Add mannequin data"
   ]
  },
  {
   "cell_type": "code",
   "execution_count": null,
   "id": "3d3f3cb6",
   "metadata": {
    "scrolled": true
   },
   "outputs": [],
   "source": [
    "import pandas as pd\n",
    "from pandas.tseries.offsets import Day\n",
    "\n",
    "df_mannequin = pd.read_csv('../data/20240312_addendum/ZWN_zwellingpijn.csv', sep=',')\n",
    "#df_mannequin =pd.read_csv('../data/ZWN_gewrichtspop.csv', sep=',')\n",
    "\n",
    "# Select patients of interest\n",
    "#df_mannequin = df_mannequin[df_mannequin['Identifier'].isin(l_pat_RA)].reset_index(drop=True)\n",
    "print('patients with mannequin info: %s (out of %s)' % (len(df_mannequin['Identifier'].unique()), len(l_pat_RA)))\n",
    "\n",
    "# Format Date\n",
    "df_mannequin['Invoerdatum'] = pd.to_datetime(df_mannequin['Invoerdatum'], format='%Y-%m-%d')\n",
    "\n",
    "# Add date of first DMARD\n",
    "df_mannequin['FirstDMARD'] = df_mannequin['Identifier'].apply(lambda x : d_first_dmard[x] if x in d_first_dmard.keys() else np.nan)\n",
    "\n",
    "# CHeck for mannequin at baseline... a.k.a. within time window (before first drug is prescribed)\n",
    "df_mannequin['Mannequin_in_frame'] = df_mannequin.apply(lambda x : (x['Invoerdatum'] <= x['FirstDMARD']  + Day(14) or pd.isna(x['FirstDMARD'])), axis=1)\n",
    "print('patients with Mannequin around baseline: %s (out of %s with Mannequin)' % (len(df_mannequin[df_mannequin['Mannequin_in_frame']]['Identifier'].unique()), len(df_mannequin['Identifier'].unique())))\n",
    "\n",
    "#d_score = {'Pijn': 'T', 'Zwelling' : 'S', 'Pijn & Zwelling' : 'ST'}\n",
    "df_mannequin['XANTWOORD'] = df_mannequin.Gewricht + '_' + df_mannequin.Kant\n",
    "# Save follow up mannequin to calculate DAS at a later stage \n",
    "df_mannequin.to_csv('../proc/ZWN_followUp_Mannequin.csv', sep=',')\n",
    "\n",
    "# Fix for later code\n",
    "df_mannequin['XANTWOORD'] = df_mannequin.Gewricht + '_' + df_mannequin.Kant\n",
    "\n",
    "\n",
    "df_mannequin.head()"
   ]
  },
  {
   "cell_type": "markdown",
   "id": "4b9fa3a0",
   "metadata": {},
   "source": [
    "#### 2.4.2 Convert from long to wide"
   ]
  },
  {
   "cell_type": "code",
   "execution_count": 70,
   "id": "41e7eaef",
   "metadata": {},
   "outputs": [],
   "source": [
    "l_mannequin = ['Identifier', 'S_TMJ_Rechts', 'S_ankle_Links', 'S_ankle_Rechts', 'S_dip2_Links', 'S_dip2_Rechts', 'S_dip3_Links', 'S_dip3_Rechts', 'S_dip4_Links', 'S_dip4_Rechts', 'S_dip5_Links', 'S_dip5_Rechts', 'S_elbow_Links', 'S_elbow_Rechts', 'S_footip1_Rechts', 'S_footpip2_Links', 'S_footpip2_Rechts', 'S_footpip3_Links', 'S_footpip3_Rechts', 'S_footpip4_Links', 'S_footpip4_Rechts', 'S_footpip5_Links', 'S_footpip5_Rechts', 'S_glenohumeral_Links', 'S_glenohumeral_Rechts', 'S_ip1_Links', 'S_ip1_Rechts', 'S_knee_Links', 'S_knee_Rechts', 'S_mcp1_Links', 'S_mcp1_Rechts', 'S_mcp2_Links', 'S_mcp2_Rechts', 'S_mcp3_Links', 'S_mcp3_Rechts', 'S_mcp4_Links', 'S_mcp4_Rechts', 'S_mcp5_Links', 'S_mcp5_Rechts', 'S_mtp1_Links', 'S_mtp1_Rechts', 'S_mtp2_Links', 'S_mtp2_Rechts', 'S_mtp3_Links', 'S_mtp3_Rechts', 'S_mtp4_Links', 'S_mtp4_Rechts', 'S_mtp5_Links', 'S_mtp5_Rechts', 'S_pip2_Links', 'S_pip2_Rechts', 'S_pip3_Links', 'S_pip3_Rechts', 'S_pip4_Links', 'S_pip4_Rechts', 'S_pip5_Links', 'S_pip5_Rechts', 'S_sternoclavicular_Links', 'S_sternoclavicular_Rechts', 'S_wrist_Links', 'S_wrist_Rechts', 'T_TMJ_Links', 'T_TMJ_Rechts', 'T_acromioclavicular_Links', 'T_acromioclavicular_Rechts', 'T_ankle_Links', 'T_ankle_Rechts', 'T_dip2_Links', 'T_dip2_Rechts', 'T_dip3_Links', 'T_dip3_Rechts', 'T_dip4_Links', 'T_dip4_Rechts', 'T_dip5_Links', 'T_dip5_Rechts', 'T_elbow_Links', 'T_elbow_Rechts', 'T_footpip2_Links', 'T_footpip2_Rechts', 'T_footpip3_Links', 'T_footpip3_Rechts', 'T_footpip4_Links', 'T_footpip4_Rechts', 'T_footpip5_Links', 'T_footpip5_Rechts', 'T_glenohumeral_Links', 'T_glenohumeral_Rechts', 'T_hip_Links', 'T_hip_Rechts', 'T_ip1_Links', 'T_ip1_Rechts', 'T_knee_Links', 'T_knee_Rechts', 'T_mcp1_Links', 'T_mcp1_Rechts', 'T_mcp2_Links', 'T_mcp2_Rechts', 'T_mcp3_Links', 'T_mcp3_Rechts', 'T_mcp4_Links', 'T_mcp4_Rechts', 'T_mcp5_Links', 'T_mcp5_Rechts', 'T_mtp1_Links', 'T_mtp1_Rechts', 'T_mtp2_Links', 'T_mtp2_Rechts', 'T_mtp3_Links', 'T_mtp3_Rechts', 'T_mtp4_Links', 'T_mtp4_Rechts', 'T_mtp5_Links', 'T_mtp5_Rechts', 'T_pip2_Links', 'T_pip2_Rechts', 'T_pip3_Links', 'T_pip3_Rechts', 'T_pip4_Links', 'T_pip4_Rechts', 'T_pip5_Links', 'T_pip5_Rechts', 'T_sternoclavicular_Links', 'T_sternoclavicular_Rechts', 'T_talonavicular_Links', 'T_wrist_Links', 'T_wrist_Rechts', 'ST_TMJ_Rechts', 'ST_ankle_Links', 'ST_ankle_Rechts', 'ST_dip2_Rechts', 'ST_elbow_Links', 'ST_elbow_Rechts', 'ST_footip1_Links', 'ST_footip1_Rechts', 'ST_footpip2_Links', 'ST_footpip2_Rechts', 'ST_footpip3_Links', 'ST_footpip3_Rechts', 'ST_footpip4_Links', 'ST_footpip4_Rechts', 'ST_footpip5_Links', 'ST_footpip5_Rechts', 'ST_glenohumeral_Links', 'ST_glenohumeral_Rechts', 'ST_ip1_Links', 'ST_ip1_Rechts', 'ST_knee_Links', 'ST_knee_Rechts', 'ST_mcp1_Links', 'ST_mcp1_Rechts', 'ST_mcp2_Links', 'ST_mcp2_Rechts', 'ST_mcp3_Links', 'ST_mcp3_Rechts', 'ST_mcp4_Links', 'ST_mcp4_Rechts', 'ST_mcp5_Links', 'ST_mcp5_Rechts', 'ST_mtp1_Links', 'ST_mtp1_Rechts', 'ST_mtp2_Links', 'ST_mtp2_Rechts', 'ST_mtp3_Links', 'ST_mtp3_Rechts', 'ST_mtp4_Links', 'ST_mtp4_Rechts', 'ST_mtp5_Links', 'ST_mtp5_Rechts', 'ST_pip2_Links', 'ST_pip2_Rechts', 'ST_pip3_Links', 'ST_pip3_Rechts', 'ST_pip4_Links', 'ST_pip4_Rechts', 'ST_pip5_Links', 'ST_pip5_Rechts', 'ST_sternoclavicular_Rechts', 'ST_talonavicular_Links', 'ST_talonavicular_Rechts', 'ST_wrist_Links', 'ST_wrist_Rechts']\n",
    "\n",
    "\n",
    "df_man = pd.DataFrame(columns=l_mannequin)\n",
    "\n",
    "# Concatanate joint + side\n",
    "for ix in df_mannequin['Identifier'].unique():\n",
    "\n",
    "    sub_df = df_mannequin[df_mannequin['Identifier']==ix].copy()\n",
    "    \n",
    "    # Get swollen, Tender and both\n",
    "    rows = pd.get_dummies(sub_df[sub_df['Score']=='Zwelling'].XANTWOORD, prefix='S').reset_index(drop=True).replace(0, np.nan)\n",
    "    rows = pd.concat([rows, pd.get_dummies(sub_df[sub_df['Score']=='Pijn'].XANTWOORD, prefix='T').reset_index(drop=True)]).replace(0, np.nan)\n",
    "    rows = pd.concat([rows, pd.get_dummies(sub_df[sub_df['Score']=='Pijn & Zwelling'].XANTWOORD, prefix='ST').reset_index(drop=True)]).replace(0, np.nan)\n",
    "    \n",
    "    # replace missing with nan\n",
    "    if len(rows) > 0 : \n",
    "        # Combine rows into one Pandas Series\n",
    "        merged_series = rows.ffill(axis=1).iloc[:, -1]\n",
    "        # remove duplicates:\n",
    "        if len(merged_series) > len(rows.columns): \n",
    "            offset = len(merged_series)- len(rows.columns)\n",
    "            merged_series = merged_series[:-offset]\n",
    "        merged_series.index = rows.columns # doesnt really matter whether or not they are ordered\n",
    "        row = pd.DataFrame(merged_series).T\n",
    "        row = row.reset_index(drop=True)\n",
    "        row['Identifier']= ix\n",
    "        df_man = pd.concat([df_man, row]).fillna(0)\n",
    "    else : \n",
    "        df_man =  pd.concat([df_man, pd.DataFrame({'Identifier' : [ix]})]).fillna(0)\n",
    "\n",
    "#df_man"
   ]
  },
  {
   "cell_type": "code",
   "execution_count": 71,
   "id": "d2ed4f37",
   "metadata": {},
   "outputs": [],
   "source": [
    "# fill NaN with 0.0\n",
    "#new_df = new_df.fillna(0.0) # if joint is not reported we presume it is negative (0)\n",
    "df_man['SJC'] = df_man[[col for col in df_man.columns if ('S_' in col or 'ST_' in col)]].sum(axis=1)\n",
    "df_man['TJC'] = df_man[[col for col in df_man.columns if ('T_' in col or 'ST_' in col)]].sum(axis=1) \n",
    "\n",
    "\n",
    "# Add SJC to baseline table\n",
    "d_sjc = dict(zip(df_man['Identifier'], df_man['SJC']))\n",
    "d_tjc = dict(zip(df_man['Identifier'], df_man['TJC']))\n",
    "\n",
    "\n",
    "# Add SJC and TJC to baseline table\n",
    "df_demograph['SJC'] = df_demograph['Identifier'].apply(lambda x : d_sjc[x] if x in d_sjc.keys() else np.nan)\n",
    "df_demograph['TJC'] = df_demograph['Identifier'].apply(lambda x : d_tjc[x] if x in d_tjc.keys() else np.nan)\n"
   ]
  },
  {
   "cell_type": "markdown",
   "id": "5851acf2",
   "metadata": {},
   "source": [
    "### 2.5 Add lab data"
   ]
  },
  {
   "cell_type": "code",
   "execution_count": 72,
   "id": "98d7c449",
   "metadata": {},
   "outputs": [
    {
     "name": "stdout",
     "output_type": "stream",
     "text": [
      "patients with lab info: 11053 (out of 1543)\n"
     ]
    }
   ],
   "source": [
    "df_lab =pd.read_csv('../data/ZWN_labuitslagen.csv', sep=';') # To Do update with Lab once we have information for these patients\n",
    "\n",
    "# Add date of first DMARD\n",
    "df_lab['FirstDMARD'] = df_lab['Identifier'].apply(lambda x : d_first_dmard[x] if x in d_first_dmard.keys() else np.nan)\n",
    "\n",
    "\n",
    "# Select patients of interest\n",
    "#df_lab = df_lab[df_lab['Identifier'].isin(l_pat_RA)].reset_index(drop=True)\n",
    "print('patients with lab info: %s (out of %s)' % (len(df_lab['Identifier'].unique()), len(l_pat_RA)))"
   ]
  },
  {
   "cell_type": "markdown",
   "id": "f0b27ab8",
   "metadata": {},
   "source": [
    "#### 2.5.1 Add ESR"
   ]
  },
  {
   "cell_type": "code",
   "execution_count": 74,
   "id": "d831e820",
   "metadata": {},
   "outputs": [
    {
     "name": "stdout",
     "output_type": "stream",
     "text": [
      "patients with ESR around baseline: 10363 (out of 10543 with ESR)\n"
     ]
    }
   ],
   "source": [
    "d_esr_artefacts = { \n",
    "    'Het materiaal is nooit op het laboratorium aangekomen, of is op het laboratorium verloren gegaan. .brOnze welgemeende excuses voor het ongemak. Voor vragen kunt u contact opnemen met Diagnostiek voor U.' : np.nan,\n",
    "    'zie opm' : np.nan,\n",
    "    'n.t.b.' : np.nan,\n",
    "    'te weinig materiaal' : np.nan,\n",
    "     'Monster niet ontvangen patient wordt opnieuw opgeroepen' : np.nan,\n",
    "    'zie commentaar': np.nan,\n",
    "    'gestold' : np.nan,\n",
    "    'zie commentaar.brdoor fout op lab, materiaal verloren gegaan. onze excuses.' : np.nan,\n",
    "    'zie commentaar.brApparaat is defect gegaan. Helaas valt de bezinking niet te meten.' : np.nan,\n",
    "   'zie commentaar.br\\x08se niet mogelijk. Bellen on top!' : np.nan,\n",
    "   'zie commentaar.brerror op apparaat, onvoldoende materiaal om over te doen' : np.nan,\n",
    "   'zie commentaar.brTest mislukt. Niet meer te bepalen.' : np.nan, \n",
    "   '10.br\\x08se op Alifax bepaald ivm storing Inversa' : np.nan, 'Zie opm' : np.nan,\n",
    "   '28.brBepaling op Alifax gedaan omdat Inversa buiten werking is' : np.nan,\n",
    "    'n.t.b..brMateriaal te oud voor bepaling.': np.nan,\n",
    "    'weigert' :np.nan,\n",
    "    'om' : np.nan,  \n",
    "    '<1' : 1,\n",
    "    '>95' : 95\n",
    "}\n",
    "\n",
    "l_crp = ['CRP (C-reactief proteine)', 'CRP', 'CRP(CRP B)']\n",
    "l_esr = [ 'bezinking erytrocyten (BSE)', 'BSE', 'Bezinking(BSE B 1U)', 'Bezinking', 'Bezinking (BSE)']\n",
    "\n",
    "# Select first esr -> that is not one of the artefacts!!\n",
    "df_first_esr = df_lab[df_lab['ObservatieTekst'].isin(l_esr)].reset_index(drop = True).copy()\n",
    "df_first_esr['ObservatieDatumTijd'] = pd.to_datetime(df_first_esr['ObservatieDatumTijd'], format='%Y-%m-%d', errors = 'coerce')\n",
    "df_first_esr['FirstDMARD'] = pd.to_datetime(df_first_esr['FirstDMARD'], format='%Y-%m-%d')\n",
    "\n",
    "#df_first_esr = df_first_esr\n",
    "df_first_esr = df_first_esr.loc[df_first_esr.groupby('Identifier')['ObservatieDatumTijd'].idxmin()]\n",
    "\n",
    "# CHeck if the first esr is within time window (before first drug is prescribed)\n",
    "df_first_esr['ESR_in_frame'] = df_first_esr.apply(lambda x :  (x['ObservatieDatumTijd'] <= x['FirstDMARD']  + Day(1) or pd.isna(x['FirstDMARD'])), axis=1)\n",
    "print('patients with ESR around baseline: %s (out of %s with ESR)' % (len(df_first_esr[df_first_esr['ESR_in_frame']]['ObservatieWaarde']), len(df_first_esr['Identifier'].unique())))\n",
    "\n",
    "# remove artefacts\n",
    "df_first_esr['ObservatieWaarde'] = df_first_esr['ObservatieWaarde'].apply(lambda x: d_esr_artefacts[x] if x in d_esr_artefacts.keys() else x)\n",
    "\n",
    "# Add ESR to baseline if it is within predefined window\n",
    "d_esr = dict(zip(df_first_esr[df_first_esr['ESR_in_frame']]['Identifier'], df_first_esr[df_first_esr['ESR_in_frame']]['ObservatieWaarde']))\n",
    "\n",
    "# Add ESR to overall table\n",
    "df_demograph['ESR_raw'] = df_demograph['Identifier'].apply(lambda x : d_esr[x] if x in d_esr.keys() else np.nan)\n",
    "df_demograph['ESR_raw'] = df_demograph['ESR_raw'].astype(float)\n"
   ]
  },
  {
   "cell_type": "code",
   "execution_count": 75,
   "id": "f60a3ccc",
   "metadata": {},
   "outputs": [],
   "source": [
    "df_first_esr['FirstDMARD'] = pd.to_datetime(df_first_esr['FirstDMARD'], format='%Y-%m-%d')"
   ]
  },
  {
   "cell_type": "markdown",
   "id": "591fbf3e",
   "metadata": {},
   "source": [
    "#### 2.5.2 Select CRP"
   ]
  },
  {
   "cell_type": "code",
   "execution_count": 76,
   "id": "6985f08b",
   "metadata": {},
   "outputs": [
    {
     "name": "stdout",
     "output_type": "stream",
     "text": [
      "patients with CRP around baseline: 10561 (out of 10722 with ESR)\n"
     ]
    }
   ],
   "source": [
    "d_crp_artefacts = { \n",
    "    '<2.brResultaat maximaal 20% verlaagd door lipemie.' :np.nan,\n",
    "    '6.brResultaat maximaal 20% verlaagd door lipemie.': np.nan,  \n",
    "    'Monster niet ontvangen patient wordt opnieuw opgeroepen': np.nan,  \n",
    "    'Geen resultaat mogelijk door lipemie.': np.nan,\n",
    "     '97.brResultaat maximaal 20% verlaagd door lipemie.' : np.nan\n",
    "    \n",
    "}\n",
    "\n",
    "# Select first crp\n",
    "df_first_crp = df_lab[df_lab['ObservatieTekst'].isin(l_crp)].reset_index(drop = True).copy()\n",
    "df_first_crp['ObservatieDatumTijd'] = pd.to_datetime(df_first_crp['ObservatieDatumTijd'], format='%Y-%m-%d', errors = 'coerce')\n",
    "df_first_crp = df_first_crp.loc[df_first_crp.groupby('Identifier')['ObservatieDatumTijd'].idxmin()]\n",
    "\n",
    "# CHeck if the first crp  is within time window (before first drug is prescribed)\n",
    "df_first_crp['CRP_in_frame'] = df_first_crp.apply(lambda x :  (x['ObservatieDatumTijd'] <= x['FirstDMARD']  + Day(1) or pd.isna(x['FirstDMARD'])), axis=1)\n",
    "print('patients with CRP around baseline: %s (out of %s with ESR)' % (len(df_first_crp[df_first_crp['CRP_in_frame']]['ObservatieWaarde']), len(df_first_crp['Identifier'].unique())))\n",
    "\n",
    "# remove CRP artefacts\n",
    "df_first_crp['ObservatieWaarde'] = df_first_crp['ObservatieWaarde'].apply(lambda x: d_crp_artefacts[x] if x in d_crp_artefacts.keys() else x)\n",
    "\n",
    "# Add CRP to baseline if it is within predefined window\n",
    "d_crp = dict(zip(df_first_crp[df_first_crp['CRP_in_frame']]['Identifier'], df_first_crp[df_first_crp['CRP_in_frame']]['ObservatieWaarde']))\n",
    "\n",
    "# Add CRP to total table\n",
    "df_demograph['CRP_raw'] = df_demograph['Identifier'].apply(lambda x : d_crp[x] if x in d_crp.keys() else '')\n",
    "df_demograph['CRP_raw'] = df_demograph['CRP_raw'].fillna('')\n",
    "df_demograph['CRP_raw'] = df_demograph['CRP_raw'].apply(lambda x: x.replace('<', '').replace('>', ''))\n",
    "df_demograph['CRP_raw'] = df_demograph['CRP_raw'].replace('', np.nan)\n",
    "df_demograph['CRP_raw'] = df_demograph['CRP_raw'].astype(float)"
   ]
  },
  {
   "cell_type": "markdown",
   "id": "eba05156",
   "metadata": {},
   "source": [
    "### 2.6.1 Extract hematological makeup "
   ]
  },
  {
   "cell_type": "code",
   "execution_count": 77,
   "id": "8e2bc6ae",
   "metadata": {},
   "outputs": [],
   "source": [
    "df_lab['ObservatieDatumTijd'] = pd.to_datetime(df_lab['ObservatieDatumTijd'], format='%Y-%m-%d', errors = 'coerce')\n",
    "df_lab['in_frame'] = df_lab.apply(lambda x : (x['ObservatieDatumTijd'] <= x['FirstDMARD']  + Day(1) or pd.isna(x['FirstDMARD'])), axis=1)"
   ]
  },
  {
   "cell_type": "code",
   "execution_count": 78,
   "id": "8f938573",
   "metadata": {},
   "outputs": [],
   "source": [
    "def remove_trailing_text(text):\n",
    "    if text == text: \n",
    "        if '.brSinds 20-07-2017 worden MCV en RDW automatisch toegevoegd bij elke HB aanvraag.' in text :\n",
    "            return text.replace('.brSinds 20-07-2017 worden MCV en RDW automatisch toegevoegd bij elke HB aanvraag.', '')\n",
    "        elif '.brOverweeg bij een onbekende trombocytopenie om de trombocytenbepaling opnieuw .braan te vragen in citraatbloed om een eventuele pseudotrombocytopenie uit te sluiten.' in text :\n",
    "            return text.replace('.brOverweeg bij een onbekende trombocytopenie om de trombocytenbepaling opnieuw .braan te vragen in citraatbloed om een eventuele pseudotrombocytopenie uit te sluiten.', '')\n",
    "        elif '> ' in text or '>' in text:\n",
    "            return text.replace('> ', '').replace('>', '')\n",
    "        elif '-' in text or '+' in text: \n",
    "            return np.nan\n",
    "        else :\n",
    "            return text\n",
    "    else :\n",
    "        return text\n",
    "    \n",
    "d_hemo_artefacts = { \n",
    "    'te weinig materiaal' : np.nan,\n",
    "    'Monster niet ontvangen patient wordt opnieuw opgeroepen' : np.nan,\n",
    "    'zie commentaar': np.nan,\n",
    "    'gestold' : np.nan,\n",
    "    'Niet verricht' : np.nan,\n",
    "    'Het materiaal is niet, of zonder correcte identificatie ontvangen..brPatient wordt door ons opnieuw opgeroepen.' : np.nan,\n",
    "    'Geen geschikt materiaal ontvangen, patient wordt benaderd voor nieuwe afname.' : np.nan,\n",
    "    'zie commentaar.brmateriaal te laat ontvangen, kan niet meer bepaald worden.' : np.nan,\n",
    "    'Het materiaal is niet, of zonder correcte identificatie ontvangen.'  : np.nan,\n",
    "    'Materiaal niet ontvangen bij aanvraag.'  : np.nan,\n",
    "    '12.9.br16-8 Telefonisch contact gehad over deze uitslag. Hoog Hb kan passen bij PCV. Karin Nabbe, klinisch chemicus.' : 12.9,\n",
    "    'zie commentaar.brMevrouw is moeilijk te prikken, afname niet volledig gelukt. Patient komt begin van de week terug.' : np.nan,\n",
    "    'Materiaal is zonder identificatie ontvangen, patient wordt benaderd voor nieuwe afname.' : np.nan,\n",
    "    'zie commentaar.brBuis was niet te prikken..brIom arts vervallen testen.' : np.nan,\n",
    "    'zie opm' : np.nan,\n",
    "    'neg' : np.nan,\n",
    "    'Niet te bepalen ivm oud bloed' : np.nan,\n",
    "    'Negatief' : np.nan,\n",
    "    'Positief': np.nan,\n",
    "    'negatief' : np.nan,\n",
    "    'spoor' : np.nan,\n",
    "    'Ten minste 285' : 285,\n",
    "    'Ten minste 346' : 346,\n",
    "    'Urine niet ontvangen, mogelijk niet ingeleverd door patiënt?' : np.nan,\n",
    "    'Het materiaal is nooit op het laboratorium aangekomen, of is op het laboratorium verloren gegaan. .brOnze welgemeende excuses voor het ongemak. Voor vragen kunt u contact opnemen met Diagnostiek voor U.' : np.nan,\n",
    "    'Materiaal te oud' : np.nan,\n",
    "    'Materiaal te oud.brHet bloed is te oud om betrouwbaar het MCV en de RDW te kunnen bepalen.' : np.nan,\n",
    "    'Materiaal niet ontvangen bij aanvraag, client verzocht alsnog materiaal in te leveren.' : np.nan,\n",
    "    '0.1.brLET OP! dit betreft synoviaalvocht.' : np.nan\n",
    "}\n",
    "\n",
    "l_lab= ['Identifier', 'Hematocriet', 'hemoglobine', 'Hemoglobine','Lymfocyten', 'Monocyten',  'monocyten', \"mono's\", 'Leucocyten', 'Leukocyten', 'leukocyten', 'Leucocyten (WBC)','Trombocyten', 'trombocyten', 'MCV', 'MCV(MCV B)','MCH', 'MCHC', \"lymfo's\", ]\n",
    "\n",
    "\n",
    "df_hemo = df_lab[((df_lab['in_frame']==1) & (df_lab['ObservatieTekst'].isin(l_lab)))].copy()#[l_lab]\n",
    "df_hemo = df_hemo.reset_index(drop=True)\n",
    "# sort in descending order, so we save last one (earliest)\n",
    "df_hemo = df_hemo.sort_values(by='ObservatieDatumTijd', ascending=False)\n",
    "\n",
    "\n",
    "# Remove trailing text\n",
    "df_hemo['ObservatieWaarde'] = df_hemo['ObservatieWaarde'].apply(lambda x: remove_trailing_text(x))\n",
    "# remove  artefacts\n",
    "df_hemo['ObservatieWaarde'] = df_hemo['ObservatieWaarde'].apply(lambda x: d_hemo_artefacts[x] if x in d_hemo_artefacts.keys() else x)\n",
    "\n",
    "\n",
    "# Add Hb to baseline if it is within predefined window\n",
    "l_hb = ['Hemoglobine', 'hemoglobine']\n",
    "d_hb = dict(zip(df_hemo[df_hemo['ObservatieTekst'].isin(l_hb)]['Identifier'], df_hemo[df_hemo['ObservatieTekst'].isin(l_hb)]['ObservatieWaarde']))\n",
    "\n",
    "# Add Ht to baseline\n",
    "l_ht = ['Hematocriet']\n",
    "d_ht = dict(zip(df_hemo[df_hemo['ObservatieTekst'].isin(l_ht)]['Identifier'], df_hemo[df_hemo['ObservatieTekst'].isin(l_ht)]['ObservatieWaarde']))\n",
    "\n",
    "# Add Leukocytes to baseline\n",
    "l_leuko = ['Leucocyten', 'Leukocyten', 'leukocyten', 'Leucocyten (WBC)']\n",
    "d_leuko = dict(zip(df_hemo[df_hemo['ObservatieTekst'].isin(l_leuko)]['Identifier'], df_hemo[df_hemo['ObservatieTekst'].isin(l_leuko)]['ObservatieWaarde']))\n",
    "\n",
    "# Add Trombocytes to baseline\n",
    "l_trom = ['Trombocyten', 'trombocyten']\n",
    "d_trom = dict(zip(df_hemo[df_hemo['ObservatieTekst'].isin(l_trom)]['Identifier'], df_hemo[df_hemo['ObservatieTekst'].isin(l_trom)]['ObservatieWaarde']))\n",
    "\n",
    "# Add MCV to baseline\n",
    "l_mcv = ['MCV', 'MCV(MCV B)']\n",
    "d_mcv = dict(zip(df_hemo[df_hemo['ObservatieTekst'].isin(l_mcv)]['Identifier'], df_hemo[df_hemo['ObservatieTekst'].isin(l_mcv)]['ObservatieWaarde']))\n",
    "\n",
    "# Add MCH to baseline\n",
    "l_mch = ['MCH']\n",
    "d_mch = dict(zip(df_hemo[df_hemo['ObservatieTekst'].isin(l_mch)]['Identifier'], df_hemo[df_hemo['ObservatieTekst'].isin(l_mch)]['ObservatieWaarde']))\n",
    "\n",
    "# Add MCHC to baseline\n",
    "l_mchc = ['MCHC']\n",
    "d_mchc = dict(zip(df_hemo[df_hemo['ObservatieTekst'].isin(l_mchc)]['Identifier'], df_hemo[df_hemo['ObservatieTekst'].isin(l_mchc)]['ObservatieWaarde']))\n"
   ]
  },
  {
   "cell_type": "markdown",
   "id": "0338e616",
   "metadata": {},
   "source": [
    "#### 2.7.1 Extract RF & ACPA status \n",
    "\n",
    "With respect to the autoantibody status, we do not have to impose additional time constraints, given that the autoantibody status generally remains the same across time (especially in the 6 month period (starting at first consult) that was used for this selection of lab values)"
   ]
  },
  {
   "cell_type": "code",
   "execution_count": 79,
   "id": "e38636d5",
   "metadata": {},
   "outputs": [
    {
     "name": "stdout",
     "output_type": "stream",
     "text": [
      "patients with RF info: 5844 (out of 1543)\n",
      "patients with aCCP info: 5829 (out of 1543)\n"
     ]
    }
   ],
   "source": [
    "# get rheumatoid factor\n",
    "l_rf = ['Reumafactor IgM', 'Reumafactor', 'reumafactoren','IgM RF']\n",
    "l_accp = ['anti CCP', 'Anti-CCP', 'CCP as', 'Anti CCP','Anti CCP (citrulline)']\n",
    "\n",
    "# Collect RF \n",
    "df_rf = df_lab[df_lab['ObservatieTekst'].isin(l_rf)].copy()\n",
    "d_rf = dict(zip(df_rf['Identifier'], df_rf['ObservatieWaarde']))\n",
    "\n",
    "# Collect aCCP\n",
    "df_aCCP = df_lab[df_lab['ObservatieTekst'].isin(l_accp)].copy()\n",
    "d_aCCP = dict(zip(df_rf['Identifier'], df_rf['ObservatieWaarde']))\n",
    "\n",
    "print('patients with RF info: %s (out of %s)' % (len(df_lab[df_lab['ObservatieTekst'].isin(l_rf)]['Identifier'].unique()), len(l_pat_RA)))\n",
    "print('patients with aCCP info: %s (out of %s)' % (len(df_lab[df_lab['ObservatieTekst'].isin(l_accp)]['Identifier'].unique()), len(l_pat_RA)))\n",
    "\n",
    "\n",
    "# Add ACPA to baseline table\n",
    "df_demograph['ACPA_raw'] = df_demograph['Identifier'].apply(lambda x : d_aCCP[x] if x in d_aCCP.keys() else np.nan)\n",
    "\n",
    "# Add RF to baseline table\n",
    "df_demograph['RF_raw'] = df_demograph['Identifier'].apply(lambda x : d_rf[x] if x in d_rf.keys() else np.nan)\n",
    "\n",
    "# Binarize RF & ACPA information\n",
    "df_demograph['RF'] = df_demograph['RF_raw'].apply(lambda x : func.infer_RF(x))#.iloc[3]\n",
    "df_demograph['ACPA'] = df_demograph['ACPA_raw'].apply(lambda x : func.infer_aCCP(x))#.iloc[3]\n",
    "\n",
    "# Add hematological information\n",
    "df_demograph['MCV'] = df_demograph['Identifier'].apply(lambda x : d_mcv[x] if x in d_mcv.keys() else np.nan)\n",
    "df_demograph['MCH'] = df_demograph['Identifier'].apply(lambda x : d_mch[x] if x in d_mch.keys() else np.nan)\n",
    "df_demograph['MCHC'] = df_demograph['Identifier'].apply(lambda x : d_mchc[x] if x in d_mchc.keys() else np.nan)\n",
    "df_demograph['Hb'] = df_demograph['Identifier'].apply(lambda x : d_hb[x] if x in d_hb.keys() else np.nan)\n",
    "df_demograph['Ht'] = df_demograph['Identifier'].apply(lambda x : d_ht[x] if x in d_ht.keys() else np.nan)\n",
    "df_demograph['Leuko'] = df_demograph['Identifier'].apply(lambda x : d_leuko[x] if x in d_leuko.keys() else np.nan)\n",
    "df_demograph['Trom'] = df_demograph['Identifier'].apply(lambda x : d_trom[x] if x in d_trom.keys() else np.nan)\n",
    "\n",
    "df_demograph = df_demograph.rename(columns = {'Geslacht':  'Sex', 'Leeftijd_Eerste_Afspraak' : 'Age'})\n",
    "df_demograph['Sex'] = df_demograph['Sex'].replace({'V' : 1, 'F' : 1, 'M' : 0, 'O' : np.nan})\n",
    "df_demograph['ACPA'] = df_demograph['ACPA'].replace({'Positief' : 1, 'Negatief' : 0})\n",
    "df_demograph['RF'] = df_demograph['RF'].replace({'Positief' : 1, 'Negatief' : 0})\n",
    "df_demograph.to_csv('../dict/Demographics_ALL.csv', sep=';', index=None)\n"
   ]
  },
  {
   "cell_type": "markdown",
   "id": "b516137c",
   "metadata": {},
   "source": [
    "### 3. Prepare data to render baseline table"
   ]
  },
  {
   "cell_type": "code",
   "execution_count": 80,
   "id": "4e49cf7b",
   "metadata": {},
   "outputs": [],
   "source": [
    "df_baseline = df_demograph[df_demograph['Identifier'].isin(l_pat_RA)].reset_index(drop=True)\n",
    "df_baseline.to_csv('../dict/Demographics_RA.csv', sep=';', index=None)\n",
    "\n"
   ]
  },
  {
   "cell_type": "markdown",
   "id": "dfece178",
   "metadata": {},
   "source": [
    "### 3.1 Generate overview for all data (even those with incomplete info)"
   ]
  },
  {
   "cell_type": "code",
   "execution_count": null,
   "id": "121e8677",
   "metadata": {},
   "outputs": [],
   "source": [
    "import pandas as pd\n",
    "import numpy as np\n",
    "\n",
    "# Add referral date\n",
    "l_chronic = list(pd.read_csv('../dict/list_chronic_pat.csv', sep=';')['Identifier'])\n",
    "l_pat_RA_ref = list(pd.read_csv('../dict/list_ra_patients_referral.csv', sep=';')['0'])\n",
    "df_refdates = pd.read_csv('../dict/df_referral_dates.csv', sep=';')\n",
    "d_refdelta = dict(zip(df_refdates['Identifier'], df_refdates['delta_referral_visit'])\n",
    " \n",
    "# Baseline\n",
    "df_baseline = pd.read_csv('../dict/Demographics_ALL.csv', sep=';')\n",
    "\n",
    "# Add referral date\n",
    "df_baseline['deltaref'] = df_baseline['Identifier'].apply(lambda x : d_refdelta[x] if x in d_refdelta.keys() else np.nan)"
   ]
  },
  {
   "cell_type": "code",
   "execution_count": null,
   "id": "7b4ec72d",
   "metadata": {},
   "outputs": [],
   "source": [
    "import numpy as np\n",
    "\n",
    "def IQR(data):\n",
    "    # First quartile (Q1)\n",
    "    Q1 = np.percentile(data, 25, interpolation = 'midpoint')\n",
    "\n",
    "    # Third quartile (Q3)\n",
    "    Q3 = np.percentile(data, 75, interpolation = 'midpoint')\n",
    "   \n",
    "    # Interquaritle range (IQR)\n",
    "    iqr = Q3 - Q1\n",
    "    return [Q1, Q3]\n",
    "\n",
    "df_summary = pd.DataFrame(columns=['cluster', 'N', 'DMARD [n(%)]', 'Sex, F [n(%)]','Age (mean+-SD, yr)', 'BMI (mean+-SD)', 'Wait time, days (median+-IQR)', 'RF [n(%)]', 'ACPA [n(%)]', 'ESR (median+-IQR)', 'CRP (median+-IQR)', 'SJC (median+-IQR)','TJC (median+-IQR)',  'Visits (median+-IQR)', 'Follow Up (median+-IQR)', 'RF_na [n(%)]','ACPA_na [n(%)]', 'ESR_na [n(%)]' , 'CRP_na [n(%)]', 'SJC_na [n(%)]' , 'TJC_na [n(%)]', 'BMI_na [n(%)]']) #TreatSwitch [n(%)]', \n",
    "\n",
    "def generate_baseline_ref(df_baseline, name = 'All'):\n",
    "    return [name, '%.2f' % len(df_baseline), \n",
    "     '%.0f (%.1f)' % (len(df_baseline[~df_baseline['FirstDMARD_date'].isna()]), (max(0.00001, len(df_baseline[~df_baseline['FirstDMARD_date'].isna()]))/len(df_baseline))*100),\n",
    "     '%.0f (%.1f)' % (np.sum(df_baseline['Sex']), np.mean(df_baseline['Sex']) * 100),  '%.1f (%.1f)' % (np.mean(df_baseline['Age']), np.std(df_baseline['Age'])), \n",
    "     '%.1f (%.1f)' % (np.mean(df_baseline[~df_baseline['BMI_raw'].isna()]['BMI_raw']), np.std(df_baseline[~df_baseline['BMI_raw'].isna()]['BMI_raw'])),\n",
    "     '%.1f (%.1f-%.1f)' % (np.median(df_baseline['deltaref']), IQR(df_baseline['deltaref'])[0], IQR(df_baseline['deltaref'])[1]), \n",
    "     '%.0f (%.1f)' % (np.sum(df_baseline['RF']), np.mean(df_baseline['RF']) * 100), \n",
    "     '%.0f (%.1f)' % (np.sum(df_baseline['ACPA']), np.mean(df_baseline['ACPA']) * 100),\n",
    "     '%.1f (%.1f-%.1f)' % (np.median(df_baseline[~df_baseline['ESR_raw'].isna()]['ESR_raw']), IQR(df_baseline[~df_baseline['ESR_raw'].isna()]['ESR_raw'])[0], IQR(df_baseline[~df_baseline['ESR_raw'].isna()]['ESR_raw'])[1]),\n",
    "     '%.1f (%.1f-%.1f)' % (np.median(df_baseline[~df_baseline['CRP_raw'].isna()]['CRP_raw']), IQR(df_baseline[~df_baseline['CRP_raw'].isna()]['CRP_raw'])[0], IQR(df_baseline[~df_baseline['CRP_raw'].isna()]['CRP_raw'])[1]),\n",
    "     '%.1f (%.1f-%.1f)' % (np.median(df_baseline[~df_baseline['SJC'].isna()]['SJC']), IQR(df_baseline[~df_baseline['SJC'].isna()]['SJC'])[0], IQR(df_baseline[~df_baseline['SJC'].isna()]['SJC'])[1]) if len(df_baseline[~df_baseline['SJC'].isna()]) > 0 else 0,\n",
    "     '%.1f (%.1f-%.1f)' % (np.median(df_baseline[~df_baseline['TJC'].isna()]['TJC']), IQR(df_baseline[~df_baseline['TJC'].isna()]['TJC'])[0], IQR(df_baseline[~df_baseline['TJC'].isna()]['TJC'])[1]) if len(df_baseline[~df_baseline['TJC'].isna()]) > 0 else 0,\n",
    "     '%.1f (%.1f-%.1f)' % (np.median(df_baseline['Visits']), IQR(df_baseline['Visits'])[0], IQR(df_baseline['Visits'])[1]),\n",
    "     '%.1f (%.1f-%.1f)' % (np.median(df_baseline['FollowUp']), IQR(df_baseline['FollowUp'])[0], IQR(df_baseline['FollowUp'])[1]),\n",
    "     '%.0f (%.1f)' % (len(df_baseline[df_baseline['RF'].isna()]), (len(df_baseline[df_baseline['RF'].isna()])/len(df_baseline))*100), '%.0f (%.1f)' % (len(df_baseline[df_baseline['ACPA'].isna()]), (len(df_baseline[df_baseline['ACPA'].isna()])/len(df_baseline))*100),\n",
    "     '%.0f (%.1f)' % (len(df_baseline[df_baseline['ESR_raw'].isna()]), (len(df_baseline[df_baseline['ESR_raw'].isna()])/len(df_baseline))*100),\n",
    "     '%.0f (%.1f)' % (len(df_baseline[df_baseline['CRP_raw'].isna()]), (len(df_baseline[df_baseline['CRP_raw'].isna()])/len(df_baseline))*100),\n",
    "     '%.0f (%.1f)' % (len(df_baseline[df_baseline['SJC'].isna()]), (len(df_baseline[df_baseline['SJC'].isna()])/len(df_baseline))*100),\n",
    "     '%.0f (%.1f)' % (len(df_baseline[df_baseline['TJC'].isna()]), (len(df_baseline[df_baseline['TJC'].isna()])/len(df_baseline))*100),\n",
    "     '%.0f (%.1f)' % (len(df_baseline[df_baseline['BMI_raw'].isna()]), (len(df_baseline[df_baseline['BMI_raw'].isna()])/len(df_baseline))*100),\n",
    "    ]\n",
    "# \n",
    "\n",
    "# select non RA \n",
    "nonRA = df_baseline[((~df_baseline['Identifier'].isin(l_pat_RA_ref)) & (~df_baseline['deltaref'].isna()))]\n",
    "RA = df_baseline[((~df_baseline['FirstDMARD_date'].isna()) & (df_baseline['Identifier'].isin(l_pat_RA_ref)) & (~df_baseline['deltaref'].isna()))]\n",
    "\n",
    "\n",
    "\n",
    "df_summary.loc[0] = generate_baseline_ref(nonRA, 'nonRA')\n",
    "df_summary.loc[1] = generate_baseline_ref(RA, 'RA')\n",
    "\n",
    "df_summary = df_summary.reset_index(drop=True)\n",
    "df_summary.T"
   ]
  },
  {
   "cell_type": "markdown",
   "id": "044c8002",
   "metadata": {},
   "source": [
    "### Render baseline of RA patients that have referral letters"
   ]
  },
  {
   "cell_type": "code",
   "execution_count": null,
   "id": "8265ae04",
   "metadata": {},
   "outputs": [],
   "source": [
    "import pandas as pd\n",
    "l_pat_RA_ref = list(pd.read_csv('../dict/list_ra_patients_referral.csv', sep=';')['0'])\n",
    "print(len(l_pat_RA_ref))"
   ]
  },
  {
   "cell_type": "code",
   "execution_count": 82,
   "id": "821be6de",
   "metadata": {},
   "outputs": [
    {
     "name": "stdout",
     "output_type": "stream",
     "text": [
      "Number of patients that start with DMARD:  2636\n"
     ]
    }
   ],
   "source": [
    "print('Number of patients that start with DMARD: ', len(df_baseline[(df_baseline['FirstDMARD_date']==df_baseline['FirstDMARD_date'])]))"
   ]
  },
  {
   "cell_type": "code",
   "execution_count": 83,
   "id": "a569a088",
   "metadata": {},
   "outputs": [
    {
     "name": "stdout",
     "output_type": "stream",
     "text": [
      "Number of patients with more than 3 mo of followup :  7439\n"
     ]
    },
    {
     "data": {
      "text/html": [
       "<div>\n",
       "<style scoped>\n",
       "    .dataframe tbody tr th:only-of-type {\n",
       "        vertical-align: middle;\n",
       "    }\n",
       "\n",
       "    .dataframe tbody tr th {\n",
       "        vertical-align: top;\n",
       "    }\n",
       "\n",
       "    .dataframe thead th {\n",
       "        text-align: right;\n",
       "    }\n",
       "</style>\n",
       "<table border=\"1\" class=\"dataframe\">\n",
       "  <thead>\n",
       "    <tr style=\"text-align: right;\">\n",
       "      <th></th>\n",
       "      <th>0</th>\n",
       "      <th>1</th>\n",
       "    </tr>\n",
       "  </thead>\n",
       "  <tbody>\n",
       "    <tr>\n",
       "      <th>cluster</th>\n",
       "      <td>nonChronic</td>\n",
       "      <td>RA population</td>\n",
       "    </tr>\n",
       "    <tr>\n",
       "      <th>N</th>\n",
       "      <td>4184.00</td>\n",
       "      <td>14195.00</td>\n",
       "    </tr>\n",
       "    <tr>\n",
       "      <th>DMARD [n(%)]</th>\n",
       "      <td>42 (1.0)</td>\n",
       "      <td>2636 (18.6)</td>\n",
       "    </tr>\n",
       "    <tr>\n",
       "      <th>Sex, F [n(%)]</th>\n",
       "      <td>3105 (74.2)</td>\n",
       "      <td>9568 (67.4)</td>\n",
       "    </tr>\n",
       "    <tr>\n",
       "      <th>Age (mean+-SD, yr)</th>\n",
       "      <td>51.3 (16.1)</td>\n",
       "      <td>54.5 (16.5)</td>\n",
       "    </tr>\n",
       "    <tr>\n",
       "      <th>BMI (mean+-SD)</th>\n",
       "      <td>27.4 (5.4)</td>\n",
       "      <td>27.5 (5.4)</td>\n",
       "    </tr>\n",
       "    <tr>\n",
       "      <th>Wait time, days (median+-IQR)</th>\n",
       "      <td>8.0 (4.0-16.0)</td>\n",
       "      <td>nan (nan-nan)</td>\n",
       "    </tr>\n",
       "    <tr>\n",
       "      <th>RF [n(%)]</th>\n",
       "      <td>522 (30.8)</td>\n",
       "      <td>2238 (38.1)</td>\n",
       "    </tr>\n",
       "    <tr>\n",
       "      <th>ACPA [n(%)]</th>\n",
       "      <td>218 (12.9)</td>\n",
       "      <td>1210 (20.6)</td>\n",
       "    </tr>\n",
       "    <tr>\n",
       "      <th>ESR (median+-IQR)</th>\n",
       "      <td>8.0 (5.0-14.0)</td>\n",
       "      <td>10.0 (5.0-20.0)</td>\n",
       "    </tr>\n",
       "    <tr>\n",
       "      <th>CRP (median+-IQR)</th>\n",
       "      <td>2.0 (2.0-5.0)</td>\n",
       "      <td>4.0 (2.0-7.7)</td>\n",
       "    </tr>\n",
       "    <tr>\n",
       "      <th>SJC (median+-IQR)</th>\n",
       "      <td>2.0 (0.0-4.0)</td>\n",
       "      <td>3.0 (1.0-9.0)</td>\n",
       "    </tr>\n",
       "    <tr>\n",
       "      <th>TJC (median+-IQR)</th>\n",
       "      <td>3.0 (1.0-6.0)</td>\n",
       "      <td>4.0 (2.0-10.0)</td>\n",
       "    </tr>\n",
       "    <tr>\n",
       "      <th>Visits (median+-IQR)</th>\n",
       "      <td>2.0 (2.0-2.0)</td>\n",
       "      <td>nan (nan-nan)</td>\n",
       "    </tr>\n",
       "    <tr>\n",
       "      <th>Follow Up (median+-IQR)</th>\n",
       "      <td>13.5 (4.0-21.0)</td>\n",
       "      <td>nan (nan-nan)</td>\n",
       "    </tr>\n",
       "    <tr>\n",
       "      <th>RF_na [n(%)]</th>\n",
       "      <td>2490 (59.5)</td>\n",
       "      <td>8323 (58.6)</td>\n",
       "    </tr>\n",
       "    <tr>\n",
       "      <th>ACPA_na [n(%)]</th>\n",
       "      <td>2490 (59.5)</td>\n",
       "      <td>8323 (58.6)</td>\n",
       "    </tr>\n",
       "    <tr>\n",
       "      <th>ESR_na [n(%)]</th>\n",
       "      <td>1186 (28.3)</td>\n",
       "      <td>3767 (26.5)</td>\n",
       "    </tr>\n",
       "    <tr>\n",
       "      <th>CRP_na [n(%)]</th>\n",
       "      <td>1123 (26.8)</td>\n",
       "      <td>3514 (24.8)</td>\n",
       "    </tr>\n",
       "    <tr>\n",
       "      <th>SJC_na [n(%)]</th>\n",
       "      <td>4141 (99.0)</td>\n",
       "      <td>12275 (86.5)</td>\n",
       "    </tr>\n",
       "    <tr>\n",
       "      <th>TJC_na [n(%)]</th>\n",
       "      <td>4141 (99.0)</td>\n",
       "      <td>12275 (86.5)</td>\n",
       "    </tr>\n",
       "    <tr>\n",
       "      <th>BMI_na [n(%)]</th>\n",
       "      <td>1191 (28.5)</td>\n",
       "      <td>5052 (35.6)</td>\n",
       "    </tr>\n",
       "  </tbody>\n",
       "</table>\n",
       "</div>"
      ],
      "text/plain": [
       "                                             0                1\n",
       "cluster                             nonChronic    RA population\n",
       "N                                      4184.00         14195.00\n",
       "DMARD [n(%)]                          42 (1.0)      2636 (18.6)\n",
       "Sex, F [n(%)]                      3105 (74.2)      9568 (67.4)\n",
       "Age (mean+-SD, yr)                 51.3 (16.1)      54.5 (16.5)\n",
       "BMI (mean+-SD)                      27.4 (5.4)       27.5 (5.4)\n",
       "Wait time, days (median+-IQR)   8.0 (4.0-16.0)    nan (nan-nan)\n",
       "RF [n(%)]                           522 (30.8)      2238 (38.1)\n",
       "ACPA [n(%)]                         218 (12.9)      1210 (20.6)\n",
       "ESR (median+-IQR)               8.0 (5.0-14.0)  10.0 (5.0-20.0)\n",
       "CRP (median+-IQR)                2.0 (2.0-5.0)    4.0 (2.0-7.7)\n",
       "SJC (median+-IQR)                2.0 (0.0-4.0)    3.0 (1.0-9.0)\n",
       "TJC (median+-IQR)                3.0 (1.0-6.0)   4.0 (2.0-10.0)\n",
       "Visits (median+-IQR)             2.0 (2.0-2.0)    nan (nan-nan)\n",
       "Follow Up (median+-IQR)        13.5 (4.0-21.0)    nan (nan-nan)\n",
       "RF_na [n(%)]                       2490 (59.5)      8323 (58.6)\n",
       "ACPA_na [n(%)]                     2490 (59.5)      8323 (58.6)\n",
       "ESR_na [n(%)]                      1186 (28.3)      3767 (26.5)\n",
       "CRP_na [n(%)]                      1123 (26.8)      3514 (24.8)\n",
       "SJC_na [n(%)]                      4141 (99.0)     12275 (86.5)\n",
       "TJC_na [n(%)]                      4141 (99.0)     12275 (86.5)\n",
       "BMI_na [n(%)]                      1191 (28.5)      5052 (35.6)"
      ]
     },
     "execution_count": 83,
     "metadata": {},
     "output_type": "execute_result"
    }
   ],
   "source": [
    "\n",
    "\n",
    "# Patients should have RA-ICD code, 3 mo of Follow up, a referral letter and a DMARD prescribed\n",
    "print('Number of patients with more than 3 mo of followup : ', len(df_baseline[df_baseline['FollowUp']>93]['Identifier'].unique()))\n",
    "\n",
    "\n",
    "# select non RA \n",
    "nonChronic = df_baseline[((~df_baseline['Identifier'].isin(l_chronic)) & (~df_baseline['deltaref'].isna()))]\n",
    "\n",
    "df_summary.loc[0] = generate_baseline_ref(nonChronic, 'nonChronic')\n",
    "\n",
    "df_summary.loc[1] = generate_baseline_ref(df_baseline, 'total population')\n",
    "\n",
    "#df_summary = df_summary.reset_index(drop=True)\n",
    "df_summary.T"
   ]
  },
  {
   "cell_type": "code",
   "execution_count": 85,
   "id": "0d564fe3",
   "metadata": {},
   "outputs": [],
   "source": [
    "import pandas as pd\n",
    "import numpy as np\n",
    "\n",
    "thresh_loc = 1000\n",
    "\n",
    "df_center_location = pd.read_csv('../data/20240129_Afspraak_locatie.csv', sep=';')\n",
    "df_center_location['Identifier'] = df_center_location['ID'].apply(lambda x : x.replace('{', '').replace('}', '').lower())\n",
    "df_center_location['GUID_Afspraak'] = df_center_location['GUID_Afspraak'].apply(lambda x : x.replace('{', '').replace('}', '').lower())\n",
    "df_center_location['Datum'] = pd.to_datetime(df_center_location['Datum'], format='%Y-%m-%d')\n",
    "\n",
    "# Add location to referral letter\n",
    "d_location = dict(zip(df_center_location['Identifier'], df_center_location['Locatie']))\n",
    "df_baseline['Locatie'] = df_baseline['Identifier'].apply(lambda x : d_location[x] if x in d_location.keys() else np.nan)\n",
    "df_baseline= df_baseline[(~df_baseline['deltaref'].isna())]"
   ]
  },
  {
   "cell_type": "code",
   "execution_count": 86,
   "id": "dde1090e",
   "metadata": {},
   "outputs": [
    {
     "name": "stdout",
     "output_type": "stream",
     "text": [
      "8870\n"
     ]
    }
   ],
   "source": [
    "print(len(df_baseline))"
   ]
  },
  {
   "cell_type": "markdown",
   "id": "391a6137",
   "metadata": {},
   "source": [
    "### Create baseline for RA population"
   ]
  },
  {
   "cell_type": "code",
   "execution_count": 87,
   "id": "af66db8a",
   "metadata": {
    "scrolled": true
   },
   "outputs": [
    {
     "data": {
      "text/plain": [
       "779"
      ]
     },
     "execution_count": 87,
     "metadata": {},
     "output_type": "execute_result"
    }
   ],
   "source": [
    "len(l_pat_RA_ref)"
   ]
  },
  {
   "cell_type": "code",
   "execution_count": 88,
   "id": "2fd766ad",
   "metadata": {},
   "outputs": [
    {
     "name": "stdout",
     "output_type": "stream",
     "text": [
      "Number of patients with known location :  6199\n",
      "Number of patients with more than 3 mo of followup :  4613\n",
      "Number of patients with known location and more than 3 mo of followup :  3251\n"
     ]
    },
    {
     "data": {
      "text/html": [
       "<div>\n",
       "<style scoped>\n",
       "    .dataframe tbody tr th:only-of-type {\n",
       "        vertical-align: middle;\n",
       "    }\n",
       "\n",
       "    .dataframe tbody tr th {\n",
       "        vertical-align: top;\n",
       "    }\n",
       "\n",
       "    .dataframe thead th {\n",
       "        text-align: right;\n",
       "    }\n",
       "</style>\n",
       "<table border=\"1\" class=\"dataframe\">\n",
       "  <thead>\n",
       "    <tr style=\"text-align: right;\">\n",
       "      <th></th>\n",
       "      <th>0</th>\n",
       "      <th>1</th>\n",
       "    </tr>\n",
       "  </thead>\n",
       "  <tbody>\n",
       "    <tr>\n",
       "      <th>cluster</th>\n",
       "      <td>non RA population</td>\n",
       "      <td>RA population</td>\n",
       "    </tr>\n",
       "    <tr>\n",
       "      <th>N</th>\n",
       "      <td>5709.00</td>\n",
       "      <td>455.00</td>\n",
       "    </tr>\n",
       "    <tr>\n",
       "      <th>DMARD [n(%)]</th>\n",
       "      <td>572 (10.0)</td>\n",
       "      <td>455 (100.0)</td>\n",
       "    </tr>\n",
       "    <tr>\n",
       "      <th>Sex, F [n(%)]</th>\n",
       "      <td>3859 (67.6)</td>\n",
       "      <td>290 (63.7)</td>\n",
       "    </tr>\n",
       "    <tr>\n",
       "      <th>Age (mean+-SD, yr)</th>\n",
       "      <td>53.5 (16.4)</td>\n",
       "      <td>60.8 (14.2)</td>\n",
       "    </tr>\n",
       "    <tr>\n",
       "      <th>BMI (mean+-SD)</th>\n",
       "      <td>27.5 (5.4)</td>\n",
       "      <td>26.8 (4.8)</td>\n",
       "    </tr>\n",
       "    <tr>\n",
       "      <th>Wait time, days (median+-IQR)</th>\n",
       "      <td>7.0 (2.0-14.0)</td>\n",
       "      <td>6.0 (1.0-12.0)</td>\n",
       "    </tr>\n",
       "    <tr>\n",
       "      <th>RF [n(%)]</th>\n",
       "      <td>909 (33.3)</td>\n",
       "      <td>240 (64.9)</td>\n",
       "    </tr>\n",
       "    <tr>\n",
       "      <th>ACPA [n(%)]</th>\n",
       "      <td>407 (14.9)</td>\n",
       "      <td>195 (52.7)</td>\n",
       "    </tr>\n",
       "    <tr>\n",
       "      <th>ESR (median+-IQR)</th>\n",
       "      <td>10.0 (5.0-19.0)</td>\n",
       "      <td>17.0 (8.5-31.0)</td>\n",
       "    </tr>\n",
       "    <tr>\n",
       "      <th>CRP (median+-IQR)</th>\n",
       "      <td>3.0 (2.0-8.0)</td>\n",
       "      <td>7.0 (3.0-22.0)</td>\n",
       "    </tr>\n",
       "    <tr>\n",
       "      <th>SJC (median+-IQR)</th>\n",
       "      <td>2.5 (1.0-6.0)</td>\n",
       "      <td>4.0 (1.0-12.0)</td>\n",
       "    </tr>\n",
       "    <tr>\n",
       "      <th>TJC (median+-IQR)</th>\n",
       "      <td>4.0 (1.0-7.0)</td>\n",
       "      <td>6.0 (2.0-13.0)</td>\n",
       "    </tr>\n",
       "    <tr>\n",
       "      <th>Visits (median+-IQR)</th>\n",
       "      <td>3.0 (2.0-7.0)</td>\n",
       "      <td>17.0 (12.0-23.0)</td>\n",
       "    </tr>\n",
       "    <tr>\n",
       "      <th>Follow Up (median+-IQR)</th>\n",
       "      <td>73.0 (13.0-699.0)</td>\n",
       "      <td>1315.0 (756.5-2033.5)</td>\n",
       "    </tr>\n",
       "    <tr>\n",
       "      <th>RF_na [n(%)]</th>\n",
       "      <td>2977 (52.1)</td>\n",
       "      <td>85 (18.7)</td>\n",
       "    </tr>\n",
       "    <tr>\n",
       "      <th>ACPA_na [n(%)]</th>\n",
       "      <td>2977 (52.1)</td>\n",
       "      <td>85 (18.7)</td>\n",
       "    </tr>\n",
       "    <tr>\n",
       "      <th>ESR_na [n(%)]</th>\n",
       "      <td>1008 (17.7)</td>\n",
       "      <td>25 (5.5)</td>\n",
       "    </tr>\n",
       "    <tr>\n",
       "      <th>CRP_na [n(%)]</th>\n",
       "      <td>929 (16.3)</td>\n",
       "      <td>22 (4.8)</td>\n",
       "    </tr>\n",
       "    <tr>\n",
       "      <th>SJC_na [n(%)]</th>\n",
       "      <td>5455 (95.6)</td>\n",
       "      <td>151 (33.2)</td>\n",
       "    </tr>\n",
       "    <tr>\n",
       "      <th>TJC_na [n(%)]</th>\n",
       "      <td>5455 (95.6)</td>\n",
       "      <td>151 (33.2)</td>\n",
       "    </tr>\n",
       "    <tr>\n",
       "      <th>BMI_na [n(%)]</th>\n",
       "      <td>1486 (26.0)</td>\n",
       "      <td>56 (12.3)</td>\n",
       "    </tr>\n",
       "  </tbody>\n",
       "</table>\n",
       "</div>"
      ],
      "text/plain": [
       "                                               0                      1\n",
       "cluster                        non RA population          RA population\n",
       "N                                        5709.00                 455.00\n",
       "DMARD [n(%)]                          572 (10.0)            455 (100.0)\n",
       "Sex, F [n(%)]                        3859 (67.6)             290 (63.7)\n",
       "Age (mean+-SD, yr)                   53.5 (16.4)            60.8 (14.2)\n",
       "BMI (mean+-SD)                        27.5 (5.4)             26.8 (4.8)\n",
       "Wait time, days (median+-IQR)     7.0 (2.0-14.0)         6.0 (1.0-12.0)\n",
       "RF [n(%)]                             909 (33.3)             240 (64.9)\n",
       "ACPA [n(%)]                           407 (14.9)             195 (52.7)\n",
       "ESR (median+-IQR)                10.0 (5.0-19.0)        17.0 (8.5-31.0)\n",
       "CRP (median+-IQR)                  3.0 (2.0-8.0)         7.0 (3.0-22.0)\n",
       "SJC (median+-IQR)                  2.5 (1.0-6.0)         4.0 (1.0-12.0)\n",
       "TJC (median+-IQR)                  4.0 (1.0-7.0)         6.0 (2.0-13.0)\n",
       "Visits (median+-IQR)               3.0 (2.0-7.0)       17.0 (12.0-23.0)\n",
       "Follow Up (median+-IQR)        73.0 (13.0-699.0)  1315.0 (756.5-2033.5)\n",
       "RF_na [n(%)]                         2977 (52.1)              85 (18.7)\n",
       "ACPA_na [n(%)]                       2977 (52.1)              85 (18.7)\n",
       "ESR_na [n(%)]                        1008 (17.7)               25 (5.5)\n",
       "CRP_na [n(%)]                         929 (16.3)               22 (4.8)\n",
       "SJC_na [n(%)]                        5455 (95.6)             151 (33.2)\n",
       "TJC_na [n(%)]                        5455 (95.6)             151 (33.2)\n",
       "BMI_na [n(%)]                        1486 (26.0)              56 (12.3)"
      ]
     },
     "execution_count": 88,
     "metadata": {},
     "output_type": "execute_result"
    }
   ],
   "source": [
    "\n",
    "\n",
    "# Patients should have RA-ICD code, 3 mo of Follow up, a referral letter and a DMARD prescribed\n",
    "print('Number of patients with known location : ', len(df_baseline[((~df_baseline['Locatie'].isna()))]['Identifier'].unique()))\n",
    "print('Number of patients with more than 3 mo of followup : ', len(df_baseline[df_baseline['FollowUp']>93]['Identifier'].unique()))\n",
    "print('Number of patients with known location and more than 3 mo of followup : ', len(df_baseline[((~df_baseline['Locatie'].isna()) & (df_baseline['FollowUp']>93))]['Identifier'].unique()))\n",
    "\n",
    "#df_RA = df_baseline[df_baseline['Identifier'].isin(l_pat_RA_ref)]\n",
    "#df_RA= df_RA[(~df_RA['Locatie'].isna())]\n",
    "#df_RA['deltaref'] = df_RA['Identifier'].apply(lambda x : d_refdelta[x])\n",
    "#print('Number of patients with a referral letter: ', len(df_RA))\n",
    "l_pat_nonRA = df_baseline[(  (~df_baseline['Locatie'].isna()) & (~df_baseline['Identifier'].isin(l_pat_RA_ref)))]['Identifier'].unique() # \n",
    "\n",
    "l_pat_RA = df_baseline[( (~df_baseline['Locatie'].isna()) & (df_baseline['FollowUp']>93) & (df_baseline['FirstDMARD_date']==df_baseline['FirstDMARD_date']) & (df_baseline['Identifier'].isin(l_pat_RA_ref)))]['Identifier'].unique() # \n",
    "#print('Number of patients that start with DMARD: ', len(df_RA))\n",
    "#df_baseline.to_csv('../dict/Demographics_Chronic.csv', sep=';', index=None)\n",
    "\n",
    "df_summary.loc[0] = generate_baseline_ref(df_baseline[df_baseline['Identifier'].isin(l_pat_nonRA)], 'non RA population')\n",
    "df_summary.loc[1] = generate_baseline_ref(df_baseline[df_baseline['Identifier'].isin(l_pat_RA)], 'RA population')\n",
    "\n",
    "#df_summary = df_summary.reset_index(drop=True)\n",
    "df_summary.T"
   ]
  },
  {
   "cell_type": "markdown",
   "id": "3a43f8ff",
   "metadata": {},
   "source": [
    "#### Show wait time"
   ]
  },
  {
   "cell_type": "code",
   "execution_count": 89,
   "id": "6dcc30b5",
   "metadata": {},
   "outputs": [
    {
     "data": {
      "text/plain": [
       "<AxesSubplot:>"
      ]
     },
     "execution_count": 89,
     "metadata": {},
     "output_type": "execute_result"
    },
    {
     "data": {
      "image/png": "[encoded data removed]",
      "text/plain": [
       "<Figure size 432x288 with 1 Axes>"
      ]
     },
     "metadata": {
      "needs_background": "light"
     },
     "output_type": "display_data"
    }
   ],
   "source": [
    "df_refdates['delta_referral_visit'].hist(bins=10)"
   ]
  },
  {
   "cell_type": "code",
   "execution_count": 90,
   "id": "5ec2f1d7",
   "metadata": {},
   "outputs": [],
   "source": [
    "l_essential = ['Identifier', 'ACPA', 'RF', 'CRP_raw', 'ESR_raw']\n",
    "\n",
    "# Final selection contains off all people with infromation for these variables\n",
    "l_missingLab = list(df_baseline[l_essential].dropna()['Identifier'])\n",
    "df_final = df_baseline[~df_baseline['Identifier'].isin(l_missingLab)].copy()\n",
    "df_final = df_final.reset_index(drop=True)\n",
    "\n",
    "df_summary.loc[1] = generate_baseline_ref(df_final, 'Lab missing at baseline')"
   ]
  },
  {
   "cell_type": "code",
   "execution_count": 91,
   "id": "51895ff8",
   "metadata": {},
   "outputs": [],
   "source": [
    "l_essential = ['Identifier', 'SJC', 'TJC']\n",
    "\n",
    "# Final selection contains off all people with infromation for these variables\n",
    "l_missingMannequin = list(df_baseline[l_essential].dropna()['Identifier'])\n",
    "df_final = df_baseline[~df_baseline['Identifier'].isin(l_missingMannequin)].copy()\n",
    "df_final = df_final.reset_index(drop=True)\n",
    "\n",
    "df_summary.loc[2] = generate_baseline_ref(df_final, 'Mannequin missing at baseline')"
   ]
  },
  {
   "cell_type": "markdown",
   "id": "33c3aa94",
   "metadata": {},
   "source": [
    "### 3.2 Generate overview for final selection (complete data)"
   ]
  },
  {
   "cell_type": "code",
   "execution_count": 92,
   "id": "224d37a6",
   "metadata": {},
   "outputs": [
    {
     "data": {
      "text/html": [
       "<div>\n",
       "<style scoped>\n",
       "    .dataframe tbody tr th:only-of-type {\n",
       "        vertical-align: middle;\n",
       "    }\n",
       "\n",
       "    .dataframe tbody tr th {\n",
       "        vertical-align: top;\n",
       "    }\n",
       "\n",
       "    .dataframe thead th {\n",
       "        text-align: right;\n",
       "    }\n",
       "</style>\n",
       "<table border=\"1\" class=\"dataframe\">\n",
       "  <thead>\n",
       "    <tr style=\"text-align: right;\">\n",
       "      <th></th>\n",
       "      <th>0</th>\n",
       "      <th>1</th>\n",
       "      <th>2</th>\n",
       "      <th>3</th>\n",
       "      <th>4</th>\n",
       "    </tr>\n",
       "  </thead>\n",
       "  <tbody>\n",
       "    <tr>\n",
       "      <th>cluster</th>\n",
       "      <td>non RA population</td>\n",
       "      <td>Lab missing at baseline</td>\n",
       "      <td>Mannequin missing at baseline</td>\n",
       "      <td>Final selection</td>\n",
       "      <td>Dropped patients</td>\n",
       "    </tr>\n",
       "    <tr>\n",
       "      <th>N</th>\n",
       "      <td>5709.00</td>\n",
       "      <td>4557.00</td>\n",
       "      <td>8033.00</td>\n",
       "      <td>624.00</td>\n",
       "      <td>8246.00</td>\n",
       "    </tr>\n",
       "    <tr>\n",
       "      <th>DMARD [n(%)]</th>\n",
       "      <td>572 (10.0)</td>\n",
       "      <td>402 (8.8)</td>\n",
       "      <td>800 (10.0)</td>\n",
       "      <td>520 (83.3)</td>\n",
       "      <td>964 (11.7)</td>\n",
       "    </tr>\n",
       "    <tr>\n",
       "      <th>Sex, F [n(%)]</th>\n",
       "      <td>3859 (67.6)</td>\n",
       "      <td>3071 (67.4)</td>\n",
       "      <td>5441 (67.7)</td>\n",
       "      <td>389 (62.3)</td>\n",
       "      <td>5565 (67.5)</td>\n",
       "    </tr>\n",
       "    <tr>\n",
       "      <th>Age (mean+-SD, yr)</th>\n",
       "      <td>53.5 (16.4)</td>\n",
       "      <td>53.5 (16.7)</td>\n",
       "      <td>53.8 (16.4)</td>\n",
       "      <td>58.6 (15.2)</td>\n",
       "      <td>53.9 (16.4)</td>\n",
       "    </tr>\n",
       "    <tr>\n",
       "      <th>BMI (mean+-SD)</th>\n",
       "      <td>27.5 (5.4)</td>\n",
       "      <td>27.6 (5.5)</td>\n",
       "      <td>27.6 (5.3)</td>\n",
       "      <td>27.3 (5.2)</td>\n",
       "      <td>27.6 (5.3)</td>\n",
       "    </tr>\n",
       "    <tr>\n",
       "      <th>Wait time, days (median+-IQR)</th>\n",
       "      <td>7.0 (2.0-14.0)</td>\n",
       "      <td>7.0 (3.0-15.0)</td>\n",
       "      <td>7.0 (2.0-14.0)</td>\n",
       "      <td>7.0 (2.0-14.0)</td>\n",
       "      <td>7.0 (2.0-14.0)</td>\n",
       "    </tr>\n",
       "    <tr>\n",
       "      <th>RF [n(%)]</th>\n",
       "      <td>909 (33.3)</td>\n",
       "      <td>80 (41.9)</td>\n",
       "      <td>1343 (34.8)</td>\n",
       "      <td>327 (52.4)</td>\n",
       "      <td>1357 (35.0)</td>\n",
       "    </tr>\n",
       "    <tr>\n",
       "      <th>ACPA [n(%)]</th>\n",
       "      <td>407 (14.9)</td>\n",
       "      <td>39 (20.4)</td>\n",
       "      <td>640 (16.6)</td>\n",
       "      <td>254 (40.7)</td>\n",
       "      <td>652 (16.8)</td>\n",
       "    </tr>\n",
       "    <tr>\n",
       "      <th>ESR (median+-IQR)</th>\n",
       "      <td>10.0 (5.0-19.0)</td>\n",
       "      <td>9.0 (5.0-18.0)</td>\n",
       "      <td>10.0 (5.0-19.0)</td>\n",
       "      <td>15.0 (7.0-28.5)</td>\n",
       "      <td>10.0 (5.0-19.0)</td>\n",
       "    </tr>\n",
       "    <tr>\n",
       "      <th>CRP (median+-IQR)</th>\n",
       "      <td>3.0 (2.0-8.0)</td>\n",
       "      <td>3.0 (2.0-6.1)</td>\n",
       "      <td>3.0 (2.0-7.8)</td>\n",
       "      <td>6.0 (2.2-18.0)</td>\n",
       "      <td>3.0 (2.0-8.0)</td>\n",
       "    </tr>\n",
       "    <tr>\n",
       "      <th>SJC (median+-IQR)</th>\n",
       "      <td>2.5 (1.0-6.0)</td>\n",
       "      <td>3.0 (1.0-8.0)</td>\n",
       "      <td>0</td>\n",
       "      <td>3.0 (0.0-8.0)</td>\n",
       "      <td>3.0 (1.0-8.0)</td>\n",
       "    </tr>\n",
       "    <tr>\n",
       "      <th>TJC (median+-IQR)</th>\n",
       "      <td>4.0 (1.0-7.0)</td>\n",
       "      <td>3.0 (2.0-9.0)</td>\n",
       "      <td>0</td>\n",
       "      <td>4.0 (2.0-10.0)</td>\n",
       "      <td>3.0 (2.0-9.0)</td>\n",
       "    </tr>\n",
       "    <tr>\n",
       "      <th>Visits (median+-IQR)</th>\n",
       "      <td>3.0 (2.0-7.0)</td>\n",
       "      <td>2.0 (2.0-6.0)</td>\n",
       "      <td>3.0 (2.0-7.0)</td>\n",
       "      <td>17.0 (11.0-23.0)</td>\n",
       "      <td>3.0 (2.0-8.0)</td>\n",
       "    </tr>\n",
       "    <tr>\n",
       "      <th>Follow Up (median+-IQR)</th>\n",
       "      <td>73.0 (13.0-699.0)</td>\n",
       "      <td>28.0 (7.0-541.0)</td>\n",
       "      <td>74.0 (13.0-672.0)</td>\n",
       "      <td>1298.5 (748.0-1943.0)</td>\n",
       "      <td>90.0 (13.0-721.0)</td>\n",
       "    </tr>\n",
       "    <tr>\n",
       "      <th>RF_na [n(%)]</th>\n",
       "      <td>2977 (52.1)</td>\n",
       "      <td>4366 (95.8)</td>\n",
       "      <td>4171 (51.9)</td>\n",
       "      <td>0 (0.0)</td>\n",
       "      <td>4366 (52.9)</td>\n",
       "    </tr>\n",
       "    <tr>\n",
       "      <th>ACPA_na [n(%)]</th>\n",
       "      <td>2977 (52.1)</td>\n",
       "      <td>4366 (95.8)</td>\n",
       "      <td>4171 (51.9)</td>\n",
       "      <td>0 (0.0)</td>\n",
       "      <td>4366 (52.9)</td>\n",
       "    </tr>\n",
       "    <tr>\n",
       "      <th>ESR_na [n(%)]</th>\n",
       "      <td>1008 (17.7)</td>\n",
       "      <td>1448 (31.8)</td>\n",
       "      <td>1398 (17.4)</td>\n",
       "      <td>0 (0.0)</td>\n",
       "      <td>1448 (17.6)</td>\n",
       "    </tr>\n",
       "    <tr>\n",
       "      <th>CRP_na [n(%)]</th>\n",
       "      <td>929 (16.3)</td>\n",
       "      <td>1343 (29.5)</td>\n",
       "      <td>1307 (16.3)</td>\n",
       "      <td>0 (0.0)</td>\n",
       "      <td>1343 (16.3)</td>\n",
       "    </tr>\n",
       "    <tr>\n",
       "      <th>SJC_na [n(%)]</th>\n",
       "      <td>5455 (95.6)</td>\n",
       "      <td>4344 (95.3)</td>\n",
       "      <td>8033 (100.0)</td>\n",
       "      <td>0 (0.0)</td>\n",
       "      <td>8033 (97.4)</td>\n",
       "    </tr>\n",
       "    <tr>\n",
       "      <th>TJC_na [n(%)]</th>\n",
       "      <td>5455 (95.6)</td>\n",
       "      <td>4344 (95.3)</td>\n",
       "      <td>8033 (100.0)</td>\n",
       "      <td>0 (0.0)</td>\n",
       "      <td>8033 (97.4)</td>\n",
       "    </tr>\n",
       "    <tr>\n",
       "      <th>BMI_na [n(%)]</th>\n",
       "      <td>1486 (26.0)</td>\n",
       "      <td>1377 (30.2)</td>\n",
       "      <td>2064 (25.7)</td>\n",
       "      <td>103 (16.5)</td>\n",
       "      <td>2114 (25.6)</td>\n",
       "    </tr>\n",
       "  </tbody>\n",
       "</table>\n",
       "</div>"
      ],
      "text/plain": [
       "                                               0                        1  \\\n",
       "cluster                        non RA population  Lab missing at baseline   \n",
       "N                                        5709.00                  4557.00   \n",
       "DMARD [n(%)]                          572 (10.0)                402 (8.8)   \n",
       "Sex, F [n(%)]                        3859 (67.6)              3071 (67.4)   \n",
       "Age (mean+-SD, yr)                   53.5 (16.4)              53.5 (16.7)   \n",
       "BMI (mean+-SD)                        27.5 (5.4)               27.6 (5.5)   \n",
       "Wait time, days (median+-IQR)     7.0 (2.0-14.0)           7.0 (3.0-15.0)   \n",
       "RF [n(%)]                             909 (33.3)                80 (41.9)   \n",
       "ACPA [n(%)]                           407 (14.9)                39 (20.4)   \n",
       "ESR (median+-IQR)                10.0 (5.0-19.0)           9.0 (5.0-18.0)   \n",
       "CRP (median+-IQR)                  3.0 (2.0-8.0)            3.0 (2.0-6.1)   \n",
       "SJC (median+-IQR)                  2.5 (1.0-6.0)            3.0 (1.0-8.0)   \n",
       "TJC (median+-IQR)                  4.0 (1.0-7.0)            3.0 (2.0-9.0)   \n",
       "Visits (median+-IQR)               3.0 (2.0-7.0)            2.0 (2.0-6.0)   \n",
       "Follow Up (median+-IQR)        73.0 (13.0-699.0)         28.0 (7.0-541.0)   \n",
       "RF_na [n(%)]                         2977 (52.1)              4366 (95.8)   \n",
       "ACPA_na [n(%)]                       2977 (52.1)              4366 (95.8)   \n",
       "ESR_na [n(%)]                        1008 (17.7)              1448 (31.8)   \n",
       "CRP_na [n(%)]                         929 (16.3)              1343 (29.5)   \n",
       "SJC_na [n(%)]                        5455 (95.6)              4344 (95.3)   \n",
       "TJC_na [n(%)]                        5455 (95.6)              4344 (95.3)   \n",
       "BMI_na [n(%)]                        1486 (26.0)              1377 (30.2)   \n",
       "\n",
       "                                                           2  \\\n",
       "cluster                        Mannequin missing at baseline   \n",
       "N                                                    8033.00   \n",
       "DMARD [n(%)]                                      800 (10.0)   \n",
       "Sex, F [n(%)]                                    5441 (67.7)   \n",
       "Age (mean+-SD, yr)                               53.8 (16.4)   \n",
       "BMI (mean+-SD)                                    27.6 (5.3)   \n",
       "Wait time, days (median+-IQR)                 7.0 (2.0-14.0)   \n",
       "RF [n(%)]                                        1343 (34.8)   \n",
       "ACPA [n(%)]                                       640 (16.6)   \n",
       "ESR (median+-IQR)                            10.0 (5.0-19.0)   \n",
       "CRP (median+-IQR)                              3.0 (2.0-7.8)   \n",
       "SJC (median+-IQR)                                          0   \n",
       "TJC (median+-IQR)                                          0   \n",
       "Visits (median+-IQR)                           3.0 (2.0-7.0)   \n",
       "Follow Up (median+-IQR)                    74.0 (13.0-672.0)   \n",
       "RF_na [n(%)]                                     4171 (51.9)   \n",
       "ACPA_na [n(%)]                                   4171 (51.9)   \n",
       "ESR_na [n(%)]                                    1398 (17.4)   \n",
       "CRP_na [n(%)]                                    1307 (16.3)   \n",
       "SJC_na [n(%)]                                   8033 (100.0)   \n",
       "TJC_na [n(%)]                                   8033 (100.0)   \n",
       "BMI_na [n(%)]                                    2064 (25.7)   \n",
       "\n",
       "                                                   3                  4  \n",
       "cluster                              Final selection   Dropped patients  \n",
       "N                                             624.00            8246.00  \n",
       "DMARD [n(%)]                              520 (83.3)         964 (11.7)  \n",
       "Sex, F [n(%)]                             389 (62.3)        5565 (67.5)  \n",
       "Age (mean+-SD, yr)                       58.6 (15.2)        53.9 (16.4)  \n",
       "BMI (mean+-SD)                            27.3 (5.2)         27.6 (5.3)  \n",
       "Wait time, days (median+-IQR)         7.0 (2.0-14.0)     7.0 (2.0-14.0)  \n",
       "RF [n(%)]                                 327 (52.4)        1357 (35.0)  \n",
       "ACPA [n(%)]                               254 (40.7)         652 (16.8)  \n",
       "ESR (median+-IQR)                    15.0 (7.0-28.5)    10.0 (5.0-19.0)  \n",
       "CRP (median+-IQR)                     6.0 (2.2-18.0)      3.0 (2.0-8.0)  \n",
       "SJC (median+-IQR)                      3.0 (0.0-8.0)      3.0 (1.0-8.0)  \n",
       "TJC (median+-IQR)                     4.0 (2.0-10.0)      3.0 (2.0-9.0)  \n",
       "Visits (median+-IQR)                17.0 (11.0-23.0)      3.0 (2.0-8.0)  \n",
       "Follow Up (median+-IQR)        1298.5 (748.0-1943.0)  90.0 (13.0-721.0)  \n",
       "RF_na [n(%)]                                 0 (0.0)        4366 (52.9)  \n",
       "ACPA_na [n(%)]                               0 (0.0)        4366 (52.9)  \n",
       "ESR_na [n(%)]                                0 (0.0)        1448 (17.6)  \n",
       "CRP_na [n(%)]                                0 (0.0)        1343 (16.3)  \n",
       "SJC_na [n(%)]                                0 (0.0)        8033 (97.4)  \n",
       "TJC_na [n(%)]                                0 (0.0)        8033 (97.4)  \n",
       "BMI_na [n(%)]                             103 (16.5)        2114 (25.6)  "
      ]
     },
     "execution_count": 92,
     "metadata": {},
     "output_type": "execute_result"
    }
   ],
   "source": [
    "l_essential = ['Identifier', 'Sex', 'Age',  'FollowUp', 'ACPA', 'RF', 'CRP_raw', 'ESR_raw', 'SJC', 'TJC']\n",
    "\n",
    "# Final selection contains off all people with infromation for these variables\n",
    "df_final = df_baseline[df_baseline['Identifier'].isin(df_baseline[l_essential].dropna()['Identifier'])].copy()\n",
    "df_final = df_final.reset_index(drop=True)\n",
    "\n",
    "# Dropped patients\n",
    "df_dropped = df_baseline[~df_baseline['Identifier'].isin(df_baseline[l_essential].dropna()['Identifier'])].copy()\n",
    "df_dropped = df_dropped.reset_index(drop=True)\n",
    "\n",
    "df_summary.loc[3] = generate_baseline_ref(df_final, 'Final selection')\n",
    "df_summary.loc[4] = generate_baseline_ref(df_dropped, 'Dropped patients')\n",
    "\n",
    "df_summary.T"
   ]
  },
  {
   "cell_type": "markdown",
   "id": "08336fcf",
   "metadata": {},
   "source": [
    "### Export complete table"
   ]
  },
  {
   "cell_type": "code",
   "execution_count": null,
   "id": "fd128395",
   "metadata": {},
   "outputs": [],
   "source": [
    "df_compl =  df_baseline[((df_baseline['Identifier'].isin(l_missingMannequin)) & (~df_baseline['RF'].isna()) & (~df_baseline['ACPA'].isna()))]\n",
    "df_compl = df_compl.reset_index(drop=True)\n",
    "\n",
    "# Add joint location information\n",
    "l_joints = [col for col in df_man.columns if ('S_' in col or 'ST_' in col or 'T_' in col)]\n",
    "l_joints.append('Identifier')\n",
    "\n",
    "df_compl = pd.merge(df_compl, df_man[l_joints], left_on='Identifier', right_on='Identifier')\n",
    "\n",
    "df_compl.to_csv('../proc/ZWN_dmard_metadata_new.csv', index=None, sep=',')\n",
    "df_compl = df_compl.fillna(0)\n",
    "df_compl#[['SJC', 'TJC']]"
   ]
  },
  {
   "cell_type": "markdown",
   "id": "724da3de",
   "metadata": {},
   "source": [
    "### 3.3 Show Missingness"
   ]
  },
  {
   "cell_type": "code",
   "execution_count": 94,
   "id": "f30a3968",
   "metadata": {},
   "outputs": [
    {
     "data": {
      "text/plain": [
       "Identifier     0.000000\n",
       "Sex            0.011274\n",
       "Age            0.000000\n",
       "FollowUp       0.000000\n",
       "ACPA          49.222097\n",
       "RF            49.222097\n",
       "CRP_raw       15.140924\n",
       "ESR_raw       16.324690\n",
       "SJC           90.563698\n",
       "TJC           90.563698\n",
       "dtype: float64"
      ]
     },
     "execution_count": 94,
     "metadata": {},
     "output_type": "execute_result"
    }
   ],
   "source": [
    "df_baseline[l_essential].isnull().sum()/len(df_baseline)*100"
   ]
  },
  {
   "cell_type": "code",
   "execution_count": 95,
   "id": "788b23b6",
   "metadata": {},
   "outputs": [
    {
     "data": {
      "text/plain": [
       "<AxesSubplot:>"
      ]
     },
     "execution_count": 95,
     "metadata": {},
     "output_type": "execute_result"
    },
    {
     "data": {
      "image/png": "[encoded data removed]",
      "text/plain": [
       "<Figure size 1800x720 with 2 Axes>"
      ]
     },
     "metadata": {
      "needs_background": "light"
     },
     "output_type": "display_data"
    }
   ],
   "source": [
    "import missingno as msno\n",
    "    \n",
    "%matplotlib inline\n",
    "\n",
    "# df_new[((~df_new['Anti-CCP'].isna()) & (~df_new['IgM reumafactor'].isna()))][l_keep].dropna(thresh=7)\n",
    "msno.matrix(df_baseline[l_essential]) # check if patients that miss variables across lines -> have aCCP / RF of 2"
   ]
  },
  {
   "cell_type": "markdown",
   "id": "852b5b9f",
   "metadata": {},
   "source": [
    "### Prepare dataset for clustering"
   ]
  },
  {
   "cell_type": "code",
   "execution_count": null,
   "id": "e872a178",
   "metadata": {},
   "outputs": [],
   "source": [
    "import pandas as pd\n",
    "df_demograph = pd.read_csv('../dict/Demographics_ALL.csv', sep=';', index=None)\n",
    "\n",
    "l_pat_RA = pd.read_csv('../dict/list_ra_patients_icd.csv', sep=';', index=None)\n",
    "\n",
    "\n",
    "df_demograph['FirstConsult'] = pd.to_datetime(df_demograph['FirstConsult'], format='%Y-%m-%d')\n",
    "pt_RA = list(df_demograph[(df_demograph['Identifier'].isin(l_pat_RA))]['Identifier'])  \n",
    "print('Nr of patients: %s (out of which %s have RA)' % (len(df_demograph), len(pt_RA)))\n",
    "df_demograph['BMI'] = df_demograph['Identifier'].apply(lambda x : d_bmi[x] if x in d_bmi.keys() else np.nan)\n",
    "df_demograph['Smoking'] = df_demograph['Identifier'].apply(lambda x : d_smoking[str(x)] if x in d_smoking.keys() else np.nan)\n",
    "df_demograph['Alcohol'] = df_demograph['Identifier'].apply(lambda x : d_alcohol[str(x)] if x in d_alcohol.keys() else np.nan)\n",
    "df_demograph['ESR'] = df_demograph['Identifier'].apply(lambda x : d_esr[x] if x in d_esr.keys() else np.nan)\n",
    "df_demograph['ESR'] = df_demograph['ESR'].apply(lambda x: x.replace('<', '').replace('>', '') if type(x)==str else x)\n",
    "df_demograph['ESR'] = df_demograph['ESR'].astype(float)\n",
    "df_demograph['CRP'] = df_demograph['Identifier'].apply(lambda x : d_crp[x] if x in d_crp.keys() else np.nan)\n",
    "df_demograph['CRP'] = df_demograph['CRP'].apply(lambda x: x.replace('<', '').replace('>', '') if type(x)==str else x)\n",
    "df_demograph['CRP'] = df_demograph['CRP'].astype(float)\n",
    "df_demograph['ACPA'] = df_demograph['Identifier'].apply(lambda x : d_aCCP[x] if x in d_aCCP.keys() else np.nan)\n",
    "df_demograph['RF'] = df_demograph['Identifier'].apply(lambda x : d_rf[x] if x in d_rf.keys() else np.nan)\n",
    "# Infer RF & ACPA\n",
    "df_demograph['RF'] = df_demograph['RF'].apply(lambda x : func.infer_RF(x))#.iloc[3]\n",
    "df_demograph['ACPA'] = df_demograph['ACPA'].apply(lambda x : func.infer_aCCP(x))\n",
    "\n",
    "df_demograph['RA_case'] = df_demograph['Identifier'].apply(lambda x : 1 if x in pt_RA else 0)\n",
    "\n",
    "df_rzw = df_demograph[df_demograph['Identifier'].isin(pt_RA)].copy()\n",
    "print(len(df_rzw))\n",
    "\n",
    "df_rzw = df_rzw.rename(columns = {'Geslacht':  'Sex', 'Leeftijd_Eerste_Afspraak' : 'Age'})\n",
    "if 1 not in df_rzw['Sex'].unique():\n",
    "    df_rzw['Sex'] = df_rzw['Sex'].replace({'F' : 1, 'M' : 0})\n",
    "df_rzw['ACPA'] = df_rzw['ACPA'].replace({'Positief' : 1, 'Negatief' : 0})\n",
    "df_rzw['RF'] = df_rzw['RF'].replace({'Positief' : 1, 'Negatief' : 0})\n",
    "\n",
    "# Add joint location information\n",
    "l_joints = [col for col in df_man.columns if ('S_' in col or 'ST_' in col or 'T_' in col)]\n",
    "l_joints.append('Identifier')\n",
    "\n",
    "df_rzw = pd.merge(df_rzw, df_man[l_joints], left_on='Identifier', right_on='Identifier')\n",
    "\n",
    "# Export Extraction for Clustering\n",
    "#df_rzw.to_csv('../extractions/20240205_Clustering/ZWN_clustering_variables.csv', sep=',', index=None)\n",
    "\n",
    "df_rzw.head()"
   ]
  },
  {
   "cell_type": "markdown",
   "id": "99d4dca3",
   "metadata": {},
   "source": [
    "### Create table of dropped patients"
   ]
  },
  {
   "cell_type": "code",
   "execution_count": 29,
   "id": "992de4eb",
   "metadata": {},
   "outputs": [],
   "source": [
    "import pandas as pd\n",
    "df_demograph = pd.read_csv('../dict/Demographics_ALL.csv', sep=';')\n",
    "#df_final = pd.read_csv('../extractions/20240205_Clustering/patient_selection_rzwn.csv', sep='|')\n",
    "df_final =pd.read_csv('../proc/SummaryResponseTable_RZWN_wOutcome.csv')\n",
    "\n",
    "l_pat_RA = pd.read_csv('../dict/list_ra_patients_icd.csv', sep=';')['Identifier'].values\n",
    "l_pat_RA\n",
    "l_pat_final = list(df_final['patnr'].unique())"
   ]
  },
  {
   "cell_type": "code",
   "execution_count": 49,
   "id": "4db5d766",
   "metadata": {},
   "outputs": [
    {
     "data": {
      "text/html": [
       "<div>\n",
       "<style scoped>\n",
       "    .dataframe tbody tr th:only-of-type {\n",
       "        vertical-align: middle;\n",
       "    }\n",
       "\n",
       "    .dataframe tbody tr th {\n",
       "        vertical-align: top;\n",
       "    }\n",
       "\n",
       "    .dataframe thead th {\n",
       "        text-align: right;\n",
       "    }\n",
       "</style>\n",
       "<table border=\"1\" class=\"dataframe\">\n",
       "  <thead>\n",
       "    <tr style=\"text-align: right;\">\n",
       "      <th></th>\n",
       "      <th>0</th>\n",
       "      <th>1</th>\n",
       "    </tr>\n",
       "  </thead>\n",
       "  <tbody>\n",
       "    <tr>\n",
       "      <th>cluster</th>\n",
       "      <td>inComplete</td>\n",
       "      <td>Complete</td>\n",
       "    </tr>\n",
       "    <tr>\n",
       "      <th>N</th>\n",
       "      <td>712.00</td>\n",
       "      <td>515.00</td>\n",
       "    </tr>\n",
       "    <tr>\n",
       "      <th>DMARD [n(%)]</th>\n",
       "      <td>712 (100.0)</td>\n",
       "      <td>515 (100.0)</td>\n",
       "    </tr>\n",
       "    <tr>\n",
       "      <th>Sex, F [n(%)]</th>\n",
       "      <td>455 (63.9)</td>\n",
       "      <td>333 (64.7)</td>\n",
       "    </tr>\n",
       "    <tr>\n",
       "      <th>Age (mean+-SD, yr)</th>\n",
       "      <td>62.4 (14.0)</td>\n",
       "      <td>60.9 (14.1)</td>\n",
       "    </tr>\n",
       "    <tr>\n",
       "      <th>BMI (mean+-SD)</th>\n",
       "      <td>27.1 (4.9)</td>\n",
       "      <td>27.0 (5.0)</td>\n",
       "    </tr>\n",
       "    <tr>\n",
       "      <th>RF [n(%)]</th>\n",
       "      <td>206 (67.5)</td>\n",
       "      <td>267 (61.1)</td>\n",
       "    </tr>\n",
       "    <tr>\n",
       "      <th>ACPA [n(%)]</th>\n",
       "      <td>157 (51.5)</td>\n",
       "      <td>216 (49.4)</td>\n",
       "    </tr>\n",
       "    <tr>\n",
       "      <th>ESR (median+-IQR)</th>\n",
       "      <td>15.0 (8.0-29.0)</td>\n",
       "      <td>16.0 (8.0-27.0)</td>\n",
       "    </tr>\n",
       "    <tr>\n",
       "      <th>CRP (median+-IQR)</th>\n",
       "      <td>4.0 (2.8-16.0)</td>\n",
       "      <td>6.0 (4.0-19.0)</td>\n",
       "    </tr>\n",
       "    <tr>\n",
       "      <th>SJC (median+-IQR)</th>\n",
       "      <td>6.0 (2.0-13.0)</td>\n",
       "      <td>5.0 (1.0-13.0)</td>\n",
       "    </tr>\n",
       "    <tr>\n",
       "      <th>TJC (median+-IQR)</th>\n",
       "      <td>6.0 (2.0-15.0)</td>\n",
       "      <td>6.0 (2.0-14.0)</td>\n",
       "    </tr>\n",
       "    <tr>\n",
       "      <th>Visits (median+-IQR)</th>\n",
       "      <td>19.0 (11.0-25.0)</td>\n",
       "      <td>20.0 (14.0-25.5)</td>\n",
       "    </tr>\n",
       "    <tr>\n",
       "      <th>Follow Up (median+-IQR)</th>\n",
       "      <td>1784.0 (823.0-2681.5)</td>\n",
       "      <td>1568.0 (1012.0-2174.0)</td>\n",
       "    </tr>\n",
       "    <tr>\n",
       "      <th>RF_na [n(%)]</th>\n",
       "      <td>407 (57.2)</td>\n",
       "      <td>78 (15.1)</td>\n",
       "    </tr>\n",
       "    <tr>\n",
       "      <th>ACPA_na [n(%)]</th>\n",
       "      <td>407 (57.2)</td>\n",
       "      <td>78 (15.1)</td>\n",
       "    </tr>\n",
       "    <tr>\n",
       "      <th>ESR_na [n(%)]</th>\n",
       "      <td>103 (14.5)</td>\n",
       "      <td>0 (0.0)</td>\n",
       "    </tr>\n",
       "    <tr>\n",
       "      <th>CRP_na [n(%)]</th>\n",
       "      <td>86 (12.1)</td>\n",
       "      <td>0 (0.0)</td>\n",
       "    </tr>\n",
       "    <tr>\n",
       "      <th>SJC_na [n(%)]</th>\n",
       "      <td>294 (41.3)</td>\n",
       "      <td>0 (0.0)</td>\n",
       "    </tr>\n",
       "    <tr>\n",
       "      <th>TJC_na [n(%)]</th>\n",
       "      <td>294 (41.3)</td>\n",
       "      <td>0 (0.0)</td>\n",
       "    </tr>\n",
       "    <tr>\n",
       "      <th>BMI_na [n(%)]</th>\n",
       "      <td>134 (18.8)</td>\n",
       "      <td>66 (12.8)</td>\n",
       "    </tr>\n",
       "    <tr>\n",
       "      <th>DAS44</th>\n",
       "      <td>2.9 (2.1-3.8)</td>\n",
       "      <td>2.8 (1.9-3.9)</td>\n",
       "    </tr>\n",
       "    <tr>\n",
       "      <th>DAS28</th>\n",
       "      <td>4.4 (3.4-5.2)</td>\n",
       "      <td>4.3 (3.4-5.5)</td>\n",
       "    </tr>\n",
       "    <tr>\n",
       "      <th>DAS44_na [n(%)]</th>\n",
       "      <td>377 (52.9)</td>\n",
       "      <td>0 (0.0)</td>\n",
       "    </tr>\n",
       "    <tr>\n",
       "      <th>DAS28_na [n(%)]</th>\n",
       "      <td>377 (52.9)</td>\n",
       "      <td>0 (0.0)</td>\n",
       "    </tr>\n",
       "  </tbody>\n",
       "</table>\n",
       "</div>"
      ],
      "text/plain": [
       "                                             0                       1\n",
       "cluster                             inComplete                Complete\n",
       "N                                       712.00                  515.00\n",
       "DMARD [n(%)]                       712 (100.0)             515 (100.0)\n",
       "Sex, F [n(%)]                       455 (63.9)              333 (64.7)\n",
       "Age (mean+-SD, yr)                 62.4 (14.0)             60.9 (14.1)\n",
       "BMI (mean+-SD)                      27.1 (4.9)              27.0 (5.0)\n",
       "RF [n(%)]                           206 (67.5)              267 (61.1)\n",
       "ACPA [n(%)]                         157 (51.5)              216 (49.4)\n",
       "ESR (median+-IQR)              15.0 (8.0-29.0)         16.0 (8.0-27.0)\n",
       "CRP (median+-IQR)               4.0 (2.8-16.0)          6.0 (4.0-19.0)\n",
       "SJC (median+-IQR)               6.0 (2.0-13.0)          5.0 (1.0-13.0)\n",
       "TJC (median+-IQR)               6.0 (2.0-15.0)          6.0 (2.0-14.0)\n",
       "Visits (median+-IQR)          19.0 (11.0-25.0)        20.0 (14.0-25.5)\n",
       "Follow Up (median+-IQR)  1784.0 (823.0-2681.5)  1568.0 (1012.0-2174.0)\n",
       "RF_na [n(%)]                        407 (57.2)               78 (15.1)\n",
       "ACPA_na [n(%)]                      407 (57.2)               78 (15.1)\n",
       "ESR_na [n(%)]                       103 (14.5)                 0 (0.0)\n",
       "CRP_na [n(%)]                        86 (12.1)                 0 (0.0)\n",
       "SJC_na [n(%)]                       294 (41.3)                 0 (0.0)\n",
       "TJC_na [n(%)]                       294 (41.3)                 0 (0.0)\n",
       "BMI_na [n(%)]                       134 (18.8)               66 (12.8)\n",
       "DAS44                            2.9 (2.1-3.8)           2.8 (1.9-3.9)\n",
       "DAS28                            4.4 (3.4-5.2)           4.3 (3.4-5.5)\n",
       "DAS44_na [n(%)]                     377 (52.9)                 0 (0.0)\n",
       "DAS28_na [n(%)]                     377 (52.9)                 0 (0.0)"
      ]
     },
     "execution_count": 49,
     "metadata": {},
     "output_type": "execute_result"
    }
   ],
   "source": [
    "import numpy as np\n",
    "\n",
    "l_DAS28 = ['Pijn_pols L', 'Pijn_pols R', 'Pijn_pip 2 links hand', 'Pijn_pip 2 rechts hand', 'Pijn_pip 3 links hand', 'Pijn_pip 3 rechts hand',\n",
    " 'Pijn_pip 4 links hand', 'Pijn_pip 4 rechts hand', 'Pijn_pip 5 links hand', 'Pijn_pip 5 rechts hand', \n",
    " 'Pijn_mcp 1 links', 'Pijn_mcp 1 rechts', 'Pijn_mcp 2 links', 'Pijn_mcp 2 rechts', 'Pijn_mcp 3 links', 'Pijn_mcp 3 rechts',\n",
    " 'Pijn_mcp 4 links', 'Pijn_mcp 4 rechts', 'Pijn_mcp 5 links', 'Pijn_mcp 5 rechts', 'Pijn_schouder L', 'Pijn_schouder R', 'Pijn_Elleboog L','Pijn_elleboog R',\n",
    " 'Pijn_knie links', 'Pijn_knie rechts', \n",
    "           \n",
    " 'Zwelling_pols L', 'Zwelling_pols R', 'Zwelling_pip 2 links hand',  'Zwelling_pip 2 rechts hand',\n",
    " 'Zwelling_pip 3 links hand',  'Zwelling_pip 3 rechts hand', 'Zwelling_pip 4 links hand', 'Zwelling_pip 4 rechts hand',  'Zwelling_pip 5 links hand',\n",
    " 'Zwelling_pip 5 rechts hand',  'Zwelling_mcp 1 links', 'Zwelling_mcp 1 rechts', 'Zwelling_mcp 2 links', 'Zwelling_mcp 2 rechts', 'Zwelling_mcp 3 links', 'Zwelling_mcp 3 rechts',\n",
    " 'Zwelling_mcp 4 links', 'Zwelling_mcp 4 rechts', 'Zwelling_mcp 5 links', 'Zwelling_mcp 5 rechts', \n",
    " 'Zwelling_knie links', 'Zwelling_knie rechts', 'Zwelling_schouder L', 'Zwelling_schouder R', 'Zwelling_Elleboog L',\n",
    "  'Zwelling_elleboog R',\n",
    "               \n",
    "               #  'Pijn_IP links', 'Pijn_IP rechts',  'Zwelling_IP links', 'Zwelling_IP rechts',\n",
    "                   ]\n",
    "l_DAS44 = l_DAS28 + [ 'Zwelling_sternoclaviculair L', 'Zwelling_sternoclaviculair R', 'Pijn_sternoclaviculair L', 'Pijn_sternoclaviculair R',\n",
    "               'Zwelling_acromioclaviaculair L', 'Zwelling_acromioclaviaculair R', 'Pijn_acromioclaviaculair L', 'Pijn_acromioclaviaculair R',\n",
    "                    'Pijn_onderste spronggewricht links', 'Pijn_onderste spronggewricht rechts', 'Pijn_bovenste spronggewicht links', 'Pijn_bovenste spronggewricht rechts',\n",
    "             'Zwelling_onderste spronggewricht links', 'Zwelling_onderste spronggewricht rechts', 'Zwelling_bovenste spronggewicht links', 'Zwelling_bovenste spronggewricht rechts',\n",
    "                'Pijn_mtp 2 links', 'Pijn_mtp 2 rechts', 'Pijn_mtp 3 links', 'Pijn_mtp 3 rechts', 'Pijn_mtp 4 links', 'Pijn_mtp 4 rechts',\n",
    " 'Pijn_mtp 5 links', 'Pijn_mtp 5 rechts','Zwelling_mtp 2 links', 'Zwelling_mtp 2 rechts', 'Zwelling_mtp 3 links', 'Zwelling_mtp 3 rechts', 'Zwelling_mtp 4 links', 'Zwelling_mtp 4 rechts',\n",
    " 'Zwelling_mtp 5 links', 'Zwelling_mtp 5 rechts',\n",
    "              ]\n",
    "    \n",
    "metadata_rep = pd.read_csv('../extractions/20240205_Clustering/metadata_rzwn.csv', sep='|')\n",
    "\n",
    "d_tjc44= dict(zip(metadata_rep['PATNR'], metadata_rep[[col for col in l_DAS44 if 'Pijn' in col]].sum(axis=1)))\n",
    "d_sjc44= dict(zip(metadata_rep['PATNR'], metadata_rep[[col for col in l_DAS44 if 'Zwelling' in col]].sum(axis=1)))\n",
    "\n",
    "def IQR(data):\n",
    "    # First quartile (Q1)\n",
    "    Q1 = np.percentile(data, 25, interpolation = 'midpoint')\n",
    "\n",
    "    # Third quartile (Q3)\n",
    "    Q3 = np.percentile(data, 75, interpolation = 'midpoint')\n",
    "   \n",
    "    # Interquaritle range (IQR)\n",
    "    iqr = Q3 - Q1\n",
    "    return [Q1, Q3]\n",
    "#'Wait time, days (median+-IQR)', \n",
    "df_summary = pd.DataFrame(columns=['cluster', 'N', 'DMARD [n(%)]', 'Sex, F [n(%)]','Age (mean+-SD, yr)', 'BMI (mean+-SD)', 'RF [n(%)]', 'ACPA [n(%)]', 'ESR (median+-IQR)', 'CRP (median+-IQR)', 'SJC (median+-IQR)','TJC (median+-IQR)',  'Visits (median+-IQR)', 'Follow Up (median+-IQR)', 'RF_na [n(%)]','ACPA_na [n(%)]', 'ESR_na [n(%)]' , 'CRP_na [n(%)]', 'SJC_na [n(%)]' , 'TJC_na [n(%)]', 'BMI_na [n(%)]', 'DAS44', 'DAS28', 'DAS44_na [n(%)]' , 'DAS28_na [n(%)]' ]) #TreatSwitch [n(%)]', \n",
    "\n",
    "def generate_baseline_ref(df_baseline, name = 'All'):\n",
    "    return [name, '%.2f' % len(df_baseline['Identifier'].unique()), \n",
    "     '%.0f (%.1f)' % (len(df_baseline[~df_baseline['FirstDMARD_date'].isna()]), (max(0.00001, len(df_baseline[~df_baseline['FirstDMARD_date'].isna()]))/len(df_baseline))*100),\n",
    "     '%.0f (%.1f)' % (np.sum(df_baseline['Sex']), np.mean(df_baseline['Sex']) * 100),  '%.1f (%.1f)' % (np.mean(df_baseline['Age']), np.std(df_baseline['Age'])), \n",
    "     '%.1f (%.1f)' % (np.mean(df_baseline[~df_baseline['BMI_raw'].isna()]['BMI_raw']), np.std(df_baseline[~df_baseline['BMI_raw'].isna()]['BMI_raw'])),\n",
    "     #'%.1f (%.1f-%.1f)' % (np.median(df_baseline['deltaref']), IQR(df_baseline['deltaref'])[0], IQR(df_baseline['deltaref'])[1]), \n",
    "     '%.0f (%.1f)' % (np.sum(df_baseline['RF']), np.mean(df_baseline['RF']) * 100), \n",
    "     '%.0f (%.1f)' % (np.sum(df_baseline['ACPA']), np.mean(df_baseline['ACPA']) * 100),\n",
    "     '%.1f (%.1f-%.1f)' % (np.median(df_baseline[~df_baseline['ESR_raw'].isna()]['ESR_raw']), IQR(df_baseline[~df_baseline['ESR_raw'].isna()]['ESR_raw'])[0], IQR(df_baseline[~df_baseline['ESR_raw'].isna()]['ESR_raw'])[1]),\n",
    "     '%.1f (%.1f-%.1f)' % (np.median(df_baseline[~df_baseline['CRP_raw'].isna()]['CRP_raw']), IQR(df_baseline[~df_baseline['CRP_raw'].isna()]['CRP_raw'])[0], IQR(df_baseline[~df_baseline['CRP_raw'].isna()]['CRP_raw'])[1]),\n",
    "     '%.1f (%.1f-%.1f)' % (np.median(df_baseline[~df_baseline['SJC'].isna()]['SJC']), IQR(df_baseline[~df_baseline['SJC'].isna()]['SJC'])[0], IQR(df_baseline[~df_baseline['SJC'].isna()]['SJC'])[1]) if len(df_baseline[~df_baseline['SJC'].isna()]) > 0 else 0,\n",
    "     '%.1f (%.1f-%.1f)' % (np.median(df_baseline[~df_baseline['TJC'].isna()]['TJC']), IQR(df_baseline[~df_baseline['TJC'].isna()]['TJC'])[0], IQR(df_baseline[~df_baseline['TJC'].isna()]['TJC'])[1]) if len(df_baseline[~df_baseline['TJC'].isna()]) > 0 else 0,\n",
    "     '%.1f (%.1f-%.1f)' % (np.median(df_baseline['Visits']), IQR(df_baseline['Visits'])[0], IQR(df_baseline['Visits'])[1]),\n",
    "     '%.1f (%.1f-%.1f)' % (np.median(df_baseline['FollowUp']), IQR(df_baseline['FollowUp'])[0], IQR(df_baseline['FollowUp'])[1]),\n",
    "     '%.0f (%.1f)' % (len(df_baseline[df_baseline['RF'].isna()]), (len(df_baseline[df_baseline['RF'].isna()])/len(df_baseline))*100), '%.0f (%.1f)' % (len(df_baseline[df_baseline['ACPA'].isna()]), (len(df_baseline[df_baseline['ACPA'].isna()])/len(df_baseline))*100),\n",
    "     '%.0f (%.1f)' % (len(df_baseline[df_baseline['ESR_raw'].isna()]), (len(df_baseline[df_baseline['ESR_raw'].isna()])/len(df_baseline))*100),\n",
    "     '%.0f (%.1f)' % (len(df_baseline[df_baseline['CRP_raw'].isna()]), (len(df_baseline[df_baseline['CRP_raw'].isna()])/len(df_baseline))*100),\n",
    "     '%.0f (%.1f)' % (len(df_baseline[df_baseline['SJC'].isna()]), (len(df_baseline[df_baseline['SJC'].isna()])/len(df_baseline))*100),\n",
    "     '%.0f (%.1f)' % (len(df_baseline[df_baseline['TJC'].isna()]), (len(df_baseline[df_baseline['TJC'].isna()])/len(df_baseline))*100),\n",
    "     '%.0f (%.1f)' % (len(df_baseline[df_baseline['BMI_raw'].isna()]), (len(df_baseline[df_baseline['BMI_raw'].isna()])/len(df_baseline))*100),\n",
    "     '%.1f (%.1f-%.1f)' % (np.median(df_baseline[~df_baseline['DAS44'].isna()]['DAS44']), IQR(df_baseline[~df_baseline['DAS44'].isna()]['DAS44'])[0], IQR(df_baseline[~df_baseline['DAS44'].isna()]['DAS44'])[1]) if len(df_baseline[~df_baseline['DAS44'].isna()]) > 0 else 0,\n",
    "     '%.1f (%.1f-%.1f)' % (np.median(df_baseline[~df_baseline['DAS28'].isna()]['DAS28']), IQR(df_baseline[~df_baseline['DAS28'].isna()]['DAS28'])[0], IQR(df_baseline[~df_baseline['DAS28'].isna()]['DAS28'])[1]) if len(df_baseline[~df_baseline['DAS28'].isna()]) > 0 else 0,\n",
    "     '%.0f (%.1f)' % (len(df_baseline[df_baseline['DAS44'].isna()]), (len(df_baseline[df_baseline['DAS44'].isna()])/len(df_baseline))*100),\n",
    "     '%.0f (%.1f)' % (len(df_baseline[df_baseline['DAS28'].isna()]), (len(df_baseline[df_baseline['DAS28'].isna()])/len(df_baseline))*100),\n",
    "           \n",
    "           ]\n",
    "\n",
    "def calculate_DAS44(tjc, sjc, esr):\n",
    "    \"\"\"\n",
    "    Calculate DAS44 with 3 variables : RAI, SJC and ESR (BSE)\n",
    "    \"\"\"\n",
    "\n",
    "    das44= (0.53938 * np.sqrt(tjc) + 0.0650 * (sjc) + 0.330 * np.log(esr)) + 0.224 #0.224\n",
    "    return das44\n",
    "\n",
    "def calculate_DAS28(tjc, sjc, esr):\n",
    "    \"\"\"\n",
    "    Calculate DAS28 with 3 variables : TJC, SJC and ESR (BSE)\n",
    "    \"\"\"\n",
    "    das28 = (0.56 * np.sqrt(tjc) + 0.28 * np.sqrt(sjc) + 0.70 * np.log(esr)) * 1.08 + 0.16\n",
    "    return das28\n",
    "\n",
    "df_demograph['DAS44'] = df_demograph.apply(lambda x : calculate_DAS44(x['SJC'], x['TJC'], x['ESR_raw']), axis=1)\n",
    "df_demograph['DAS28'] = df_demograph.apply(lambda x : calculate_DAS28(x['SJC'], x['TJC'], x['ESR_raw']), axis=1)\n",
    "\n",
    "# select non RA \n",
    "nonFinal = df_demograph[((~df_demograph['FirstDMARD_date'].isna()) & (df_demograph['Identifier'].isin(l_pat_RA)) & (~df_demograph['Identifier'].isin(l_pat_final)))].drop_duplicates(subset=['Identifier'])\n",
    "RA = df_demograph[((~df_demograph['FirstDMARD_date'].isna()) & (df_demograph['Identifier'].isin(l_pat_final)))].drop_duplicates(subset=['Identifier'])\n",
    "\n",
    "\n",
    "\n",
    "df_summary.loc[0] = generate_baseline_ref(nonFinal, 'inComplete')\n",
    "df_summary.loc[1] = generate_baseline_ref(RA, 'Complete')\n",
    "\n",
    "df_summary = df_summary.reset_index(drop=True)\n",
    "df_summary.T"
   ]
  },
  {
   "cell_type": "code",
   "execution_count": 28,
   "id": "9ff1044f",
   "metadata": {},
   "outputs": [
    {
     "data": {
      "text/plain": [
       "<AxesSubplot:>"
      ]
     },
     "execution_count": 28,
     "metadata": {},
     "output_type": "execute_result"
    },
    {
     "data": {
      "image/png": "[encoded data removed]",
      "text/plain": [
       "<Figure size 1800x720 with 2 Axes>"
      ]
     },
     "metadata": {
      "needs_background": "light"
     },
     "output_type": "display_data"
    }
   ],
   "source": [
    "import missingno as msno\n",
    "\n",
    "l_essential = ['Identifier', 'Sex', 'Age',  'FollowUp', 'ACPA', 'RF', 'ESR_raw', 'SJC', 'TJC', 'Hb', 'Ht','MCV',  'MCHC', 'MCH', 'Leuko', 'Trom']\n",
    "\n",
    "msno.matrix(msno.nullity_sort(nonFinal[l_essential],\n",
    "    sort='ascending'))\n"
   ]
  }
 ],
 "metadata": {
  "kernelspec": {
   "display_name": "Python (keras_env)",
   "language": "python",
   "name": "keras_env"
  },
  "language_info": {
   "codemirror_mode": {
    "name": "ipython",
    "version": 3
   },
   "file_extension": ".py",
   "mimetype": "text/x-python",
   "name": "python",
   "nbconvert_exporter": "python",
   "pygments_lexer": "ipython3",
   "version": "3.6.13"
  }
 },
 "nbformat": 4,
 "nbformat_minor": 5
}
